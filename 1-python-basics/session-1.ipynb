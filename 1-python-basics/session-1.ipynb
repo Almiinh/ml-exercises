{
 "cells": [
  {
   "cell_type": "markdown",
   "metadata": {},
   "source": [
    "# Session 1 : Discovering Data Analysis libraries"
   ]
  },
  {
   "cell_type": "markdown",
   "metadata": {},
   "source": [
    "## Jupyter notebook"
   ]
  },
  {
   "cell_type": "markdown",
   "metadata": {},
   "source": [
    "Jupyter notebooks allow you to create/edit/view documents that contain code snippets and other types of data (like images, tables or even formula) with a web interface. Code snippets can be executed and the results will be displayed in your document.\n",
    "\n",
    "In our case, every time you run a Python code snippet, the browser sends a request to the server, the server interprets the code, and returns the result to the browser. Select the block below this paragraph and click the \"Run\" icon in the toolbar."
   ]
  },
  {
   "cell_type": "code",
   "execution_count": 5,
   "metadata": {},
   "outputs": [
    {
     "name": "stdout",
     "output_type": "stream",
     "text": [
      "13 * 14 equals 182\n"
     ]
    }
   ],
   "source": [
    "print(\"13 * 14 equals\", 13 * 14)"
   ]
  },
  {
   "cell_type": "markdown",
   "metadata": {},
   "source": [
    "Go to the \"Help\" section in the menu bar, and select \"User Interface Tour\" to know more about how to interact with a Jupyter notebook. Once this is done, select again the previous code cell, and add a line of code similar to the one already existing to print the result of 14 * 14. "
   ]
  },
  {
   "cell_type": "code",
   "execution_count": 6,
   "metadata": {},
   "outputs": [],
   "source": [
    "# Cells in Jupyter notebook can either be a code cell or a markdown cell. You can modify the type of a cell with the appropriate item in the toolbar. Markdown is more suited when you need to explain something with text. Modify this cell so it becomes a markdown cell. You might need to do something more so it appears like a regular paragraph."
   ]
  },
  {
   "cell_type": "markdown",
   "metadata": {},
   "source": [
    "### IPython"
   ]
  },
  {
   "cell_type": "markdown",
   "metadata": {},
   "source": [
    "Jupyter notebooks rely on IPython, an enhanced shell compared to the basic Python shell. You can launch IPython on a command line with the command ```ipython```, but you can also use the code cells of a Jupyter notebook.\n",
    "\n",
    "By default, IPython prints the string representation of variables if they are the only expression of a line (even if no explicit print was written)."
   ]
  },
  {
   "cell_type": "code",
   "execution_count": 7,
   "metadata": {},
   "outputs": [],
   "source": [
    "number = 10 # declaration of a variable named `number`"
   ]
  },
  {
   "cell_type": "code",
   "execution_count": 8,
   "metadata": {},
   "outputs": [
    {
     "data": {
      "text/plain": [
       "10"
      ]
     },
     "execution_count": 8,
     "metadata": {},
     "output_type": "execute_result"
    }
   ],
   "source": [
    "number      # show the string representation of `number`"
   ]
  },
  {
   "cell_type": "markdown",
   "metadata": {},
   "source": [
    "There is a difference between using the print() function, and using the default string representation of IPython (which is \"prettier\" than basic print() function)."
   ]
  },
  {
   "cell_type": "code",
   "execution_count": 9,
   "metadata": {},
   "outputs": [
    {
     "name": "stdout",
     "output_type": "stream",
     "text": [
      "{'A': 1, 'B': 2, 'C': 4, 'D': 8, 'E': 16, 'F': 1, 'G': 2, 'H': 4, 'I': 8, 'J': 16, 'K': 1, 'L': 2, 'M': 4, 'N': 8, 'O': 16, 'P': 1, 'Q': 2, 'R': 4, 'S': 8, 'T': 16, 'U': 1, 'V': 2, 'W': 4, 'X': 8, 'Y': 16, 'Z': 1}\n"
     ]
    }
   ],
   "source": [
    "code = {'A': 1, 'B': 2, 'C': 4, 'D': 8, 'E': 16,\n",
    "        'F': 1, 'G': 2, 'H': 4, 'I': 8, 'J': 16,\n",
    "        'K': 1, 'L': 2, 'M': 4, 'N': 8, 'O': 16,\n",
    "        'P': 1, 'Q': 2, 'R': 4, 'S': 8, 'T': 16,\n",
    "        'U': 1, 'V': 2, 'W': 4, 'X': 8, 'Y': 16,\n",
    "        'Z': 1\n",
    "       }\n",
    "print(code)"
   ]
  },
  {
   "cell_type": "code",
   "execution_count": 10,
   "metadata": {},
   "outputs": [
    {
     "data": {
      "text/plain": [
       "{'A': 1,\n",
       " 'B': 2,\n",
       " 'C': 4,\n",
       " 'D': 8,\n",
       " 'E': 16,\n",
       " 'F': 1,\n",
       " 'G': 2,\n",
       " 'H': 4,\n",
       " 'I': 8,\n",
       " 'J': 16,\n",
       " 'K': 1,\n",
       " 'L': 2,\n",
       " 'M': 4,\n",
       " 'N': 8,\n",
       " 'O': 16,\n",
       " 'P': 1,\n",
       " 'Q': 2,\n",
       " 'R': 4,\n",
       " 'S': 8,\n",
       " 'T': 16,\n",
       " 'U': 1,\n",
       " 'V': 2,\n",
       " 'W': 4,\n",
       " 'X': 8,\n",
       " 'Y': 16,\n",
       " 'Z': 1}"
      ]
     },
     "execution_count": 10,
     "metadata": {},
     "output_type": "execute_result"
    }
   ],
   "source": [
    "code"
   ]
  },
  {
   "cell_type": "markdown",
   "metadata": {},
   "source": [
    "IPython has built-in TAB completion. Try to type the first letters of the variable number (like `nu`) and then type TAB."
   ]
  },
  {
   "cell_type": "code",
   "execution_count": 11,
   "metadata": {},
   "outputs": [
    {
     "data": {
      "text/plain": [
       "10"
      ]
     },
     "execution_count": 11,
     "metadata": {},
     "output_type": "execute_result"
    }
   ],
   "source": [
    "number"
   ]
  },
  {
   "cell_type": "markdown",
   "metadata": {},
   "source": [
    "TAB completion also works for methods of Python object. Type `b.` then type TAB."
   ]
  },
  {
   "cell_type": "code",
   "execution_count": 12,
   "metadata": {},
   "outputs": [],
   "source": [
    "b = [1, 2, 3, 4, 5, 6, 7, 8]"
   ]
  },
  {
   "cell_type": "code",
   "execution_count": 13,
   "metadata": {},
   "outputs": [
    {
     "name": "stdout",
     "output_type": "stream",
     "text": [
      "\u001b[1;31mType:\u001b[0m        list\n",
      "\u001b[1;31mString form:\u001b[0m [1, 2, 3, 4, 5, 6, 7, 8]\n",
      "\u001b[1;31mLength:\u001b[0m      8\n",
      "\u001b[1;31mDocstring:\u001b[0m  \n",
      "Built-in mutable sequence.\n",
      "\n",
      "If no argument is given, the constructor creates a new empty list.\n",
      "The argument must be an iterable if specified."
     ]
    }
   ],
   "source": [
    "b?"
   ]
  },
  {
   "cell_type": "markdown",
   "metadata": {},
   "source": [
    "IPython can display information and documentation about objects or functions if you add a `?` before/after the name, like `?b` or `b?`. Print the documentation of the object `code` in the cell below."
   ]
  },
  {
   "cell_type": "code",
   "execution_count": 14,
   "metadata": {},
   "outputs": [
    {
     "name": "stdout",
     "output_type": "stream",
     "text": [
      "\u001b[1;31mType:\u001b[0m        list\n",
      "\u001b[1;31mString form:\u001b[0m [1, 2, 3, 4, 5, 6, 7, 8]\n",
      "\u001b[1;31mLength:\u001b[0m      8\n",
      "\u001b[1;31mDocstring:\u001b[0m  \n",
      "Built-in mutable sequence.\n",
      "\n",
      "If no argument is given, the constructor creates a new empty list.\n",
      "The argument must be an iterable if specified."
     ]
    }
   ],
   "source": [
    "?b"
   ]
  },
  {
   "cell_type": "markdown",
   "metadata": {},
   "source": [
    "If you use a double `??` on a function, it will try to display the source code of the function. Print the source code of the function randrange from the random library in the cell below. "
   ]
  },
  {
   "cell_type": "code",
   "execution_count": 15,
   "metadata": {},
   "outputs": [
    {
     "name": "stdout",
     "output_type": "stream",
     "text": [
      "\u001b[1;31mSignature:\u001b[0m  \u001b[0mrandom\u001b[0m\u001b[1;33m.\u001b[0m\u001b[0mrandrange\u001b[0m\u001b[1;33m(\u001b[0m\u001b[0mstart\u001b[0m\u001b[1;33m,\u001b[0m \u001b[0mstop\u001b[0m\u001b[1;33m=\u001b[0m\u001b[1;32mNone\u001b[0m\u001b[1;33m,\u001b[0m \u001b[0mstep\u001b[0m\u001b[1;33m=\u001b[0m\u001b[1;36m1\u001b[0m\u001b[1;33m)\u001b[0m\u001b[1;33m\u001b[0m\u001b[1;33m\u001b[0m\u001b[0m\n",
      "\u001b[1;31mDocstring:\u001b[0m\n",
      "Choose a random item from range(start, stop[, step]).\n",
      "\n",
      "This fixes the problem with randint() which includes the\n",
      "endpoint; in Python this is usually not what you want.\n",
      "\u001b[1;31mFile:\u001b[0m      c:\\programdata\\miniconda3\\lib\\random.py\n",
      "\u001b[1;31mType:\u001b[0m      method"
     ]
    }
   ],
   "source": [
    "import random\n",
    "? random.randrange"
   ]
  },
  {
   "cell_type": "markdown",
   "metadata": {},
   "source": [
    "IPython has some special commands known as \"magic command\". They are preceeded with a `%`. There are many magic commands, you can list them with `%lsmagic`, and then read the documentation with `%some_command?`. Some of them are :\n",
    "\n",
    "* `%run path/to/script.py` : run the script.py file, print the result in notebook. Variables/functions declared in script.py can then be used in the notebook.\n",
    "* `%timeit` : measure the execution time of a function or a block of code.\n",
    "* `%reset` : delete all declared variables."
   ]
  },
  {
   "cell_type": "code",
   "execution_count": 16,
   "metadata": {},
   "outputs": [],
   "source": [
    "def f(a, b, c):\n",
    "    return (a ** b) % c"
   ]
  },
  {
   "cell_type": "code",
   "execution_count": 17,
   "metadata": {},
   "outputs": [
    {
     "name": "stdout",
     "output_type": "stream",
     "text": [
      "3.64 µs ± 813 ns per loop (mean ± std. dev. of 7 runs, 100,000 loops each)\n"
     ]
    }
   ],
   "source": [
    "%timeit f(7999, 123, 10000007)"
   ]
  },
  {
   "cell_type": "markdown",
   "metadata": {},
   "source": [
    "IPython can also run UNIX commands by preceeding the name of the command with `!`. Use this syntax to know the current working directory, and print the date and calendar of the current month."
   ]
  },
  {
   "cell_type": "code",
   "execution_count": null,
   "metadata": {},
   "outputs": [],
   "source": []
  },
  {
   "cell_type": "markdown",
   "metadata": {},
   "source": [
    "TAB completion also work when you want to use UNIX commands to interact with files or directories in your system. Type `!ls -l /ho` then TAB to get information about files in your HOME directory."
   ]
  },
  {
   "cell_type": "code",
   "execution_count": 18,
   "metadata": {},
   "outputs": [
    {
     "name": "stderr",
     "output_type": "stream",
     "text": [
      "'ls' is not recognized as an internal or external command,\n",
      "operable program or batch file.\n"
     ]
    }
   ],
   "source": [
    "!ls -l C:/Program Files\""
   ]
  },
  {
   "cell_type": "markdown",
   "metadata": {},
   "source": [
    "## Numpy"
   ]
  },
  {
   "cell_type": "markdown",
   "metadata": {},
   "source": [
    "Numpy is a Python library that implements very fast arrays operations as well as a faster data structure for multi-dimensional arrays (ndarrays). Numpy is the fundamental library for scientific computing and data analysis, as many other libraries (pandas, scipy...) are built on top of it.\n",
    "\n",
    "Numpy has many routines written in C/C++/FORTRAN and provides tools to integrate code written in these languages when high performances are required. This means that a program  doing computations with Numpy is **A LOT faster** than the same program written in pure Python.\n",
    "\n",
    "The first thing in many Numpy programs is to import the library. The name `np` is a convention (and you might find it very often if you look for code samples on the Web)."
   ]
  },
  {
   "cell_type": "code",
   "execution_count": 19,
   "metadata": {},
   "outputs": [],
   "source": [
    "import numpy as np"
   ]
  },
  {
   "cell_type": "markdown",
   "metadata": {},
   "source": [
    "### ndarrays : Numpy arrays"
   ]
  },
  {
   "cell_type": "markdown",
   "metadata": {},
   "source": [
    "The main data type of Numpy is the ndarray. It is a multi-dimensional array of homogeneous data (all data have the same type). You can create one by passing a list to the `np.array()` function for 1D array, or a nested list for a multi-dimensional array."
   ]
  },
  {
   "cell_type": "code",
   "execution_count": 20,
   "metadata": {},
   "outputs": [
    {
     "data": {
      "text/plain": [
       "array([  1.3 ,   7.9 ,  11.89, -23.9 ])"
      ]
     },
     "execution_count": 20,
     "metadata": {},
     "output_type": "execute_result"
    }
   ],
   "source": [
    "simple_arr = np.array([1.3, 7.9, 11.89, -23.9])\n",
    "simple_arr"
   ]
  },
  {
   "cell_type": "code",
   "execution_count": 21,
   "metadata": {},
   "outputs": [
    {
     "data": {
      "text/plain": [
       "array([[1, 2, 3],\n",
       "       [4, 5, 6]])"
      ]
     },
     "execution_count": 21,
     "metadata": {},
     "output_type": "execute_result"
    }
   ],
   "source": [
    "arr = np.array([[1, 2, 3], [4, 5, 6]])\n",
    "arr"
   ]
  },
  {
   "cell_type": "markdown",
   "metadata": {},
   "source": [
    "Every ndarrays have a `shape` and a data type `dtype`."
   ]
  },
  {
   "cell_type": "code",
   "execution_count": 22,
   "metadata": {},
   "outputs": [
    {
     "name": "stdout",
     "output_type": "stream",
     "text": [
      "(2, 3)\n",
      "int32\n"
     ]
    }
   ],
   "source": [
    "print(arr.shape)\n",
    "print(arr.dtype)"
   ]
  },
  {
   "cell_type": "markdown",
   "metadata": {},
   "source": [
    "You can also cast a ndarray to change its data type."
   ]
  },
  {
   "cell_type": "code",
   "execution_count": 23,
   "metadata": {},
   "outputs": [
    {
     "data": {
      "text/plain": [
       "array([[1., 2., 3.],\n",
       "       [4., 5., 6.]], dtype=float32)"
      ]
     },
     "execution_count": 23,
     "metadata": {},
     "output_type": "execute_result"
    }
   ],
   "source": [
    "arr.astype(np.float32)"
   ]
  },
  {
   "cell_type": "markdown",
   "metadata": {},
   "source": [
    "Create a 3-dimensional ndarray `forme` of shape (3, 2, 3) where element at coordinates `(i, j, k)` has the value `(i+j)*k`. Change its type to unsigned 16-bit integer."
   ]
  },
  {
   "cell_type": "code",
   "execution_count": 24,
   "metadata": {},
   "outputs": [
    {
     "data": {
      "text/plain": [
       "array([[[0, 0, 0],\n",
       "        [0, 1, 2]],\n",
       "\n",
       "       [[0, 1, 2],\n",
       "        [0, 2, 4]],\n",
       "\n",
       "       [[0, 2, 4],\n",
       "        [0, 3, 6]]])"
      ]
     },
     "execution_count": 24,
     "metadata": {},
     "output_type": "execute_result"
    }
   ],
   "source": [
    "np.array([[[(i+j)*k for k in range(3)] for j in range(2)] for i in range (3)])"
   ]
  },
  {
   "cell_type": "markdown",
   "metadata": {},
   "source": [
    "Using operators `+, -, /, *, %` or `**` on a ndarray will compute the operation for each element individually."
   ]
  },
  {
   "cell_type": "code",
   "execution_count": 25,
   "metadata": {},
   "outputs": [
    {
     "data": {
      "text/plain": [
       "array([[ 5, 10, 15],\n",
       "       [20, 25, 30]])"
      ]
     },
     "execution_count": 25,
     "metadata": {},
     "output_type": "execute_result"
    }
   ],
   "source": [
    "arr * 5"
   ]
  },
  {
   "cell_type": "code",
   "execution_count": 26,
   "metadata": {},
   "outputs": [
    {
     "data": {
      "text/plain": [
       "array([[-19.1, -18.1, -17.1],\n",
       "       [-16.1, -15.1, -14.1]])"
      ]
     },
     "execution_count": 26,
     "metadata": {},
     "output_type": "execute_result"
    }
   ],
   "source": [
    "arr - 20.1 # cast the elements of arr to float before operation"
   ]
  },
  {
   "cell_type": "code",
   "execution_count": 27,
   "metadata": {},
   "outputs": [
    {
     "data": {
      "text/plain": [
       "array([[1.        , 1.41421356, 1.73205081],\n",
       "       [2.        , 2.23606798, 2.44948974]])"
      ]
     },
     "execution_count": 27,
     "metadata": {},
     "output_type": "execute_result"
    }
   ],
   "source": [
    "arr ** 0.5"
   ]
  },
  {
   "cell_type": "code",
   "execution_count": 28,
   "metadata": {},
   "outputs": [
    {
     "data": {
      "text/plain": [
       "array([[1.        , 0.5       , 0.33333333],\n",
       "       [0.25      , 0.2       , 0.16666667]])"
      ]
     },
     "execution_count": 28,
     "metadata": {},
     "output_type": "execute_result"
    }
   ],
   "source": [
    "1 / arr"
   ]
  },
  {
   "cell_type": "markdown",
   "metadata": {},
   "source": [
    "### Creating ndarrays"
   ]
  },
  {
   "cell_type": "markdown",
   "metadata": {},
   "source": [
    "Numpy have some prebuilt functions to create special kind of arrays."
   ]
  },
  {
   "cell_type": "code",
   "execution_count": 29,
   "metadata": {},
   "outputs": [
    {
     "data": {
      "text/plain": [
       "array([1., 1., 1., 1., 1., 1., 1., 1., 1., 1.])"
      ]
     },
     "execution_count": 29,
     "metadata": {},
     "output_type": "execute_result"
    }
   ],
   "source": [
    "# array of ten '1'\n",
    "np.ones(10)"
   ]
  },
  {
   "cell_type": "code",
   "execution_count": 30,
   "metadata": {},
   "outputs": [
    {
     "data": {
      "text/plain": [
       "array([[[1., 1.],\n",
       "        [1., 1.],\n",
       "        [1., 1.]],\n",
       "\n",
       "       [[1., 1.],\n",
       "        [1., 1.],\n",
       "        [1., 1.]]])"
      ]
     },
     "execution_count": 30,
     "metadata": {},
     "output_type": "execute_result"
    }
   ],
   "source": [
    "# multi-dimensional array of '1' (use a tuple as parameter\n",
    "# to specify the dimensions)\n",
    "np.ones((2, 3, 2)) "
   ]
  },
  {
   "cell_type": "code",
   "execution_count": 31,
   "metadata": {},
   "outputs": [
    {
     "data": {
      "text/plain": [
       "array([[0., 0., 0., 0.],\n",
       "       [0., 0., 0., 0.]])"
      ]
     },
     "execution_count": 31,
     "metadata": {},
     "output_type": "execute_result"
    }
   ],
   "source": [
    "# multi-dimensional array of '0'\n",
    "np.zeros((2, 4)) "
   ]
  },
  {
   "cell_type": "code",
   "execution_count": 32,
   "metadata": {},
   "outputs": [
    {
     "data": {
      "text/plain": [
       "array([[1., 0., 0., 0.],\n",
       "       [0., 1., 0., 0.],\n",
       "       [0., 0., 1., 0.],\n",
       "       [0., 0., 0., 1.]])"
      ]
     },
     "execution_count": 32,
     "metadata": {},
     "output_type": "execute_result"
    }
   ],
   "source": [
    "# 4x4 identity matrix\n",
    "np.eye(4) "
   ]
  },
  {
   "cell_type": "code",
   "execution_count": 33,
   "metadata": {},
   "outputs": [
    {
     "data": {
      "text/plain": [
       "array([ 0,  1,  2,  3,  4,  5,  6,  7,  8,  9, 10, 11, 12, 13, 14, 15])"
      ]
     },
     "execution_count": 33,
     "metadata": {},
     "output_type": "execute_result"
    }
   ],
   "source": [
    "# array of integers from 0 to 15\n",
    "np.arange(16)"
   ]
  },
  {
   "cell_type": "code",
   "execution_count": 34,
   "metadata": {},
   "outputs": [
    {
     "data": {
      "text/plain": [
       "array([[0, 1, 2],\n",
       "       [3, 4, 5],\n",
       "       [6, 7, 8]])"
      ]
     },
     "execution_count": 34,
     "metadata": {},
     "output_type": "execute_result"
    }
   ],
   "source": [
    "# you can transform a 1D array to a matrix with the \n",
    "# reshape() method\n",
    "np.arange(9).reshape((3, 3))"
   ]
  },
  {
   "cell_type": "code",
   "execution_count": 35,
   "metadata": {},
   "outputs": [
    {
     "name": "stdout",
     "output_type": "stream",
     "text": [
      "(2, 6)\n",
      "(3, 4)\n",
      "(2, 6)\n"
     ]
    }
   ],
   "source": [
    "# reshape() can also be used to change the \n",
    "# dimensions of an exsiting matrix\n",
    "x = np.ones((2, 6))\n",
    "print(x.shape)\n",
    "y = x.reshape((3, 4))  # create new matrix, x remains a (2,6) matrix\n",
    "print(y.shape)\n",
    "print(x.shape) # same as before"
   ]
  },
  {
   "cell_type": "markdown",
   "metadata": {},
   "source": [
    "Use the prebuilt functions as well as the operations between matrices and scalar to build a (6, 6) matrix that looks like this:\n",
    "```\n",
    " 5.2   11.2   12.2   ...  15.2\n",
    "16.2   12.2   18.2   ...  21.2\n",
    "  ...\n",
    "40.2   41.2               40.2\n",
    "```"
   ]
  },
  {
   "cell_type": "code",
   "execution_count": 36,
   "metadata": {},
   "outputs": [
    {
     "data": {
      "text/plain": [
       "array([[ 5.2, 11.2, 12.2, 13.2, 14.2, 15.2],\n",
       "       [16.2, 12.2, 18.2, 19.2, 20.2, 21.2],\n",
       "       [22.2, 23.2, 19.2, 25.2, 26.2, 27.2],\n",
       "       [28.2, 29.2, 30.2, 26.2, 32.2, 33.2],\n",
       "       [34.2, 35.2, 36.2, 37.2, 33.2, 39.2],\n",
       "       [40.2, 41.2, 42.2, 43.2, 44.2, 40.2]])"
      ]
     },
     "execution_count": 36,
     "metadata": {},
     "output_type": "execute_result"
    }
   ],
   "source": [
    "np.arange(36).reshape((6, 6))+10.2 - 5*np.eye(6)"
   ]
  },
  {
   "cell_type": "markdown",
   "metadata": {},
   "source": [
    "### Operations on matrices"
   ]
  },
  {
   "cell_type": "markdown",
   "metadata": {},
   "source": [
    "You can access the elements of a 1D ndarray in the same way as for a Python list."
   ]
  },
  {
   "cell_type": "code",
   "execution_count": 37,
   "metadata": {},
   "outputs": [
    {
     "name": "stdout",
     "output_type": "stream",
     "text": [
      "a = [0 1 2 3 4 5 6 7 8 9]\n",
      "a[6] = 6\n",
      "a[2:5] = [2 3 4]\n"
     ]
    }
   ],
   "source": [
    "a = np.arange(10)\n",
    "print(\"a =\", a)\n",
    "print(\"a[6] =\", a[6])\n",
    "print(\"a[2:5] =\", a[2:5])"
   ]
  },
  {
   "cell_type": "markdown",
   "metadata": {},
   "source": [
    "When you slice a ndarray and assign it to another variable, you actually create **a view**: the elements are not copied, they are still the elements of the original array. This means that any modifications you do on a view will modify the original array as well.\n",
    "\n",
    "Most of the operations you can do on a ndarray will return a view, so be careful when you use them."
   ]
  },
  {
   "cell_type": "code",
   "execution_count": 38,
   "metadata": {},
   "outputs": [
    {
     "name": "stdout",
     "output_type": "stream",
     "text": [
      "[0 1 2 3 4 5 6 7 8 9]\n",
      "[  0   1   2   3 999   5   6   7   8   9]\n"
     ]
    }
   ],
   "source": [
    "x = np.arange(10)\n",
    "print(x)\n",
    "slice_x = x[3:7]\n",
    "slice_x[1] = 999\n",
    "print(x) # x now contains the value 999, even if we modified slice_x"
   ]
  },
  {
   "cell_type": "markdown",
   "metadata": {},
   "source": [
    "For multi-dimensional arrays, you can use the Python syntax ``ar[i][j]`` or the simpler version ``ar[i, j]``. In this case, ``i`` represents the row, ``j`` represents the column. If you use ``:`` as a row (resp. column), it will select all rows (resp. columns) according to the column (resp. row)."
   ]
  },
  {
   "cell_type": "code",
   "execution_count": 39,
   "metadata": {},
   "outputs": [
    {
     "name": "stdout",
     "output_type": "stream",
     "text": [
      "[[ 0  1  2  3  4]\n",
      " [ 5  6  7  8  9]\n",
      " [10 11 12 13 14]\n",
      " [15 16 17 18 19]]\n",
      "7\n",
      "7\n",
      "[ 1  6 11 16]\n"
     ]
    }
   ],
   "source": [
    "m = np.arange(20).reshape(4,5)\n",
    "print(m)\n",
    "print(m[1][2]) # element in row 2, col 3\n",
    "print(m[1, 2]) # same\n",
    "print(m[:,1])  # all rows in col 2 = entire col 2"
   ]
  },
  {
   "cell_type": "code",
   "execution_count": 40,
   "metadata": {},
   "outputs": [
    {
     "name": "stdout",
     "output_type": "stream",
     "text": [
      "[[2 3]\n",
      " [5 6]]\n"
     ]
    }
   ],
   "source": [
    "# use the correct indexes to select the square    2  3\n",
    "#                                                 5  6\n",
    "# from the matrix U\n",
    "U = np.array([[1, 2, 3], [4, 5, 6], [7, 8, 9]])\n",
    "print(U[:2,1:])"
   ]
  },
  {
   "cell_type": "markdown",
   "metadata": {},
   "source": [
    "Doing operations between two arrays with same dimensions will compute the operation elementwise."
   ]
  },
  {
   "cell_type": "code",
   "execution_count": 41,
   "metadata": {},
   "outputs": [
    {
     "name": "stdout",
     "output_type": "stream",
     "text": [
      "[[1 2]\n",
      " [3 4]]\n",
      "[[ 7 -3]\n",
      " [19 22]]\n",
      "[[ 7 -6]\n",
      " [57 88]]\n"
     ]
    }
   ],
   "source": [
    "z = np.array([[1, 2], [3, 4]])\n",
    "e = np.array([[7, -3], [19, 22]])\n",
    "print(z)\n",
    "print(e)\n",
    "print(z * e)"
   ]
  },
  {
   "cell_type": "markdown",
   "metadata": {},
   "source": [
    "You can also select rows/columns/elements given a condition."
   ]
  },
  {
   "cell_type": "code",
   "execution_count": 42,
   "metadata": {},
   "outputs": [
    {
     "name": "stdout",
     "output_type": "stream",
     "text": [
      "[[ 0.53037842 -1.59119897  0.22891385]\n",
      " [-1.55109211  0.85785075  1.6668985 ]\n",
      " [ 0.38209853  1.51102246  1.22561702]\n",
      " [ 1.09452453 -1.07028259  0.76488798]]\n"
     ]
    }
   ],
   "source": [
    "d = np.random.randn(4,3)\n",
    "print(d)        # entire matrix"
   ]
  },
  {
   "cell_type": "code",
   "execution_count": 43,
   "metadata": {},
   "outputs": [
    {
     "name": "stdout",
     "output_type": "stream",
     "text": [
      "[0.53037842 0.22891385 0.85785075 1.6668985  0.38209853 1.51102246\n",
      " 1.22561702 1.09452453 0.76488798]\n"
     ]
    }
   ],
   "source": [
    "print(d[d > 0]) # only the positive values in d"
   ]
  },
  {
   "cell_type": "code",
   "execution_count": 44,
   "metadata": {},
   "outputs": [
    {
     "name": "stdout",
     "output_type": "stream",
     "text": [
      "[[0.53037842 0.         0.22891385]\n",
      " [0.         0.85785075 1.6668985 ]\n",
      " [0.38209853 1.51102246 1.22561702]\n",
      " [1.09452453 0.         0.76488798]]\n"
     ]
    }
   ],
   "source": [
    "d[d < 0] = 0    # modify only negative elements in d\n",
    "print(d)"
   ]
  },
  {
   "cell_type": "markdown",
   "metadata": {},
   "source": [
    "### Common operations on ndarray"
   ]
  },
  {
   "cell_type": "code",
   "execution_count": 45,
   "metadata": {},
   "outputs": [
    {
     "data": {
      "text/plain": [
       "array([[-1.31229181,  0.75041614],\n",
       "       [ 0.59949235, -2.02847829],\n",
       "       [-0.39748938,  1.4359431 ],\n",
       "       [-2.02703687, -0.18102443],\n",
       "       [ 0.2378531 , -0.21378831]])"
      ]
     },
     "execution_count": 45,
     "metadata": {},
     "output_type": "execute_result"
    }
   ],
   "source": [
    "# transpose\n",
    "arr = np.random.randn(2, 5) # 2 rows, 5 cols\n",
    "arr.T # 5 rows, 2 cols"
   ]
  },
  {
   "cell_type": "code",
   "execution_count": 46,
   "metadata": {},
   "outputs": [
    {
     "name": "stdout",
     "output_type": "stream",
     "text": [
      "[[45 41]\n",
      " [97 79]]\n",
      "[[45 41]\n",
      " [97 79]]\n"
     ]
    }
   ],
   "source": [
    "# dot product\n",
    "print(np.dot(z, e))\n",
    "print(z.dot(e))"
   ]
  },
  {
   "cell_type": "code",
   "execution_count": 47,
   "metadata": {},
   "outputs": [
    {
     "name": "stdout",
     "output_type": "stream",
     "text": [
      "[[0.         0.69314718]\n",
      " [1.09861229 1.38629436]]\n",
      "[[ 0.99999834 -0.99505475]\n",
      " [ 1.          1.        ]]\n"
     ]
    }
   ],
   "source": [
    "# elementwise functions. Take only 1 ndarray in argument\n",
    "print(np.log(z))\n",
    "print(np.tanh(e))"
   ]
  },
  {
   "cell_type": "code",
   "execution_count": 48,
   "metadata": {},
   "outputs": [
    {
     "name": "stdout",
     "output_type": "stream",
     "text": [
      "[[ 8 -1]\n",
      " [22 26]]\n",
      "[[ 1 -3]\n",
      " [ 3  4]]\n",
      "[[False  True]\n",
      " [False False]]\n"
     ]
    }
   ],
   "source": [
    "# functions between two ndarrays\n",
    "print(np.add(z, e))     # same as z + e\n",
    "print(np.minimum(z, e)) # elementwise minimum\n",
    "print(z > e)            # elementwise comparison"
   ]
  },
  {
   "cell_type": "code",
   "execution_count": 49,
   "metadata": {},
   "outputs": [],
   "source": [
    "# Let's f(x) = exp(sin(x)) and g(x) = sqrt(cosh(x)).\n",
    "# Create a variable L that contains the maximum value\n",
    "# between f(x) and g(x) for x in [-5, 5] and a step\n",
    "# of 0.001. Measure the time needed to create L."
   ]
  },
  {
   "cell_type": "markdown",
   "metadata": {},
   "source": [
    "Most of the functions that compute statistics on ndarrays can be global (like computing the mean of every elements of a matrix) or along one axis (like computing the mean for every row). By default, `axis=0` operates on columns while `axis=1` operates on rows."
   ]
  },
  {
   "cell_type": "code",
   "execution_count": 50,
   "metadata": {},
   "outputs": [
    {
     "name": "stdout",
     "output_type": "stream",
     "text": [
      "[[ 0  1  2  3  4]\n",
      " [ 5  6  7  8  9]\n",
      " [10 11 12 13 14]\n",
      " [15 16 17 18 19]]\n",
      "9.5\n",
      "[ 7.5  8.5  9.5 10.5 11.5]\n",
      "[ 2.  7. 12. 17.]\n"
     ]
    }
   ],
   "source": [
    "m = np.arange(20).reshape(4,5)\n",
    "print(m)\n",
    "print(m.mean())        # global mean\n",
    "print(m.mean(axis=0))  # mean of every columns\n",
    "print(m.mean(axis=1))  # mean of every rows"
   ]
  },
  {
   "cell_type": "code",
   "execution_count": 51,
   "metadata": {},
   "outputs": [
    {
     "name": "stdout",
     "output_type": "stream",
     "text": [
      "-- x\n",
      " [[ -1.   1. -12.   7.]\n",
      " [  3.  -3.   7.  10.]\n",
      " [  5.   7.   6.  -1.]\n",
      " [  8.  -6.  -2.   3.]]\n",
      "-- sorted cols\n",
      " [[ -1.  -6. -12.  -1.]\n",
      " [  3.  -3.  -2.   3.]\n",
      " [  5.   1.   6.   7.]\n",
      " [  8.   7.   7.  10.]]\n",
      "-- sorted rows\n",
      " [[-12.  -1.   1.   7.]\n",
      " [ -3.   3.   7.  10.]\n",
      " [ -1.   5.   6.   7.]\n",
      " [ -6.  -2.   3.   8.]]\n"
     ]
    }
   ],
   "source": [
    "# the same thing happens for other methods like sort()\n",
    "x = np.ceil(np.random.randn(4, 4) * 7 + 1)\n",
    "print(\"-- x\\n\", x)\n",
    "print(\"-- sorted cols\\n\", np.sort(x, axis=0))  # sort columns\n",
    "print(\"-- sorted rows\\n\", np.sort(x, axis=1))  # sort rows"
   ]
  },
  {
   "cell_type": "markdown",
   "metadata": {},
   "source": [
    "## Matplotlib"
   ]
  },
  {
   "cell_type": "markdown",
   "metadata": {},
   "source": [
    "Making plots and static/interactive visualizations is **one of the most important tasks in data analysis**. Matplotlib is a Python library to create plots to visualize data. Plots can be displayed directly in a Jupyter notebook or can be saved as JPG, PNG, SVG... for future use. The first thing to do before using it is to import it. The `plt` name is also a convention that you can find on many web resources dealing with Matplotlib."
   ]
  },
  {
   "cell_type": "code",
   "execution_count": 63,
   "metadata": {},
   "outputs": [],
   "source": [
    "import matplotlib.pyplot as plt\n",
    "%matplotlib inline"
   ]
  },
  {
   "cell_type": "markdown",
   "metadata": {},
   "source": [
    "### First plots"
   ]
  },
  {
   "cell_type": "markdown",
   "metadata": {},
   "source": [
    "The main function to create a plot is simply `plot()`. You can  pass a list of values `ar` and the library will draw a line joining all points `(i, ar[i])`. You can also pass two lists `x` and `y`: in this case, the line will join the points `(x[i], y[i])`."
   ]
  },
  {
   "cell_type": "code",
   "execution_count": 64,
   "metadata": {},
   "outputs": [
    {
     "data": {
      "text/plain": [
       "[<matplotlib.lines.Line2D at 0x24eb07b7f10>]"
      ]
     },
     "execution_count": 64,
     "metadata": {},
     "output_type": "execute_result"
    },
    {
     "data": {
      "image/png": "[encoded data removed]",
      "text/plain": [
       "<Figure size 640x480 with 1 Axes>"
      ]
     },
     "metadata": {},
     "output_type": "display_data"
    }
   ],
   "source": [
    "plt.plot([3, 7, -2, 2.2, 3])"
   ]
  },
  {
   "cell_type": "code",
   "execution_count": 65,
   "metadata": {},
   "outputs": [
    {
     "data": {
      "text/plain": [
       "[<matplotlib.lines.Line2D at 0x24eb0fec3d0>]"
      ]
     },
     "execution_count": 65,
     "metadata": {},
     "output_type": "execute_result"
    },
    {
     "data": {
      "image/png": "[encoded data removed]",
      "text/plain": [
       "<Figure size 640x480 with 1 Axes>"
      ]
     },
     "metadata": {},
     "output_type": "display_data"
    }
   ],
   "source": [
    "plt.plot([5, 10, 20, 21], [3.6, 4.2, 3.88, 6.3])"
   ]
  },
  {
   "cell_type": "markdown",
   "metadata": {},
   "source": [
    "As you can see, the plots are displayed inside the Jupyter notebook, but they are not really interactive. Try to add the magic command `%matplotlib` right after we loaded the library, and run again the examples. What are the differences ?"
   ]
  },
  {
   "cell_type": "code",
   "execution_count": 55,
   "metadata": {},
   "outputs": [],
   "source": [
    "# type you answer here\n",
    "# With the magic command, it displays the output in a separate window instead of default inline display."
   ]
  },
  {
   "cell_type": "markdown",
   "metadata": {},
   "source": [
    "### Creating plots"
   ]
  },
  {
   "cell_type": "markdown",
   "metadata": {},
   "source": [
    "Plots reside in a Figure object. It is like a blank canvas where the library will draw the plots. A figure is automatically created if you call the `plot()` method."
   ]
  },
  {
   "cell_type": "code",
   "execution_count": 66,
   "metadata": {},
   "outputs": [
    {
     "data": {
      "text/plain": [
       "<Figure size 640x480 with 0 Axes>"
      ]
     },
     "metadata": {},
     "output_type": "display_data"
    }
   ],
   "source": [
    "fig = plt.figure() # manually create a figure"
   ]
  },
  {
   "cell_type": "markdown",
   "metadata": {},
   "source": [
    "You cannot directly draw a plot on an empty figure, you need to create one or more subplots. Then you can draw on the subplots."
   ]
  },
  {
   "cell_type": "code",
   "execution_count": 67,
   "metadata": {},
   "outputs": [],
   "source": [
    "ax1 = fig.add_subplot(2, 2, 1) # divide the figure in 2 x 2 grid, add axes in position 1\n",
    "ax2 = fig.add_subplot(2, 2, 2) # divide the figure in 2 x 2 grid, add axes in position 2"
   ]
  },
  {
   "cell_type": "code",
   "execution_count": 68,
   "metadata": {},
   "outputs": [
    {
     "data": {
      "text/plain": [
       "[<matplotlib.lines.Line2D at 0x24eb10a46a0>]"
      ]
     },
     "execution_count": 68,
     "metadata": {},
     "output_type": "execute_result"
    }
   ],
   "source": [
    "ax1.plot(np.arange(5))  # draw a line on the ax1 subplot"
   ]
  },
  {
   "cell_type": "code",
   "execution_count": 69,
   "metadata": {},
   "outputs": [
    {
     "data": {
      "text/plain": [
       "[<matplotlib.lines.Line2D at 0x24eb13d0f40>]"
      ]
     },
     "execution_count": 69,
     "metadata": {},
     "output_type": "execute_result"
    },
    {
     "data": {
      "image/png": "[encoded data removed]",
      "text/plain": [
       "<Figure size 640x480 with 6 Axes>"
      ]
     },
     "metadata": {},
     "output_type": "display_data"
    }
   ],
   "source": [
    "# you can create both a figure and all its subplots at the same time\n",
    "# here we create 6 subplots, 2 rows of 3, and add a plot in the right\n",
    "# of the bottom row\n",
    "fig2, axes = plt.subplots(2,3)\n",
    "axes[1][2].plot(np.random.randn(5))"
   ]
  },
  {
   "cell_type": "markdown",
   "metadata": {},
   "source": [
    "### Customizing plots"
   ]
  },
  {
   "cell_type": "markdown",
   "metadata": {},
   "source": [
    "You can change the color and style of the line with some attributes. Look at the documentation of `plot()` to see all the available options."
   ]
  },
  {
   "cell_type": "code",
   "execution_count": 70,
   "metadata": {},
   "outputs": [
    {
     "data": {
      "text/plain": [
       "<matplotlib.legend.Legend at 0x24eb1175370>"
      ]
     },
     "execution_count": 70,
     "metadata": {},
     "output_type": "execute_result"
    },
    {
     "data": {
      "image/png": "[encoded data removed]",
      "text/plain": [
       "<Figure size 640x480 with 1 Axes>"
      ]
     },
     "metadata": {},
     "output_type": "display_data"
    }
   ],
   "source": [
    "fig, ax = plt.subplots(1, 1)\n",
    "ax.plot(np.random.randn(10), linestyle='--', color='green', marker='d', label=\"Green legend\")\n",
    "ax.plot(3 * np.random.randn(10), linestyle=':', color='r', marker='o', label=\"Red legend\")\n",
    "\n",
    "# try to add a label attribute to both line. Then call\n",
    "# ax.legend() to print the legend on the plot.\n",
    "ax.legend()"
   ]
  },
  {
   "cell_type": "code",
   "execution_count": 106,
   "metadata": {},
   "outputs": [
    {
     "data": {
      "text/plain": [
       "<matplotlib.legend.Legend at 0x24eb527e7c0>"
      ]
     },
     "execution_count": 106,
     "metadata": {},
     "output_type": "execute_result"
    },
    {
     "data": {
      "image/png": "[encoded data removed]",
      "text/plain": [
       "<Figure size 640x480 with 1 Axes>"
      ]
     },
     "metadata": {},
     "output_type": "display_data"
    }
   ],
   "source": [
    "# plot the following function representations on the same plot:\n",
    "#  - sin(3*x) in magenta dashed line with hexagon marker\n",
    "#  - cos(2* pi * x) in blue solid line with square marker\n",
    "line = np.arange(10,step=0.1)\n",
    "\n",
    "fig, ax = plt.subplots(1, 1)\n",
    "ax.plot(np.sin(3*line), linestyle='--', color='magenta', marker='h', label=\"sin(3x)\")\n",
    "ax.plot(np.cos(2*np.pi*line), linestyle=':', color='blue', marker='s', label=\"cos(2*pi*x)\")\n",
    "\n",
    "# try to add a label attribute to both line. Then call\n",
    "# ax.legend() to print the legend on the plot.\n",
    "ax.legend()"
   ]
  },
  {
   "cell_type": "markdown",
   "metadata": {},
   "source": [
    "Once you have created a plot, you can add a title, set the coordinates of the ticks on X or Y axis, set a title for both axis... Run the code cell after each time you uncomment a line to see the difference."
   ]
  },
  {
   "cell_type": "code",
   "execution_count": 83,
   "metadata": {},
   "outputs": [
    {
     "data": {
      "text/plain": [
       "Text(0.5, 1.0, 'Evolution of my skill at Tetris')"
      ]
     },
     "execution_count": 83,
     "metadata": {},
     "output_type": "execute_result"
    },
    {
     "data": {
      "image/png": "[encoded data removed]",
      "text/plain": [
       "<Figure size 640x480 with 1 Axes>"
      ]
     },
     "metadata": {},
     "output_type": "display_data"
    }
   ],
   "source": [
    "fig = plt.figure()\n",
    "ax = fig.add_subplot(1, 1, 1)\n",
    "ax.plot(np.random.randn(1000).cumsum())\n",
    "\n",
    "# set a tick at 0, 250, 500, 750 and 1000 on x-axis\n",
    "ax.set_xticks([0, 250, 500, 750, 1000])\n",
    "\n",
    "# replace numbers on x-axis with a name\n",
    "ax.set_xticklabels(['one', 'two', 'three', 'four', 'five'], rotation=30)\n",
    "\n",
    "# set a name for the x-axis\n",
    "ax.set_xlabel('Levels')\n",
    "\n",
    "# set the title of the plot\n",
    "ax.set_title(\"Evolution of my skill at Tetris\")"
   ]
  },
  {
   "cell_type": "markdown",
   "metadata": {},
   "source": [
    "### Types of plot"
   ]
  },
  {
   "cell_type": "markdown",
   "metadata": {},
   "source": [
    "The most used type of plot is the line plot, but there are some other types:\n",
    "\n",
    "* `plt.scatter(x, y)`: draw points `(x[i], y[i])`, but no line between the points. Useful if you have a bunch of data points and you want to visualize them to get the general trend.\n",
    "* `plt.hist(X, bins=50)`: draw an histogram of X composed of 50 equally spaced buckets."
   ]
  },
  {
   "cell_type": "code",
   "execution_count": 68,
   "metadata": {},
   "outputs": [
    {
     "data": {
      "text/plain": [
       "<matplotlib.collections.PathCollection at 0x13b3cc72e80>"
      ]
     },
     "execution_count": 68,
     "metadata": {},
     "output_type": "execute_result"
    },
    {
     "data": {
      "image/png": "[encoded data removed]",
      "text/plain": [
       "<Figure size 640x480 with 1 Axes>"
      ]
     },
     "metadata": {},
     "output_type": "display_data"
    }
   ],
   "source": [
    "plt.scatter(np.arange(30), np.random.randn(30) * 3 + np.arange(30))"
   ]
  },
  {
   "cell_type": "code",
   "execution_count": 69,
   "metadata": {},
   "outputs": [
    {
     "data": {
      "text/plain": [
       "(array([  3.,   2.,   0.,   4.,   1.,   6.,   2.,   5.,  11.,   7.,  12.,\n",
       "         21.,  17.,  26.,  31.,  45.,  40.,  61.,  45.,  82.,  72.,  97.,\n",
       "         99.,  94., 125.,  98., 134., 133., 156., 126., 127., 132., 110.,\n",
       "        143., 126., 125.,  95.,  89.,  71.,  69.,  58.,  53.,  52.,  49.,\n",
       "         34.,  32.,  20.,  16.,   9.,   8.,   5.,  10.,   1.,   2.,   3.,\n",
       "          2.,   1.,   2.,   0.,   1.]),\n",
       " array([-3.32523606, -3.21206203, -3.09888801, -2.98571398, -2.87253996,\n",
       "        -2.75936594, -2.64619191, -2.53301789, -2.41984386, -2.30666984,\n",
       "        -2.19349582, -2.08032179, -1.96714777, -1.85397374, -1.74079972,\n",
       "        -1.6276257 , -1.51445167, -1.40127765, -1.28810362, -1.1749296 ,\n",
       "        -1.06175558, -0.94858155, -0.83540753, -0.7222335 , -0.60905948,\n",
       "        -0.49588546, -0.38271143, -0.26953741, -0.15636338, -0.04318936,\n",
       "         0.06998466,  0.18315869,  0.29633271,  0.40950674,  0.52268076,\n",
       "         0.63585479,  0.74902881,  0.86220283,  0.97537686,  1.08855088,\n",
       "         1.20172491,  1.31489893,  1.42807295,  1.54124698,  1.654421  ,\n",
       "         1.76759503,  1.88076905,  1.99394307,  2.1071171 ,  2.22029112,\n",
       "         2.33346515,  2.44663917,  2.55981319,  2.67298722,  2.78616124,\n",
       "         2.89933527,  3.01250929,  3.12568331,  3.23885734,  3.35203136,\n",
       "         3.46520539]),\n",
       " <BarContainer object of 60 artists>)"
      ]
     },
     "execution_count": 69,
     "metadata": {},
     "output_type": "execute_result"
    },
    {
     "data": {
      "image/png": "[encoded data removed]",
      "text/plain": [
       "<Figure size 640x480 with 1 Axes>"
      ]
     },
     "metadata": {},
     "output_type": "display_data"
    }
   ],
   "source": [
    "plt.hist(np.random.randn(3000), bins=60)"
   ]
  },
  {
   "cell_type": "markdown",
   "metadata": {},
   "source": [
    "### Saving figures"
   ]
  },
  {
   "cell_type": "markdown",
   "metadata": {},
   "source": [
    "You can save a plot with the `savefig()` method. The type of the image (PNG, SVG, JPEG...) is deduced from the filename. See the full documentation for the complete list of available options."
   ]
  },
  {
   "cell_type": "code",
   "execution_count": 84,
   "metadata": {},
   "outputs": [
    {
     "data": {
      "image/png": "[encoded data removed]",
      "text/plain": [
       "<Figure size 640x480 with 1 Axes>"
      ]
     },
     "metadata": {},
     "output_type": "display_data"
    }
   ],
   "source": [
    "fig, ax = plt.subplots(1, 1)\n",
    "ax.hist(np.random.randn(3000), bins=60)\n",
    "fig.savefig('myplot.png', bbox_inches='tight')"
   ]
  },
  {
   "cell_type": "markdown",
   "metadata": {},
   "source": [
    "## Pandas"
   ]
  },
  {
   "cell_type": "markdown",
   "metadata": {},
   "source": [
    "Pandas is the main library to carry out data analysis in Python. Pandas is built on top of Numpy and has two main data structures : Series and DataFrame. Both are used to process, manipulate and analyze data. To use Pandas, we import it as follows (`pd` is also a convention in the Python language) :"
   ]
  },
  {
   "cell_type": "code",
   "execution_count": 85,
   "metadata": {},
   "outputs": [],
   "source": [
    "import pandas as pd\n",
    "from pandas import Series, DataFrame"
   ]
  },
  {
   "cell_type": "markdown",
   "metadata": {},
   "source": [
    "### Series"
   ]
  },
  {
   "cell_type": "markdown",
   "metadata": {},
   "source": [
    "A Series is a 1D data structure composed of an array of data (the values), and an associated array of labels (the indexes). If no labels are provided, they default to integers (0, 1, 2...) but they can also be date, strings...\n",
    "\n",
    "A Series can be seen as a **fixed-length sorted dictionary**."
   ]
  },
  {
   "cell_type": "code",
   "execution_count": 86,
   "metadata": {},
   "outputs": [
    {
     "name": "stdout",
     "output_type": "stream",
     "text": [
      "0    11\n",
      "1     9\n",
      "2    -3\n",
      "3     5\n",
      "dtype: int64\n",
      "[11  9 -3  5]\n",
      "RangeIndex(start=0, stop=4, step=1)\n",
      "-3\n"
     ]
    }
   ],
   "source": [
    "# series with integers as indexes\n",
    "obj = Series([11, 9, -3, 5]) # indexes are 0, 1, 2...\n",
    "print(obj)\n",
    "print(obj.values)\n",
    "print(obj.index)\n",
    "print(obj[2]) # get element with index 2"
   ]
  },
  {
   "cell_type": "code",
   "execution_count": 87,
   "metadata": {},
   "outputs": [
    {
     "name": "stdout",
     "output_type": "stream",
     "text": [
      "a    11\n",
      "d     9\n",
      "c    -3\n",
      "r     5\n",
      "dtype: int64\n",
      "Index(['a', 'd', 'c', 'r'], dtype='object')\n",
      "11\n",
      "c   -3\n",
      "d    9\n",
      "r    5\n",
      "dtype: int64\n"
     ]
    }
   ],
   "source": [
    "# series with strings as indexes\n",
    "new_obj = Series([11, 9, -3, 5], index=['a', 'd', 'c', 'r'])\n",
    "print(new_obj)\n",
    "print(new_obj.index)\n",
    "print(new_obj['a'])  # get element with index 'a'\n",
    "print(new_obj[['c', 'd', 'r']]) # get multiples elements simultaneously"
   ]
  },
  {
   "cell_type": "code",
   "execution_count": 88,
   "metadata": {},
   "outputs": [
    {
     "name": "stdout",
     "output_type": "stream",
     "text": [
      "Ohio     35000\n",
      "Texas    71000\n",
      "Utah      5000\n",
      "dtype: int64\n"
     ]
    }
   ],
   "source": [
    "# Series are like dictionaries. You can even create a Series \n",
    "# with a dictionary.\n",
    "d = {\"Ohio\": 35000, \"Texas\": 71000, \"Utah\": 5000}\n",
    "obj2 = Series(d)\n",
    "print(obj2)"
   ]
  },
  {
   "cell_type": "markdown",
   "metadata": {},
   "source": [
    "You can add two Series together. It will sum the values of common indexes, and set a NaN for values that are specific to only one of the Series. This is called **data alignment**."
   ]
  },
  {
   "cell_type": "code",
   "execution_count": 90,
   "metadata": {},
   "outputs": [
    {
     "name": "stdout",
     "output_type": "stream",
     "text": [
      "a     True\n",
      "b     True\n",
      "c    False\n",
      "d     True\n",
      "e     True\n",
      "r    False\n",
      "dtype: bool\n"
     ]
    }
   ],
   "source": [
    "new_obj2 = Series([2, -6, 8, 1], index=['b', 'r', 'e', 'c'])\n",
    "new_obj3 = new_obj + new_obj2\n",
    "print(new_obj3.isnull())\n",
    "# call the method .isnull() on new_obj3. Can you tell what it does ?\n",
    "# The method isnull tells whether a value is null like a not a number (Nan)"
   ]
  },
  {
   "cell_type": "markdown",
   "metadata": {},
   "source": [
    "### DataFrame"
   ]
  },
  {
   "cell_type": "markdown",
   "metadata": {},
   "source": [
    "DataFrames (DF) represent tabular data, like a spreadsheet. It contains an ordered collection of columns, as well as rows that can be labeled with indexes. DataFrame are like a dictionary of Series where each column is a Series."
   ]
  },
  {
   "cell_type": "code",
   "execution_count": 91,
   "metadata": {},
   "outputs": [
    {
     "data": {
      "text/html": [
       "<div>\n",
       "<style scoped>\n",
       "    .dataframe tbody tr th:only-of-type {\n",
       "        vertical-align: middle;\n",
       "    }\n",
       "\n",
       "    .dataframe tbody tr th {\n",
       "        vertical-align: top;\n",
       "    }\n",
       "\n",
       "    .dataframe thead th {\n",
       "        text-align: right;\n",
       "    }\n",
       "</style>\n",
       "<table border=\"1\" class=\"dataframe\">\n",
       "  <thead>\n",
       "    <tr style=\"text-align: right;\">\n",
       "      <th></th>\n",
       "      <th>state</th>\n",
       "      <th>year</th>\n",
       "      <th>pop</th>\n",
       "      <th>area</th>\n",
       "    </tr>\n",
       "  </thead>\n",
       "  <tbody>\n",
       "    <tr>\n",
       "      <th>0</th>\n",
       "      <td>Ohio</td>\n",
       "      <td>2000</td>\n",
       "      <td>1.5</td>\n",
       "      <td>116</td>\n",
       "    </tr>\n",
       "    <tr>\n",
       "      <th>1</th>\n",
       "      <td>Ohio</td>\n",
       "      <td>2001</td>\n",
       "      <td>1.7</td>\n",
       "      <td>116</td>\n",
       "    </tr>\n",
       "    <tr>\n",
       "      <th>2</th>\n",
       "      <td>Ohio</td>\n",
       "      <td>2002</td>\n",
       "      <td>3.6</td>\n",
       "      <td>116</td>\n",
       "    </tr>\n",
       "    <tr>\n",
       "      <th>3</th>\n",
       "      <td>Nevada</td>\n",
       "      <td>2001</td>\n",
       "      <td>2.4</td>\n",
       "      <td>286</td>\n",
       "    </tr>\n",
       "    <tr>\n",
       "      <th>4</th>\n",
       "      <td>Nevada</td>\n",
       "      <td>2002</td>\n",
       "      <td>2.9</td>\n",
       "      <td>286</td>\n",
       "    </tr>\n",
       "  </tbody>\n",
       "</table>\n",
       "</div>"
      ],
      "text/plain": [
       "    state  year  pop  area\n",
       "0    Ohio  2000  1.5   116\n",
       "1    Ohio  2001  1.7   116\n",
       "2    Ohio  2002  3.6   116\n",
       "3  Nevada  2001  2.4   286\n",
       "4  Nevada  2002  2.9   286"
      ]
     },
     "execution_count": 91,
     "metadata": {},
     "output_type": "execute_result"
    }
   ],
   "source": [
    "# the most common way to create a DataFrame is with a dictionary.\n",
    "data = {'state': ['Ohio', 'Ohio', 'Ohio', 'Nevada', 'Nevada'],\n",
    "        'year':  [  2000,   2001,   2002,     2001,     2002],\n",
    "        'pop':   [   1.5,    1.7,    3.6,      2.4,      2.9],\n",
    "        'area':  [   116,    116,    116,      286,      286],\n",
    "       }\n",
    "frame = DataFrame(data)\n",
    "frame # DataFrame are printed nicely within Jupyter notebooks."
   ]
  },
  {
   "cell_type": "code",
   "execution_count": 92,
   "metadata": {},
   "outputs": [
    {
     "data": {
      "text/html": [
       "<div>\n",
       "<style scoped>\n",
       "    .dataframe tbody tr th:only-of-type {\n",
       "        vertical-align: middle;\n",
       "    }\n",
       "\n",
       "    .dataframe tbody tr th {\n",
       "        vertical-align: top;\n",
       "    }\n",
       "\n",
       "    .dataframe thead th {\n",
       "        text-align: right;\n",
       "    }\n",
       "</style>\n",
       "<table border=\"1\" class=\"dataframe\">\n",
       "  <thead>\n",
       "    <tr style=\"text-align: right;\">\n",
       "      <th></th>\n",
       "      <th>state</th>\n",
       "      <th>year</th>\n",
       "      <th>pop</th>\n",
       "      <th>area</th>\n",
       "      <th>debt</th>\n",
       "    </tr>\n",
       "  </thead>\n",
       "  <tbody>\n",
       "    <tr>\n",
       "      <th>one</th>\n",
       "      <td>Ohio</td>\n",
       "      <td>2000</td>\n",
       "      <td>1.5</td>\n",
       "      <td>116</td>\n",
       "      <td>NaN</td>\n",
       "    </tr>\n",
       "    <tr>\n",
       "      <th>two</th>\n",
       "      <td>Ohio</td>\n",
       "      <td>2001</td>\n",
       "      <td>1.7</td>\n",
       "      <td>116</td>\n",
       "      <td>NaN</td>\n",
       "    </tr>\n",
       "    <tr>\n",
       "      <th>three</th>\n",
       "      <td>Ohio</td>\n",
       "      <td>2002</td>\n",
       "      <td>3.6</td>\n",
       "      <td>116</td>\n",
       "      <td>NaN</td>\n",
       "    </tr>\n",
       "    <tr>\n",
       "      <th>four</th>\n",
       "      <td>Nevada</td>\n",
       "      <td>2001</td>\n",
       "      <td>2.4</td>\n",
       "      <td>286</td>\n",
       "      <td>NaN</td>\n",
       "    </tr>\n",
       "    <tr>\n",
       "      <th>five</th>\n",
       "      <td>Nevada</td>\n",
       "      <td>2002</td>\n",
       "      <td>2.9</td>\n",
       "      <td>286</td>\n",
       "      <td>NaN</td>\n",
       "    </tr>\n",
       "  </tbody>\n",
       "</table>\n",
       "</div>"
      ],
      "text/plain": [
       "        state  year  pop  area debt\n",
       "one      Ohio  2000  1.5   116  NaN\n",
       "two      Ohio  2001  1.7   116  NaN\n",
       "three    Ohio  2002  3.6   116  NaN\n",
       "four   Nevada  2001  2.4   286  NaN\n",
       "five   Nevada  2002  2.9   286  NaN"
      ]
     },
     "execution_count": 92,
     "metadata": {},
     "output_type": "execute_result"
    }
   ],
   "source": [
    "# You can set the name of columns and rows when you create a DF.\n",
    "# If you set a column name that is not in data, all rows will have\n",
    "# the value NaN for this column.\n",
    "frame = DataFrame(data, index=['one', 'two', 'three', 'four', 'five'],\n",
    "                        columns=['state', 'year', 'pop', 'area', 'debt'])\n",
    "frame"
   ]
  },
  {
   "cell_type": "markdown",
   "metadata": {},
   "source": [
    "You can extract one column from a DataFrame with a single `[]` and the name of the column, or multiple columns with the double `[[]]` and all the names of the columns you want."
   ]
  },
  {
   "cell_type": "code",
   "execution_count": 93,
   "metadata": {},
   "outputs": [
    {
     "name": "stdout",
     "output_type": "stream",
     "text": [
      "one      2000\n",
      "two      2001\n",
      "three    2002\n",
      "four     2001\n",
      "five     2002\n",
      "Name: year, dtype: int64\n",
      "        state  pop  year\n",
      "one      Ohio  1.5  2000\n",
      "two      Ohio  1.7  2001\n",
      "three    Ohio  3.6  2002\n",
      "four   Nevada  2.4  2001\n",
      "five   Nevada  2.9  2002\n"
     ]
    }
   ],
   "source": [
    "print(frame['year']) # select the year column (1 column)\n",
    "print(frame[['state', 'pop', 'year']]) # select 3 columns (in that order)"
   ]
  },
  {
   "cell_type": "code",
   "execution_count": 94,
   "metadata": {},
   "outputs": [
    {
     "name": "stdout",
     "output_type": "stream",
     "text": [
      "one      2000\n",
      "two      2001\n",
      "three    2002\n",
      "four     2001\n",
      "five     2002\n",
      "Name: year, dtype: int64\n"
     ]
    }
   ],
   "source": [
    "# every column's name of a DF become an attribute\n",
    "print(frame.year) # also select the year column"
   ]
  },
  {
   "cell_type": "markdown",
   "metadata": {},
   "source": [
    "You can select the row of a DF with the `iloc[]` method and its row number, or with the `loc[]` method and the label of the row."
   ]
  },
  {
   "cell_type": "code",
   "execution_count": 95,
   "metadata": {},
   "outputs": [
    {
     "name": "stdout",
     "output_type": "stream",
     "text": [
      "state    Ohio\n",
      "year     2001\n",
      "pop       1.7\n",
      "area      116\n",
      "debt      NaN\n",
      "Name: two, dtype: object\n",
      "state    Nevada\n",
      "year       2001\n",
      "pop         2.4\n",
      "area        286\n",
      "debt        NaN\n",
      "Name: four, dtype: object\n"
     ]
    }
   ],
   "source": [
    "print(frame.iloc[1]) # select second row (because DF are zero-indexed)\n",
    "print(frame.loc[\"four\"]) # select fourth row, because its label is \"four\""
   ]
  },
  {
   "cell_type": "code",
   "execution_count": null,
   "metadata": {},
   "outputs": [],
   "source": [
    "# select only the columns pop and year of rows 'one' and 'five'"
   ]
  },
  {
   "cell_type": "markdown",
   "metadata": {},
   "source": [
    "You can set the values of an entire columns with a single value (all rows will be set to this value), or an array (the array must have the same size as the number of rows in DF). You can also add a column with the same syntax."
   ]
  },
  {
   "cell_type": "code",
   "execution_count": 96,
   "metadata": {},
   "outputs": [
    {
     "name": "stdout",
     "output_type": "stream",
     "text": [
      "        state  year  pop  area debt\n",
      "one      Ohio  2000  1.5   116  NaN\n",
      "two      Ohio  2001  1.7   116  NaN\n",
      "three    Ohio  2002  3.6   116  NaN\n",
      "four   Nevada  2001  2.4   286  NaN\n",
      "five   Nevada  2002  2.9   286  NaN\n",
      "\n",
      "         state  year  pop  area  debt\n",
      "one      Ohio  2000  1.5   116    -1\n",
      "two      Ohio  2001  1.7   116    -1\n",
      "three    Ohio  2002  3.6   116    -1\n",
      "four   Nevada  2001  2.4   286    -1\n",
      "five   Nevada  2002  2.9   286    -1\n",
      "\n",
      "         state  year  pop  area  debt\n",
      "one      Ohio  2000  1.5   116    10\n",
      "two      Ohio  2001  1.7   116    11\n",
      "three    Ohio  2002  3.6   116    12\n",
      "four   Nevada  2001  2.4   286     8\n",
      "five   Nevada  2002  2.9   286     9\n",
      "\n",
      "         state  year  pop  area  debt  mayor\n",
      "one      Ohio  2000  1.5   116    10   Thom\n",
      "two      Ohio  2001  1.7   116    11  Jonny\n",
      "three    Ohio  2002  3.6   116    12     Ed\n",
      "four   Nevada  2001  2.4   286     8  Colin\n",
      "five   Nevada  2002  2.9   286     9   Phil\n"
     ]
    }
   ],
   "source": [
    "print(frame)\n",
    "\n",
    "# set all rows to -1\n",
    "frame['debt'] = -1\n",
    "print('\\n', frame)\n",
    "\n",
    "# assign a different value for each row\n",
    "frame['debt'] = [10, 11, 12, 8, 9]\n",
    "print('\\n', frame)\n",
    "\n",
    "# add a new column mayor\n",
    "frame['mayor'] = ['Thom', 'Jonny', 'Ed', 'Colin', 'Phil']\n",
    "print('\\n', frame)"
   ]
  },
  {
   "cell_type": "markdown",
   "metadata": {},
   "source": [
    "Add the column `density` that contains the information about the density for each rows."
   ]
  },
  {
   "cell_type": "code",
   "execution_count": 102,
   "metadata": {},
   "outputs": [
    {
     "data": {
      "text/html": [
       "<div>\n",
       "<style scoped>\n",
       "    .dataframe tbody tr th:only-of-type {\n",
       "        vertical-align: middle;\n",
       "    }\n",
       "\n",
       "    .dataframe tbody tr th {\n",
       "        vertical-align: top;\n",
       "    }\n",
       "\n",
       "    .dataframe thead th {\n",
       "        text-align: right;\n",
       "    }\n",
       "</style>\n",
       "<table border=\"1\" class=\"dataframe\">\n",
       "  <thead>\n",
       "    <tr style=\"text-align: right;\">\n",
       "      <th></th>\n",
       "      <th>state</th>\n",
       "      <th>year</th>\n",
       "      <th>pop</th>\n",
       "      <th>area</th>\n",
       "      <th>debt</th>\n",
       "      <th>mayor</th>\n",
       "      <th>density</th>\n",
       "    </tr>\n",
       "  </thead>\n",
       "  <tbody>\n",
       "    <tr>\n",
       "      <th>one</th>\n",
       "      <td>Ohio</td>\n",
       "      <td>2000</td>\n",
       "      <td>1.5</td>\n",
       "      <td>116</td>\n",
       "      <td>10</td>\n",
       "      <td>Thom</td>\n",
       "      <td>0.012931</td>\n",
       "    </tr>\n",
       "    <tr>\n",
       "      <th>two</th>\n",
       "      <td>Ohio</td>\n",
       "      <td>2001</td>\n",
       "      <td>1.7</td>\n",
       "      <td>116</td>\n",
       "      <td>11</td>\n",
       "      <td>Jonny</td>\n",
       "      <td>0.014655</td>\n",
       "    </tr>\n",
       "    <tr>\n",
       "      <th>three</th>\n",
       "      <td>Ohio</td>\n",
       "      <td>2002</td>\n",
       "      <td>3.6</td>\n",
       "      <td>116</td>\n",
       "      <td>12</td>\n",
       "      <td>Ed</td>\n",
       "      <td>0.031034</td>\n",
       "    </tr>\n",
       "    <tr>\n",
       "      <th>four</th>\n",
       "      <td>Nevada</td>\n",
       "      <td>2001</td>\n",
       "      <td>2.4</td>\n",
       "      <td>286</td>\n",
       "      <td>8</td>\n",
       "      <td>Colin</td>\n",
       "      <td>0.008392</td>\n",
       "    </tr>\n",
       "    <tr>\n",
       "      <th>five</th>\n",
       "      <td>Nevada</td>\n",
       "      <td>2002</td>\n",
       "      <td>2.9</td>\n",
       "      <td>286</td>\n",
       "      <td>9</td>\n",
       "      <td>Phil</td>\n",
       "      <td>0.010140</td>\n",
       "    </tr>\n",
       "  </tbody>\n",
       "</table>\n",
       "</div>"
      ],
      "text/plain": [
       "        state  year  pop  area  debt  mayor   density\n",
       "one      Ohio  2000  1.5   116    10   Thom  0.012931\n",
       "two      Ohio  2001  1.7   116    11  Jonny  0.014655\n",
       "three    Ohio  2002  3.6   116    12     Ed  0.031034\n",
       "four   Nevada  2001  2.4   286     8  Colin  0.008392\n",
       "five   Nevada  2002  2.9   286     9   Phil  0.010140"
      ]
     },
     "execution_count": 102,
     "metadata": {},
     "output_type": "execute_result"
    }
   ],
   "source": [
    "frame['density'] = frame['pop']/frame['area']\n",
    "frame"
   ]
  },
  {
   "cell_type": "markdown",
   "metadata": {},
   "source": [
    "You can also select rows/columns with boolean condition, like what we did with Numpy."
   ]
  },
  {
   "cell_type": "code",
   "execution_count": 103,
   "metadata": {},
   "outputs": [
    {
     "data": {
      "text/html": [
       "<div>\n",
       "<style scoped>\n",
       "    .dataframe tbody tr th:only-of-type {\n",
       "        vertical-align: middle;\n",
       "    }\n",
       "\n",
       "    .dataframe tbody tr th {\n",
       "        vertical-align: top;\n",
       "    }\n",
       "\n",
       "    .dataframe thead th {\n",
       "        text-align: right;\n",
       "    }\n",
       "</style>\n",
       "<table border=\"1\" class=\"dataframe\">\n",
       "  <thead>\n",
       "    <tr style=\"text-align: right;\">\n",
       "      <th></th>\n",
       "      <th>state</th>\n",
       "      <th>year</th>\n",
       "      <th>pop</th>\n",
       "      <th>area</th>\n",
       "      <th>debt</th>\n",
       "      <th>mayor</th>\n",
       "      <th>density</th>\n",
       "    </tr>\n",
       "  </thead>\n",
       "  <tbody>\n",
       "    <tr>\n",
       "      <th>one</th>\n",
       "      <td>Ohio</td>\n",
       "      <td>2000</td>\n",
       "      <td>1.5</td>\n",
       "      <td>116</td>\n",
       "      <td>10</td>\n",
       "      <td>Thom</td>\n",
       "      <td>0.012931</td>\n",
       "    </tr>\n",
       "    <tr>\n",
       "      <th>four</th>\n",
       "      <td>Nevada</td>\n",
       "      <td>2001</td>\n",
       "      <td>2.4</td>\n",
       "      <td>286</td>\n",
       "      <td>8</td>\n",
       "      <td>Colin</td>\n",
       "      <td>0.008392</td>\n",
       "    </tr>\n",
       "    <tr>\n",
       "      <th>five</th>\n",
       "      <td>Nevada</td>\n",
       "      <td>2002</td>\n",
       "      <td>2.9</td>\n",
       "      <td>286</td>\n",
       "      <td>9</td>\n",
       "      <td>Phil</td>\n",
       "      <td>0.010140</td>\n",
       "    </tr>\n",
       "  </tbody>\n",
       "</table>\n",
       "</div>"
      ],
      "text/plain": [
       "       state  year  pop  area  debt  mayor   density\n",
       "one     Ohio  2000  1.5   116    10   Thom  0.012931\n",
       "four  Nevada  2001  2.4   286     8  Colin  0.008392\n",
       "five  Nevada  2002  2.9   286     9   Phil  0.010140"
      ]
     },
     "execution_count": 103,
     "metadata": {},
     "output_type": "execute_result"
    }
   ],
   "source": [
    "# select rows according to value of a column\n",
    "frame[frame.debt < 11]"
   ]
  },
  {
   "cell_type": "markdown",
   "metadata": {},
   "source": [
    "### Reading, parsing and cleaning data"
   ]
  },
  {
   "cell_type": "markdown",
   "metadata": {},
   "source": [
    "Pandas has many built-in methods to load data from different types of sources:\n",
    "* text files\n",
    "* databases\n",
    "* web APIs\n",
    "\n",
    "We will deal with text files because loading data from databases or Web APIs requires specific packages and are out of the scope of this course.\n",
    "Let's start with a simple example. Use the `cat` UNIX command to look at the content of file example.csv."
   ]
  },
  {
   "cell_type": "code",
   "execution_count": null,
   "metadata": {},
   "outputs": [],
   "source": [
    "# look at example.csv"
   ]
  },
  {
   "cell_type": "markdown",
   "metadata": {},
   "source": [
    "Now, read the documentation of the `read_csv()` function and use it to load the file in a DataFrame object. Use the column `message` as the index of the DataFrame.\n",
    "\n",
    "The function `read_table()` is a more general function to read data. You can specify the delimiter (in case it is not a comma) as well as many more options (parse the dates as Date objects, skip some lines...)."
   ]
  },
  {
   "cell_type": "code",
   "execution_count": 105,
   "metadata": {},
   "outputs": [
    {
     "data": {
      "text/html": [
       "<div>\n",
       "<style scoped>\n",
       "    .dataframe tbody tr th:only-of-type {\n",
       "        vertical-align: middle;\n",
       "    }\n",
       "\n",
       "    .dataframe tbody tr th {\n",
       "        vertical-align: top;\n",
       "    }\n",
       "\n",
       "    .dataframe thead th {\n",
       "        text-align: right;\n",
       "    }\n",
       "</style>\n",
       "<table border=\"1\" class=\"dataframe\">\n",
       "  <thead>\n",
       "    <tr style=\"text-align: right;\">\n",
       "      <th></th>\n",
       "      <th>a</th>\n",
       "      <th>b</th>\n",
       "      <th>c</th>\n",
       "      <th>d</th>\n",
       "      <th>message</th>\n",
       "    </tr>\n",
       "  </thead>\n",
       "  <tbody>\n",
       "    <tr>\n",
       "      <th>0</th>\n",
       "      <td>1</td>\n",
       "      <td>2</td>\n",
       "      <td>3</td>\n",
       "      <td>4</td>\n",
       "      <td>hello</td>\n",
       "    </tr>\n",
       "    <tr>\n",
       "      <th>1</th>\n",
       "      <td>5</td>\n",
       "      <td>6</td>\n",
       "      <td>7</td>\n",
       "      <td>8</td>\n",
       "      <td>world</td>\n",
       "    </tr>\n",
       "    <tr>\n",
       "      <th>2</th>\n",
       "      <td>9</td>\n",
       "      <td>10</td>\n",
       "      <td>11</td>\n",
       "      <td>12</td>\n",
       "      <td>foo</td>\n",
       "    </tr>\n",
       "  </tbody>\n",
       "</table>\n",
       "</div>"
      ],
      "text/plain": [
       "   a   b   c   d message\n",
       "0  1   2   3   4   hello\n",
       "1  5   6   7   8   world\n",
       "2  9  10  11  12     foo"
      ]
     },
     "execution_count": 105,
     "metadata": {},
     "output_type": "execute_result"
    }
   ],
   "source": [
    "# load example.csv\n",
    "pd.read_csv('example.csv')"
   ]
  },
  {
   "cell_type": "markdown",
   "metadata": {},
   "source": [
    "Sometimes, reading and loading data is not as easy as reading a csv file. Most of the data available are not structured and we have to rely on other tools to analyze them. Take a look at the content of the `bitly.txt` file."
   ]
  },
  {
   "cell_type": "code",
   "execution_count": null,
   "metadata": {},
   "outputs": [],
   "source": [
    "# look at bitly.txt with the `head` UNIX command"
   ]
  },
  {
   "cell_type": "markdown",
   "metadata": {},
   "source": [
    "We can see that this file seems to be encoded in JSON format. Let's try to read it. Complete the following cell block."
   ]
  },
  {
   "cell_type": "code",
   "execution_count": null,
   "metadata": {},
   "outputs": [],
   "source": [
    "import json\n",
    "\n",
    "path = \"bitly.txt\"\n",
    "\n",
    "rec = # load all records of bitly.txt\n",
    "\n",
    "# print the first record of the file\n",
    "print(rec[0])"
   ]
  },
  {
   "cell_type": "markdown",
   "metadata": {},
   "source": [
    "Each record is a dictionary object. This means we can create a Series for each record, hence this will give us a DataFrame for the entire data."
   ]
  },
  {
   "cell_type": "code",
   "execution_count": null,
   "metadata": {},
   "outputs": [],
   "source": [
    "frame = DataFrame(rec)\n",
    "frame"
   ]
  },
  {
   "cell_type": "markdown",
   "metadata": {},
   "source": [
    "As you can see, there is a column named `_heartbeat_` that was not present when we took a look at the content of the file. Furthermore, some records are almost empty, except for this field. We need to remove them for our analysis."
   ]
  },
  {
   "cell_type": "code",
   "execution_count": null,
   "metadata": {},
   "outputs": [],
   "source": [
    "# only keep records that have an entry for the field 'a'\n",
    "# clean_records = ...\n",
    "\n",
    "print(\"Total records:\", len(rec)) # good records + hearbeats\n",
    "print(\"Clean records:\", len(clean_records)) # no heartbeats\n",
    "\n",
    "# make a DataFrame composed of only good records\n",
    "# bitly = ...\n",
    "\n",
    "bitly[:5]                    # print the first 5 records"
   ]
  },
  {
   "cell_type": "markdown",
   "metadata": {},
   "source": [
    "### Operations on DataFrame"
   ]
  },
  {
   "cell_type": "markdown",
   "metadata": {},
   "source": [
    "Most of the Numpy functions can be used on DataFrame."
   ]
  },
  {
   "cell_type": "code",
   "execution_count": null,
   "metadata": {},
   "outputs": [],
   "source": [
    "cities = DataFrame(np.random.randn(4, 3), columns=list('bde'),\n",
    "                  index=['Paris', 'Lyon', 'Lille', 'Pau'])\n",
    "cities"
   ]
  },
  {
   "cell_type": "code",
   "execution_count": null,
   "metadata": {},
   "outputs": [],
   "source": [
    "np.exp(cities)"
   ]
  },
  {
   "cell_type": "markdown",
   "metadata": {},
   "source": [
    "You can use a custom function on each value of the DataFrame with the `.apply()` method."
   ]
  },
  {
   "cell_type": "code",
   "execution_count": null,
   "metadata": {},
   "outputs": [],
   "source": [
    "def f(x):\n",
    "    return 3*x + 1.7\n",
    "\n",
    "cities.apply(f)"
   ]
  },
  {
   "cell_type": "markdown",
   "metadata": {},
   "source": [
    "There are two ways to sort a DataFrame.\n",
    "* `.sort_index()` : sort the rows according to their respective labels\n",
    "* `.sort_values(by=...)` : sort the rows according to the value in column specified with argument  `by`. You can pass a list of columns to the by argument if you need to sort with more than one column.\n",
    "\n",
    "NaN values are placed at the bottom of sorted DataFrame/Series."
   ]
  },
  {
   "cell_type": "code",
   "execution_count": null,
   "metadata": {},
   "outputs": [],
   "source": [
    "d = DataFrame({'b': [4, 7, -3, 2],\n",
    "               'a': [0, 1, 0, 1],\n",
    "              }, index=[\"Venise\", \"New-York\", \"Lisbonne\", \"Tokyo\"])\n",
    "# sort d according to its indexes value"
   ]
  },
  {
   "cell_type": "code",
   "execution_count": null,
   "metadata": {},
   "outputs": [],
   "source": [
    "# sort d according to the value of a, then the value of b"
   ]
  },
  {
   "cell_type": "markdown",
   "metadata": {},
   "source": [
    "### Analyzing DataFrame"
   ]
  },
  {
   "cell_type": "markdown",
   "metadata": {},
   "source": [
    "The `bitly.txt` file contains information about shortened URL made by the website bit.ly. Every record has the web browser that clicked on the bit.ly link, the location of the person who clicked, the URL that was shortened...\n",
    "\n",
    "We already loaded this file into a DataFrame. Let's see if we can get some valuable informations about the location of the users."
   ]
  },
  {
   "cell_type": "code",
   "execution_count": null,
   "metadata": {},
   "outputs": [],
   "source": [
    "# the interesting field is named 'tz'. Extract the series\n",
    "# related to this field into a variable `timezones` and\n",
    "# print the first 10 rows."
   ]
  },
  {
   "cell_type": "markdown",
   "metadata": {},
   "source": [
    "As you can see, some rows have an empty value for this field. Pandas can deal with missing or incorrect data, but we need to tell it explicitly."
   ]
  },
  {
   "cell_type": "code",
   "execution_count": null,
   "metadata": {},
   "outputs": [],
   "source": [
    "# use a boolean condition to select all rows of timezones\n",
    "# that are '' and set them to 'Unknown'. Print again the \n",
    "# first 10 rows to see the difference"
   ]
  },
  {
   "cell_type": "code",
   "execution_count": null,
   "metadata": {},
   "outputs": [],
   "source": [
    "# then use the .value_counts() method on timezones. This will\n",
    "# count the number of occurrence for each different value\n",
    "# and also sort this list. What are the 5 most frequent\n",
    "# locations ?"
   ]
  },
  {
   "cell_type": "code",
   "execution_count": null,
   "metadata": {},
   "outputs": [],
   "source": [
    "# a chart would be nice to see these results. Read the\n",
    "# documentation of the method .plot() of DataFrame and print\n",
    "# the top 10 locations in a horizontal bar graph."
   ]
  },
  {
   "cell_type": "markdown",
   "metadata": {},
   "source": [
    "### Apple devices"
   ]
  },
  {
   "cell_type": "markdown",
   "metadata": {},
   "source": [
    "It would be interesting to know the proportion of Apple devices for each timezones. Combining Numpy and Pandas can provide this information, even if it is not directly present in the data.\n",
    "\n",
    "The first thing to do is to create a new column `os` (i.e. a Series) in the DataFrame named `bitly`. We will put `Apple` if the entry (i.e. the row) is from an Apple device, and `Other` for all other entries. By looking at the data, I can see that Apple devices have a user agent (the column `a` in bitly) that contains \"Mac OS\". The function `np.where()` can help us to build such a Series."
   ]
  },
  {
   "cell_type": "code",
   "execution_count": null,
   "metadata": {},
   "outputs": [],
   "source": [
    "# Add a new column named `os` in bitly that contains:\n",
    "#   - \"Apple\" if the user agent contains \"Mac OS\"\n",
    "#   - \"Other\" otherwise\n",
    "#\n",
    "# Then print the 5 first values of this column."
   ]
  },
  {
   "cell_type": "markdown",
   "metadata": {},
   "source": [
    "Then we can regroup the rows that have the same timezone and the same OS with `.groupby()`. This method is similar to the one existing in SQL."
   ]
  },
  {
   "cell_type": "code",
   "execution_count": null,
   "metadata": {},
   "outputs": [],
   "source": [
    "# Look at the documentation of .groupby() method.\n",
    "# Create a new variable `grouped` that contains the\n",
    "# information grouped by timezones and operating systems.\n",
    "# Use the method .size() on `grouped` to get the cardinality\n",
    "# of each group and assign it to `grouped`. \n",
    "# Then print the first 10 items of the variable `grouped`."
   ]
  },
  {
   "cell_type": "markdown",
   "metadata": {},
   "source": [
    "We can see that `grouped` has 2 labels for each row (`tz` and `os`). This would be better if we only had 1 label (`tz`) and use the other one (`os`) as a column. We can do this with `.unstack()`."
   ]
  },
  {
   "cell_type": "code",
   "execution_count": null,
   "metadata": {},
   "outputs": [],
   "source": [
    "tz_devices = grouped.unstack()  # now we have 2 more columns : one for Apple, another for Other\n",
    "tz_devices[:10]"
   ]
  },
  {
   "cell_type": "code",
   "execution_count": null,
   "metadata": {},
   "outputs": [],
   "source": [
    "# Use the method .fillna() to replace every NaN values\n",
    "# in `tz_devices` by 0. Print the 10 first rows to verify\n",
    "# that they have been updated."
   ]
  },
  {
   "cell_type": "code",
   "execution_count": null,
   "metadata": {},
   "outputs": [],
   "source": [
    "# Using the indexes of the 10 most frequent locations,\n",
    "# select them in `tz_devices`."
   ]
  },
  {
   "cell_type": "code",
   "execution_count": null,
   "metadata": {},
   "outputs": [],
   "source": [
    "# Now, each row represents a location and have two\n",
    "# information:\n",
    "#   - the number of Apple devices\n",
    "#   - the number of Other devices\n",
    "# Use the method .sum() to get the total number of devices\n",
    "# for each location, and then the method .div() to divide\n",
    "# each row by the appropriate number so that the rows\n",
    "# contain:\n",
    "#   - the percentage of Apple devices for each location\n",
    "#   - the percentage of Other devices for each location"
   ]
  },
  {
   "cell_type": "code",
   "execution_count": null,
   "metadata": {},
   "outputs": [],
   "source": [
    "# Print the percentage results in a chart (select the\n",
    "# appropriate type of graphic)."
   ]
  }
 ],
 "metadata": {
  "kernelspec": {
   "display_name": "Python 3 (ipykernel)",
   "language": "python",
   "name": "python3"
  },
  "language_info": {
   "codemirror_mode": {
    "name": "ipython",
    "version": 3
   },
   "file_extension": ".py",
   "mimetype": "text/x-python",
   "name": "python",
   "nbconvert_exporter": "python",
   "pygments_lexer": "ipython3",
   "version": "3.9.5"
  }
 },
 "nbformat": 4,
 "nbformat_minor": 2
}
