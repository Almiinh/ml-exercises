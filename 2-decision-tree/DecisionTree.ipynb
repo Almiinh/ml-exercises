{
  "cells": [
    {
      "cell_type": "markdown",
      "metadata": {
        "id": "fRI2pPu3uh53"
      },
      "source": [
        "# Implementation of Decision Tree Algorithms From Scratch"
      ]
    },
    {
      "cell_type": "markdown",
      "metadata": {
        "id": "6zcVWtAduh55"
      },
      "source": [
        "### Task : Create two classifiers: ID3 and CART.\n",
        "\n",
        "**Tools & libraries**: Python, Jupyter, pandas, scikit-learn, numpy, timeit, graphviz\n",
        "\n",
        "**DATASETS** :\n",
        "- PlayOut (With nominal features)\n",
        "- PlayOut_num (With both nominal and numerical features)\n",
        "- [Iris dataset](https://archive.ics.uci.edu/ml/datasets/iris)"
      ]
    },
    {
      "cell_type": "code",
      "execution_count": null,
      "metadata": {},
      "outputs": [],
      "source": [
        "%pip install -qU pandas scikit-learn numpy timeit graphviz"
      ]
    },
    {
      "cell_type": "markdown",
      "metadata": {
        "id": "oX1CsFuUuh55"
      },
      "source": [
        "## 1. INTRODUCTION\n",
        "\n",
        "A decision tree is a very simple machine learning model. It was widely used in the 1960s-1980s for building expert systems. It is widely known and used in many companies to facilitate decision making and risk analysis.\n",
        "\n",
        "Given dataset with many features, the decision starts by selecting one of these features (the most appropriate and relevant one, following some defined criteria) ; if this is not sufficient, another feature is selected, and so on.\n",
        "\n",
        "At their creation, the rules were introduced manually, for this reason this model lost its popularity after the 1980s, but the appearance of mathematical methods for building decision trees brings this model back into the battle of machine learning (ML) algorithms. There are several ML algorithms for building decision trees. So far in this lab, we will learn about :\n",
        "\n",
        "- **ID3 (Iterative Dichotomiser 3)** [[JR Quinlan, 1986](https://link.springer.com/content/pdf/10.1007/BF00116251.pdf)]: It was developed in 1986 by Ross Quinlan. It can be applied only on nominal features. It is used for ranking.\n",
        "- **C4.5** [[JR Quinlan, 1993](https://books.google.fr/books?hl=fr&lr=&id=b3ujBQAAQBAJ&oi=fnd&pg=PP1&dq=C4.+5:+Programs+for+machine+learning&ots=sR7pRTJuC2&sig=hmtbed3-eUljdUvf6eoM2vfrbHQ&redir_esc=y#v=onepage&q=C4.%205%3A%20Programs%20for%20machine%20learning&f=false)] : an extension of ID3 by Ross Quinlan. It can be applied to all types of features. It is used for classification.\n",
        "- **C5.0** [[JR Quinlan, 2004](https://www.rulequest.com/see5-info.html)] : a commercial extension of C4.5, again by Ross Quinlan.\n",
        "- **CART (Classification and Regression Trees)** [Breiman et al. , 1984](Refrence) : like C4.5 but uses other metrics. Also, the algorithm supports regression.\n",
        "\n",
        "### 1.1 The general algorithm for creating a decision tree:\n",
        "\n",
        "1. Determine the best feature in the training data set.\n",
        "2. Divide the training data into subsets containing the possible values of the best feature.\n",
        "3. Recursively generate new decision trees using the subsets of data created.\n",
        "4. When the data can no longer be classified, stop.\n",
        "\n",
        "### 1.2 Benefits\n",
        "- They are simple to understand and interpret.\n",
        "- The decision trees can be visualised. Also, the results obtained can be easily explained.\n",
        "- They can work on data with lightwheith preprocessing of data e.g., they do not need data normalisation.\n",
        "- They accept both numerical and nominal data. Other learning algorithms are specialised in one type of data.\n",
        "- They perform well even if their assumptions are somewhat violated by the actual model from which the data was generated.\n",
        "\n",
        "### 1.3 Limitations\n",
        "- They can be as complex, they do not generalise well (they generally tend to over-fit the data); this can be fixed by setting the minimum number of samples in the leaves and the maximum depth of the tree.\n",
        "- They can be unstable because of variations in the data.\n",
        "- There are some concepts that are a bit difficult to learn from decision trees. They are not easy to express, for example: XOR operation.\n",
        "- They can be biased to the dominant class. So you have to balance the data before training the system.\n",
        "- It is not guaranteed that the optimal decision tree will be found."
      ]
    },
    {
      "cell_type": "markdown",
      "metadata": {
        "id": "uUQoX14Kuh56"
      },
      "source": [
        "## 2. Implementation\n",
        "\n",
        "In this lab, we will implement ID3 for the nominal features and CART (ranking) for the numerical features only."
      ]
    },
    {
      "cell_type": "code",
      "execution_count": 1,
      "metadata": {
        "colab": {
          "base_uri": "https://localhost:8080/"
        },
        "id": "Fw3wWZK9uh56",
        "outputId": "47482ad6-2048-4035-abdb-31da9e1476f0"
      },
      "outputs": [
        {
          "name": "stdout",
          "output_type": "stream",
          "text": [
            "numpy version : 1.26.4\n",
            "pandas version : 2.2.2\n",
            "matplotlib version : 3.10.0\n"
          ]
        }
      ],
      "source": [
        "import matplotlib\n",
        "import numpy             as np\n",
        "import pandas            as pd\n",
        "import matplotlib.pyplot as plt\n",
        "%matplotlib inline\n",
        "\n",
        "# Check our libraries versions\n",
        "print(\"numpy version :\",np.__version__)\n",
        "print(\"pandas version :\",pd.__version__)\n",
        "print(\"matplotlib version :\",matplotlib.__version__)"
      ]
    },
    {
      "cell_type": "code",
      "execution_count": 2,
      "metadata": {
        "id": "KsYxmuj0uh57"
      },
      "outputs": [],
      "source": [
        "# Support for type hints\n",
        "from typing          import Tuple, List, Type, Union\n",
        "from collections.abc import Callable"
      ]
    },
    {
      "cell_type": "code",
      "execution_count": 4,
      "metadata": {
        "colab": {
          "base_uri": "https://localhost:8080/"
        },
        "id": "1f3X6Nfzutxz",
        "outputId": "25dd113e-5a12-4da4-8545-902319db830a"
      },
      "outputs": [
        {
          "name": "stdout",
          "output_type": "stream",
          "text": [
            "/content\n"
          ]
        }
      ],
      "source": [
        "!pwd"
      ]
    },
    {
      "cell_type": "markdown",
      "metadata": {
        "id": "uk3WDuV9uh57"
      },
      "source": [
        "- In this section we will improve our understanding of the machine learning algorithms seen in class by implementing them from scratch.\n",
        "- To do this, we will use the numpy library which is useful for computations, especially matrix operations."
      ]
    },
    {
      "cell_type": "markdown",
      "metadata": {
        "id": "wtzrTNRVuh58"
      },
      "source": [
        "### 2.1 ID3 (Iterative Dichotomiser 3) [[JR Quinlan, 1986](https://link.springer.com/content/pdf/10.1007/BF00116251.pdf)]\n",
        "\n",
        "- This algorithm only works on nominal features.\n",
        "- So, if we have continuous features, we have to apply the discretization.\n",
        "- Also, it is used for classification task only (not for regression task)."
      ]
    },
    {
      "cell_type": "markdown",
      "metadata": {
        "id": "Z5e3g6Afuh58"
      },
      "source": [
        "#### 2.1.1 Reading and preparation of data\n",
        "- We will use a small dataset named \"PlayOut\" that contains only nominal features (variables)."
      ]
    },
    {
      "cell_type": "code",
      "execution_count": 5,
      "metadata": {
        "colab": {
          "base_uri": "https://localhost:8080/",
          "height": 489
        },
        "id": "rIFqx6KUuh59",
        "outputId": "2b0aa084-a851-4409-c36f-b4002a4573b6"
      },
      "outputs": [
        {
          "data": {
            "application/vnd.google.colaboratory.intrinsic+json": {
              "summary": "{\n  \"name\": \"df_playOut\",\n  \"rows\": 14,\n  \"fields\": [\n    {\n      \"column\": \"weather\",\n      \"properties\": {\n        \"dtype\": \"category\",\n        \"num_unique_values\": 3,\n        \"samples\": [\n          \"sunny\",\n          \"cloudy\",\n          \"rainy\"\n        ],\n        \"semantic_type\": \"\",\n        \"description\": \"\"\n      }\n    },\n    {\n      \"column\": \"temperature\",\n      \"properties\": {\n        \"dtype\": \"category\",\n        \"num_unique_values\": 3,\n        \"samples\": [\n          \"hot\",\n          \"cool\",\n          \"mild\"\n        ],\n        \"semantic_type\": \"\",\n        \"description\": \"\"\n      }\n    },\n    {\n      \"column\": \"humidity\",\n      \"properties\": {\n        \"dtype\": \"category\",\n        \"num_unique_values\": 2,\n        \"samples\": [\n          \"dry\",\n          \"high\"\n        ],\n        \"semantic_type\": \"\",\n        \"description\": \"\"\n      }\n    },\n    {\n      \"column\": \"wind\",\n      \"properties\": {\n        \"dtype\": \"category\",\n        \"num_unique_values\": 2,\n        \"samples\": [\n          \"yes\",\n          \"no\"\n        ],\n        \"semantic_type\": \"\",\n        \"description\": \"\"\n      }\n    },\n    {\n      \"column\": \"playOut\",\n      \"properties\": {\n        \"dtype\": \"category\",\n        \"num_unique_values\": 2,\n        \"samples\": [\n          \"yes\",\n          \"no\"\n        ],\n        \"semantic_type\": \"\",\n        \"description\": \"\"\n      }\n    }\n  ]\n}",
              "type": "dataframe",
              "variable_name": "df_playOut"
            },
            "text/html": [
              "\n",
              "  <div id=\"df-e37ac283-559a-4f95-ac51-7cbaec2fb199\" class=\"colab-df-container\">\n",
              "    <div>\n",
              "<style scoped>\n",
              "    .dataframe tbody tr th:only-of-type {\n",
              "        vertical-align: middle;\n",
              "    }\n",
              "\n",
              "    .dataframe tbody tr th {\n",
              "        vertical-align: top;\n",
              "    }\n",
              "\n",
              "    .dataframe thead th {\n",
              "        text-align: right;\n",
              "    }\n",
              "</style>\n",
              "<table border=\"1\" class=\"dataframe\">\n",
              "  <thead>\n",
              "    <tr style=\"text-align: right;\">\n",
              "      <th></th>\n",
              "      <th>weather</th>\n",
              "      <th>temperature</th>\n",
              "      <th>humidity</th>\n",
              "      <th>wind</th>\n",
              "      <th>playOut</th>\n",
              "    </tr>\n",
              "  </thead>\n",
              "  <tbody>\n",
              "    <tr>\n",
              "      <th>0</th>\n",
              "      <td>sunny</td>\n",
              "      <td>hot</td>\n",
              "      <td>high</td>\n",
              "      <td>no</td>\n",
              "      <td>no</td>\n",
              "    </tr>\n",
              "    <tr>\n",
              "      <th>1</th>\n",
              "      <td>sunny</td>\n",
              "      <td>hot</td>\n",
              "      <td>high</td>\n",
              "      <td>yes</td>\n",
              "      <td>no</td>\n",
              "    </tr>\n",
              "    <tr>\n",
              "      <th>2</th>\n",
              "      <td>cloudy</td>\n",
              "      <td>hot</td>\n",
              "      <td>high</td>\n",
              "      <td>no</td>\n",
              "      <td>yes</td>\n",
              "    </tr>\n",
              "    <tr>\n",
              "      <th>3</th>\n",
              "      <td>rainy</td>\n",
              "      <td>cool</td>\n",
              "      <td>high</td>\n",
              "      <td>no</td>\n",
              "      <td>yes</td>\n",
              "    </tr>\n",
              "    <tr>\n",
              "      <th>4</th>\n",
              "      <td>rainy</td>\n",
              "      <td>mild</td>\n",
              "      <td>dry</td>\n",
              "      <td>no</td>\n",
              "      <td>yes</td>\n",
              "    </tr>\n",
              "    <tr>\n",
              "      <th>5</th>\n",
              "      <td>rainy</td>\n",
              "      <td>mild</td>\n",
              "      <td>dry</td>\n",
              "      <td>yes</td>\n",
              "      <td>no</td>\n",
              "    </tr>\n",
              "    <tr>\n",
              "      <th>6</th>\n",
              "      <td>cloudy</td>\n",
              "      <td>mild</td>\n",
              "      <td>dry</td>\n",
              "      <td>yes</td>\n",
              "      <td>yes</td>\n",
              "    </tr>\n",
              "    <tr>\n",
              "      <th>7</th>\n",
              "      <td>sunny</td>\n",
              "      <td>cool</td>\n",
              "      <td>high</td>\n",
              "      <td>no</td>\n",
              "      <td>no</td>\n",
              "    </tr>\n",
              "    <tr>\n",
              "      <th>8</th>\n",
              "      <td>sunny</td>\n",
              "      <td>mild</td>\n",
              "      <td>dry</td>\n",
              "      <td>no</td>\n",
              "      <td>yes</td>\n",
              "    </tr>\n",
              "    <tr>\n",
              "      <th>9</th>\n",
              "      <td>rainy</td>\n",
              "      <td>cool</td>\n",
              "      <td>dry</td>\n",
              "      <td>no</td>\n",
              "      <td>yes</td>\n",
              "    </tr>\n",
              "    <tr>\n",
              "      <th>10</th>\n",
              "      <td>sunny</td>\n",
              "      <td>cool</td>\n",
              "      <td>dry</td>\n",
              "      <td>yes</td>\n",
              "      <td>yes</td>\n",
              "    </tr>\n",
              "    <tr>\n",
              "      <th>11</th>\n",
              "      <td>cloudy</td>\n",
              "      <td>cool</td>\n",
              "      <td>high</td>\n",
              "      <td>yes</td>\n",
              "      <td>yes</td>\n",
              "    </tr>\n",
              "    <tr>\n",
              "      <th>12</th>\n",
              "      <td>cloudy</td>\n",
              "      <td>hot</td>\n",
              "      <td>dry</td>\n",
              "      <td>no</td>\n",
              "      <td>yes</td>\n",
              "    </tr>\n",
              "    <tr>\n",
              "      <th>13</th>\n",
              "      <td>rainy</td>\n",
              "      <td>cool</td>\n",
              "      <td>high</td>\n",
              "      <td>yes</td>\n",
              "      <td>no</td>\n",
              "    </tr>\n",
              "  </tbody>\n",
              "</table>\n",
              "</div>\n",
              "    <div class=\"colab-df-buttons\">\n",
              "\n",
              "  <div class=\"colab-df-container\">\n",
              "    <button class=\"colab-df-convert\" onclick=\"convertToInteractive('df-e37ac283-559a-4f95-ac51-7cbaec2fb199')\"\n",
              "            title=\"Convert this dataframe to an interactive table.\"\n",
              "            style=\"display:none;\">\n",
              "\n",
              "  <svg xmlns=\"http://www.w3.org/2000/svg\" height=\"24px\" viewBox=\"0 -960 960 960\">\n",
              "    <path d=\"M120-120v-720h720v720H120Zm60-500h600v-160H180v160Zm220 220h160v-160H400v160Zm0 220h160v-160H400v160ZM180-400h160v-160H180v160Zm440 0h160v-160H620v160ZM180-180h160v-160H180v160Zm440 0h160v-160H620v160Z\"/>\n",
              "  </svg>\n",
              "    </button>\n",
              "\n",
              "  <style>\n",
              "    .colab-df-container {\n",
              "      display:flex;\n",
              "      gap: 12px;\n",
              "    }\n",
              "\n",
              "    .colab-df-convert {\n",
              "      background-color: #E8F0FE;\n",
              "      border: none;\n",
              "      border-radius: 50%;\n",
              "      cursor: pointer;\n",
              "      display: none;\n",
              "      fill: #1967D2;\n",
              "      height: 32px;\n",
              "      padding: 0 0 0 0;\n",
              "      width: 32px;\n",
              "    }\n",
              "\n",
              "    .colab-df-convert:hover {\n",
              "      background-color: #E2EBFA;\n",
              "      box-shadow: 0px 1px 2px rgba(60, 64, 67, 0.3), 0px 1px 3px 1px rgba(60, 64, 67, 0.15);\n",
              "      fill: #174EA6;\n",
              "    }\n",
              "\n",
              "    .colab-df-buttons div {\n",
              "      margin-bottom: 4px;\n",
              "    }\n",
              "\n",
              "    [theme=dark] .colab-df-convert {\n",
              "      background-color: #3B4455;\n",
              "      fill: #D2E3FC;\n",
              "    }\n",
              "\n",
              "    [theme=dark] .colab-df-convert:hover {\n",
              "      background-color: #434B5C;\n",
              "      box-shadow: 0px 1px 3px 1px rgba(0, 0, 0, 0.15);\n",
              "      filter: drop-shadow(0px 1px 2px rgba(0, 0, 0, 0.3));\n",
              "      fill: #FFFFFF;\n",
              "    }\n",
              "  </style>\n",
              "\n",
              "    <script>\n",
              "      const buttonEl =\n",
              "        document.querySelector('#df-e37ac283-559a-4f95-ac51-7cbaec2fb199 button.colab-df-convert');\n",
              "      buttonEl.style.display =\n",
              "        google.colab.kernel.accessAllowed ? 'block' : 'none';\n",
              "\n",
              "      async function convertToInteractive(key) {\n",
              "        const element = document.querySelector('#df-e37ac283-559a-4f95-ac51-7cbaec2fb199');\n",
              "        const dataTable =\n",
              "          await google.colab.kernel.invokeFunction('convertToInteractive',\n",
              "                                                    [key], {});\n",
              "        if (!dataTable) return;\n",
              "\n",
              "        const docLinkHtml = 'Like what you see? Visit the ' +\n",
              "          '<a target=\"_blank\" href=https://colab.research.google.com/notebooks/data_table.ipynb>data table notebook</a>'\n",
              "          + ' to learn more about interactive tables.';\n",
              "        element.innerHTML = '';\n",
              "        dataTable['output_type'] = 'display_data';\n",
              "        await google.colab.output.renderOutput(dataTable, element);\n",
              "        const docLink = document.createElement('div');\n",
              "        docLink.innerHTML = docLinkHtml;\n",
              "        element.appendChild(docLink);\n",
              "      }\n",
              "    </script>\n",
              "  </div>\n",
              "\n",
              "\n",
              "<div id=\"df-a0a5d359-046d-4897-a93e-b1c329a5f0e0\">\n",
              "  <button class=\"colab-df-quickchart\" onclick=\"quickchart('df-a0a5d359-046d-4897-a93e-b1c329a5f0e0')\"\n",
              "            title=\"Suggest charts\"\n",
              "            style=\"display:none;\">\n",
              "\n",
              "<svg xmlns=\"http://www.w3.org/2000/svg\" height=\"24px\"viewBox=\"0 0 24 24\"\n",
              "     width=\"24px\">\n",
              "    <g>\n",
              "        <path d=\"M19 3H5c-1.1 0-2 .9-2 2v14c0 1.1.9 2 2 2h14c1.1 0 2-.9 2-2V5c0-1.1-.9-2-2-2zM9 17H7v-7h2v7zm4 0h-2V7h2v10zm4 0h-2v-4h2v4z\"/>\n",
              "    </g>\n",
              "</svg>\n",
              "  </button>\n",
              "\n",
              "<style>\n",
              "  .colab-df-quickchart {\n",
              "      --bg-color: #E8F0FE;\n",
              "      --fill-color: #1967D2;\n",
              "      --hover-bg-color: #E2EBFA;\n",
              "      --hover-fill-color: #174EA6;\n",
              "      --disabled-fill-color: #AAA;\n",
              "      --disabled-bg-color: #DDD;\n",
              "  }\n",
              "\n",
              "  [theme=dark] .colab-df-quickchart {\n",
              "      --bg-color: #3B4455;\n",
              "      --fill-color: #D2E3FC;\n",
              "      --hover-bg-color: #434B5C;\n",
              "      --hover-fill-color: #FFFFFF;\n",
              "      --disabled-bg-color: #3B4455;\n",
              "      --disabled-fill-color: #666;\n",
              "  }\n",
              "\n",
              "  .colab-df-quickchart {\n",
              "    background-color: var(--bg-color);\n",
              "    border: none;\n",
              "    border-radius: 50%;\n",
              "    cursor: pointer;\n",
              "    display: none;\n",
              "    fill: var(--fill-color);\n",
              "    height: 32px;\n",
              "    padding: 0;\n",
              "    width: 32px;\n",
              "  }\n",
              "\n",
              "  .colab-df-quickchart:hover {\n",
              "    background-color: var(--hover-bg-color);\n",
              "    box-shadow: 0 1px 2px rgba(60, 64, 67, 0.3), 0 1px 3px 1px rgba(60, 64, 67, 0.15);\n",
              "    fill: var(--button-hover-fill-color);\n",
              "  }\n",
              "\n",
              "  .colab-df-quickchart-complete:disabled,\n",
              "  .colab-df-quickchart-complete:disabled:hover {\n",
              "    background-color: var(--disabled-bg-color);\n",
              "    fill: var(--disabled-fill-color);\n",
              "    box-shadow: none;\n",
              "  }\n",
              "\n",
              "  .colab-df-spinner {\n",
              "    border: 2px solid var(--fill-color);\n",
              "    border-color: transparent;\n",
              "    border-bottom-color: var(--fill-color);\n",
              "    animation:\n",
              "      spin 1s steps(1) infinite;\n",
              "  }\n",
              "\n",
              "  @keyframes spin {\n",
              "    0% {\n",
              "      border-color: transparent;\n",
              "      border-bottom-color: var(--fill-color);\n",
              "      border-left-color: var(--fill-color);\n",
              "    }\n",
              "    20% {\n",
              "      border-color: transparent;\n",
              "      border-left-color: var(--fill-color);\n",
              "      border-top-color: var(--fill-color);\n",
              "    }\n",
              "    30% {\n",
              "      border-color: transparent;\n",
              "      border-left-color: var(--fill-color);\n",
              "      border-top-color: var(--fill-color);\n",
              "      border-right-color: var(--fill-color);\n",
              "    }\n",
              "    40% {\n",
              "      border-color: transparent;\n",
              "      border-right-color: var(--fill-color);\n",
              "      border-top-color: var(--fill-color);\n",
              "    }\n",
              "    60% {\n",
              "      border-color: transparent;\n",
              "      border-right-color: var(--fill-color);\n",
              "    }\n",
              "    80% {\n",
              "      border-color: transparent;\n",
              "      border-right-color: var(--fill-color);\n",
              "      border-bottom-color: var(--fill-color);\n",
              "    }\n",
              "    90% {\n",
              "      border-color: transparent;\n",
              "      border-bottom-color: var(--fill-color);\n",
              "    }\n",
              "  }\n",
              "</style>\n",
              "\n",
              "  <script>\n",
              "    async function quickchart(key) {\n",
              "      const quickchartButtonEl =\n",
              "        document.querySelector('#' + key + ' button');\n",
              "      quickchartButtonEl.disabled = true;  // To prevent multiple clicks.\n",
              "      quickchartButtonEl.classList.add('colab-df-spinner');\n",
              "      try {\n",
              "        const charts = await google.colab.kernel.invokeFunction(\n",
              "            'suggestCharts', [key], {});\n",
              "      } catch (error) {\n",
              "        console.error('Error during call to suggestCharts:', error);\n",
              "      }\n",
              "      quickchartButtonEl.classList.remove('colab-df-spinner');\n",
              "      quickchartButtonEl.classList.add('colab-df-quickchart-complete');\n",
              "    }\n",
              "    (() => {\n",
              "      let quickchartButtonEl =\n",
              "        document.querySelector('#df-a0a5d359-046d-4897-a93e-b1c329a5f0e0 button');\n",
              "      quickchartButtonEl.style.display =\n",
              "        google.colab.kernel.accessAllowed ? 'block' : 'none';\n",
              "    })();\n",
              "  </script>\n",
              "</div>\n",
              "\n",
              "  <div id=\"id_ffdf21b6-8d83-4bf5-8f6d-2a8dfe173432\">\n",
              "    <style>\n",
              "      .colab-df-generate {\n",
              "        background-color: #E8F0FE;\n",
              "        border: none;\n",
              "        border-radius: 50%;\n",
              "        cursor: pointer;\n",
              "        display: none;\n",
              "        fill: #1967D2;\n",
              "        height: 32px;\n",
              "        padding: 0 0 0 0;\n",
              "        width: 32px;\n",
              "      }\n",
              "\n",
              "      .colab-df-generate:hover {\n",
              "        background-color: #E2EBFA;\n",
              "        box-shadow: 0px 1px 2px rgba(60, 64, 67, 0.3), 0px 1px 3px 1px rgba(60, 64, 67, 0.15);\n",
              "        fill: #174EA6;\n",
              "      }\n",
              "\n",
              "      [theme=dark] .colab-df-generate {\n",
              "        background-color: #3B4455;\n",
              "        fill: #D2E3FC;\n",
              "      }\n",
              "\n",
              "      [theme=dark] .colab-df-generate:hover {\n",
              "        background-color: #434B5C;\n",
              "        box-shadow: 0px 1px 3px 1px rgba(0, 0, 0, 0.15);\n",
              "        filter: drop-shadow(0px 1px 2px rgba(0, 0, 0, 0.3));\n",
              "        fill: #FFFFFF;\n",
              "      }\n",
              "    </style>\n",
              "    <button class=\"colab-df-generate\" onclick=\"generateWithVariable('df_playOut')\"\n",
              "            title=\"Generate code using this dataframe.\"\n",
              "            style=\"display:none;\">\n",
              "\n",
              "  <svg xmlns=\"http://www.w3.org/2000/svg\" height=\"24px\"viewBox=\"0 0 24 24\"\n",
              "       width=\"24px\">\n",
              "    <path d=\"M7,19H8.4L18.45,9,17,7.55,7,17.6ZM5,21V16.75L18.45,3.32a2,2,0,0,1,2.83,0l1.4,1.43a1.91,1.91,0,0,1,.58,1.4,1.91,1.91,0,0,1-.58,1.4L9.25,21ZM18.45,9,17,7.55Zm-12,3A5.31,5.31,0,0,0,4.9,8.1,5.31,5.31,0,0,0,1,6.5,5.31,5.31,0,0,0,4.9,4.9,5.31,5.31,0,0,0,6.5,1,5.31,5.31,0,0,0,8.1,4.9,5.31,5.31,0,0,0,12,6.5,5.46,5.46,0,0,0,6.5,12Z\"/>\n",
              "  </svg>\n",
              "    </button>\n",
              "    <script>\n",
              "      (() => {\n",
              "      const buttonEl =\n",
              "        document.querySelector('#id_ffdf21b6-8d83-4bf5-8f6d-2a8dfe173432 button.colab-df-generate');\n",
              "      buttonEl.style.display =\n",
              "        google.colab.kernel.accessAllowed ? 'block' : 'none';\n",
              "\n",
              "      buttonEl.onclick = () => {\n",
              "        google.colab.notebook.generateWithVariable('df_playOut');\n",
              "      }\n",
              "      })();\n",
              "    </script>\n",
              "  </div>\n",
              "\n",
              "    </div>\n",
              "  </div>\n"
            ],
            "text/plain": [
              "   weather temperature humidity wind playOut\n",
              "0    sunny         hot     high   no      no\n",
              "1    sunny         hot     high  yes      no\n",
              "2   cloudy         hot     high   no     yes\n",
              "3    rainy        cool     high   no     yes\n",
              "4    rainy        mild      dry   no     yes\n",
              "5    rainy        mild      dry  yes      no\n",
              "6   cloudy        mild      dry  yes     yes\n",
              "7    sunny        cool     high   no      no\n",
              "8    sunny        mild      dry   no     yes\n",
              "9    rainy        cool      dry   no     yes\n",
              "10   sunny        cool      dry  yes     yes\n",
              "11  cloudy        cool     high  yes     yes\n",
              "12  cloudy         hot      dry   no     yes\n",
              "13   rainy        cool     high  yes      no"
            ]
          },
          "execution_count": 5,
          "metadata": {},
          "output_type": "execute_result"
        }
      ],
      "source": [
        "# Read dataset \"PlayOut.csv\" using pandas.read_csv\n",
        "df_playOut = pd.read_csv(\"data/PlayOut.csv\")\n",
        "# Print the DataFrame df_playOut\n",
        "df_playOut"
      ]
    },
    {
      "cell_type": "markdown",
      "metadata": {
        "id": "hbAoQXMDuh5-"
      },
      "source": [
        "Next, we need to separate data into : (1) inputs noted X, and (2) outputs(labels, classes) noted Y."
      ]
    },
    {
      "cell_type": "code",
      "execution_count": 6,
      "metadata": {
        "colab": {
          "base_uri": "https://localhost:8080/"
        },
        "id": "Fqn2lJtVuh5-",
        "outputId": "167eec98-3c19-4a16-f57c-28205350628f"
      },
      "outputs": [
        {
          "name": "stdout",
          "output_type": "stream",
          "text": [
            "X_playOut : \n",
            " [['sunny' 'hot' 'high' 'no']\n",
            " ['sunny' 'hot' 'high' 'yes']\n",
            " ['cloudy' 'hot' 'high' 'no']\n",
            " ['rainy' 'cool' 'high' 'no']\n",
            " ['rainy' 'mild' 'dry' 'no']\n",
            " ['rainy' 'mild' 'dry' 'yes']\n",
            " ['cloudy' 'mild' 'dry' 'yes']\n",
            " ['sunny' 'cool' 'high' 'no']\n",
            " ['sunny' 'mild' 'dry' 'no']\n",
            " ['rainy' 'cool' 'dry' 'no']\n",
            " ['sunny' 'cool' 'dry' 'yes']\n",
            " ['cloudy' 'cool' 'high' 'yes']\n",
            " ['cloudy' 'hot' 'dry' 'no']\n",
            " ['rainy' 'cool' 'high' 'yes']]\n",
            "\n",
            "Y_playOut : \n",
            " ['no' 'no' 'yes' 'yes' 'yes' 'no' 'yes' 'no' 'yes' 'yes' 'yes' 'yes' 'yes'\n",
            " 'no']\n"
          ]
        }
      ],
      "source": [
        "# Get the first columns that represents the features\n",
        "X_playOut = df_playOut.iloc[:, :-1].values\n",
        "\n",
        "# Get the last column of labels (classes)\n",
        "Y_playOut = df_playOut.iloc[:,-1].values\n",
        "\n",
        "# Print X\n",
        "print(\"X_playOut : \\n\",X_playOut[:, :])\n",
        "\n",
        "# Print Y\n",
        "print(\"\\nY_playOut : \\n\",Y_playOut)"
      ]
    },
    {
      "cell_type": "markdown",
      "metadata": {
        "id": "IAC-m0uAuh5-"
      },
      "source": [
        "#### 2.1.2 Probability function\n",
        "\n",
        "Let :\n",
        "\n",
        "$S$ : Be a set of values (we represent that with a strings vector in python).\n",
        "\n",
        "$v$ : Be a value (in our case it represents a string value)\n",
        "\n",
        "**The probability of occurrence of a value $v$ in $S$ is** : the number of occurrences of $v$ in $S$ divided by the total number of elements of the set $S$, as written in the following formula :\n",
        "\n",
        "$$p(S = v) = \\frac{|\\{x \\in S / x = v\\}|}{|S|}$$\n",
        "\n",
        "For example, let's take the column \"PlayOut\".\n",
        "The number of \"yes\" is 9 and the total number of rows is 14, therefore :\n",
        "$$p(PlayOut=yes) = \\frac{9}{14} = 0.6428571428571429$$"
      ]
    },
    {
      "cell_type": "code",
      "execution_count": 7,
      "metadata": {
        "id": "KatOo4aYuh5-"
      },
      "outputs": [],
      "source": [
        "# TODO\n",
        "# calculate the probability of occurrence of a value val in a set S\n",
        "# Note : if division always returns 0, try applying float(x) to the numerator or denominator\n",
        "\n",
        "def P(S: np.ndarray, val: str) -> float:\n",
        "    '''\n",
        "    Input :\n",
        "        S :  is a string vector (array)\n",
        "        v : String\n",
        "    Output :\n",
        "        results :float, the probability of occurrence.\n",
        "    '''\n",
        "    ### BEGIN : Write your code here\n",
        "\n",
        "    results = np.sum(S == val) / len(S)\n",
        "\n",
        "    ### END\n",
        "    return results\n"
      ]
    },
    {
      "cell_type": "markdown",
      "metadata": {
        "id": "iute_LNTuh5_"
      },
      "source": [
        "if we do a hand calculation of the following probabilities with a precision of\n",
        "5 digits after the decimal point (no rounding), here's what we get :\n",
        "- $P(PlayOut = yes) = 9/14 = 0.64285$\n",
        "- $P(weather = sunny) = 5/14 = 0.35714$\n",
        "- $P(weather = cloudy) = 4/14 = 0.28571$\n",
        "- $P(weather = rainy) = 5/14 = 0.35714$\n",
        "\n",
        "In the next cell, we are going to check if our function returns correct answers for this probabilities"
      ]
    },
    {
      "cell_type": "code",
      "execution_count": 8,
      "metadata": {
        "colab": {
          "base_uri": "https://localhost:8080/"
        },
        "id": "RfBsQK5Nuh5_",
        "outputId": "3acd7229-cf4b-4d80-fc5b-b6de813b4ec2"
      },
      "outputs": [
        {
          "name": "stdout",
          "output_type": "stream",
          "text": [
            "P(playOut = yes)    =  0.6428571428571429\n",
            "P(weather = sunny)  =  0.35714285714285715\n",
            "P(weather = cloudy) =  0.2857142857142857\n",
            "P(weather = rainy)  =  0.35714285714285715\n"
          ]
        }
      ],
      "source": [
        "#=====================================================================\n",
        "# UNIT TESTING (Run the cell and compare your results)\n",
        "#=====================================================================\n",
        "# Results :\n",
        "# P(playOut = yes)    =  0.6428571428571429\n",
        "# P(weather = sunny)  =  0.35714285714285715\n",
        "# P(weather = cloudy) =  0.2857142857142857\n",
        "# P(weather = rainy)  =  0.35714285714285715\n",
        "#---------------------------------------------------------------------\n",
        "print(\"P(playOut = yes)    = \",P(Y_playOut, \"yes\"))\n",
        "print(\"P(weather = sunny)  = \",P(X_playOut[:,0], \"sunny\"))\n",
        "print(\"P(weather = cloudy) = \",P(X_playOut[:, 0], \"cloudy\"))\n",
        "print(\"P(weather = rainy)  = \",P(X_playOut[:,0], \"rainy\"))"
      ]
    },
    {
      "cell_type": "markdown",
      "metadata": {
        "id": "jVw1iWDuuh5_"
      },
      "source": [
        "#### 2.1.3 Uncertainty of a set\n",
        "\n",
        "- **The concept of information entropy** was introduced by Claude Shannon in his 1948 paper \"A Mathematical Theory of Communication\"[(Shannon, Claude E., 1948)](https://pure.mpg.de/rest/items/item_2383164/component/file_2383163/content), and is also referred to as Shannon entropy.\n",
        "\n",
        "- **Shannon entropy** is the amount of information contained in a source of information; the more different information the source carries, the greater the entropy (or uncertainty about what the source carries).\n",
        "\n",
        "- Thus, a set with an entropy of 0 contains the same values.\n",
        "\n",
        "So, Let :\n",
        "- $S$ be a set of values\n",
        "- $V$ a set of unique values of $S$\n",
        "\n",
        "The entropy of $S$ is calculated as follows:\n",
        "$$H(S) = - \\sum\\limits_{v \\in V} p(v/S) \\log_2 p(v/S)$$\n",
        "\n",
        "For example, the column \"PlayOut\" contains two values \"yes\" and \"no\".  Its entopy is :\n",
        "$$H(PlayOut) = - \\frac{9}{14} * \\log_2(\\frac{9}{14}) - \\frac{5}{14} * \\log_2(\\frac{5}{14}) = 0.9402859586706309$$"
      ]
    },
    {
      "cell_type": "code",
      "execution_count": 9,
      "metadata": {
        "id": "douq5EkDuh5_"
      },
      "outputs": [],
      "source": [
        "# TODO complete the entropy function\n",
        "# Hint : The numpy function ''numpy.log2'' computes Base-2 logarithm (log2) of a value, vector or matrix\n",
        "# See also : https://numpy.org/doc/stable/reference/generated/numpy.log2.html\n",
        "\n",
        "def H(S: np.ndarray) -> float:\n",
        "    '''\n",
        "    Input :\n",
        "        S : ndarray, set of values\n",
        "    Output :\n",
        "        entropy : float, the information entropy score of the set S\n",
        "    '''\n",
        "    vals = np.unique(S) # Get the set of unique values of the array S\n",
        "    entropy  = 0        # Set\n",
        "\n",
        "    ### BEGIN : Write your code here\n",
        "    # Hint : Apply the formula using a loop\n",
        "    entropy = -sum(P(S, val) * np.log2(P(S, val)) for val in vals)\n",
        "\n",
        "    ### END\n",
        "\n",
        "    return entropy"
      ]
    },
    {
      "cell_type": "markdown",
      "metadata": {
        "id": "JVlZXyfjuh6A"
      },
      "source": [
        "**Hand calculation :**\n",
        "\n",
        "\n",
        "$H(weather) = -P(temps = sunny)*log2(P(weather = sunny)) - P(weather = cloudy)*log2(P(weather=cloudy)) - P(weather=rainy)*log2(P(weather=rainy))$\n",
        "\n",
        "$H(weather) = - 5/14 * log2(5/14) - 4/14 * log2(4/14) - 5/14 * log2(5/14) = 1.5774062828523454 $"
      ]
    },
    {
      "cell_type": "code",
      "execution_count": 10,
      "metadata": {
        "colab": {
          "base_uri": "https://localhost:8080/"
        },
        "id": "YN66W6x2uh6A",
        "outputId": "00e51afa-edd3-420c-9c7f-2a76fe8a0a7a"
      },
      "outputs": [
        {
          "name": "stdout",
          "output_type": "stream",
          "text": [
            "H(playOut) = 0.9402859586706311\n",
            "H(weather) = 1.5774062828523454\n"
          ]
        }
      ],
      "source": [
        "#=====================================================================\n",
        "# UNIT TEST (Run the cell and compare your results)\n",
        "#=====================================================================\n",
        "# Results :\n",
        "# H(playOut) = 0.9402859586706311\n",
        "# H(weather) = 1.5774062828523454\n",
        "#---------------------------------------------------------------------\n",
        "print(\"H(playOut) =\", H(Y_playOut))\n",
        "print(\"H(weather) =\", H(X_playOut[:,0]))"
      ]
    },
    {
      "cell_type": "markdown",
      "metadata": {
        "id": "N--uBZ1Suh6A"
      },
      "source": [
        "#### 2.1.4 Splitting of a set\n",
        "\n",
        "Here we try to split the list of predictions (classes) according to the values of an attribute (characteristic, column) into sub-lists, Let :\n",
        "- $S$ : be the list of values to be divided (Represented as a vector, since we have to use the order of the elements)\n",
        "- $A$ : the set of values of an attribute (characteristic, column). It is a vector aligned with S; i.e., each element of A has a respective element of S.\n",
        "- $val$ : be the value on which we base our split.\n",
        "\n",
        "This can be formulated as follows:\n",
        "\n",
        "$$S_{A, val} = \\{v_i \\in S  / i \\in \\{j / a_j \\in A \\text{ et } a_j = val\\}\\}$$\n",
        "\n",
        "Or simply :\n",
        "\n",
        "$$S_{A,val} = \\{s_i \\in S / a_i \\in A \\wedge a_i = val\\}\\}$$\n",
        "\n",
        "For example, let's say :\n",
        "- $S$ is the set of \"**PlayOut**\" classes e.g., [yes, no, yes , yes , ...]\n",
        "- $A$ is the set of characteristic values \"**weather**\" e.g, [sunny, cloudy, ...]\n",
        "- $val$ is the value \"**sunny**\"\n",
        "\n",
        "Therefore, the subset of \"**PlayOut**\" where (**weather = \"sunny\"**) contains 3 \"no\"s and 2 \"yes\"s Classes."
      ]
    },
    {
      "cell_type": "code",
      "execution_count": 11,
      "metadata": {
        "id": "OCdHgVpZuh6A"
      },
      "outputs": [],
      "source": [
        "# TODO complete the function code\n",
        "# it must return a subset of S\n",
        "# where the respective values in A are equal to val\n",
        "\n",
        "def split_ID3(S: np.ndarray, A: np.ndarray, val: str) -> np.ndarray:\n",
        "    '''\n",
        "    Input :\n",
        "        S : numpu.ndarray, the list of values to be divided.\n",
        "        A : numpu.ndarray, the list of the characteristic values.\n",
        "        val : string value, on which we base our split.\n",
        "    Output :\n",
        "        subset : numpy.ndarray, a subset of S where the respective values in A are equal to val\n",
        "    '''\n",
        "    ### BEGIN : Write your code here\n",
        "    subset = S[A == val]\n",
        "\n",
        "    ### END\n",
        "    return subset"
      ]
    },
    {
      "cell_type": "code",
      "execution_count": 12,
      "metadata": {
        "colab": {
          "base_uri": "https://localhost:8080/"
        },
        "id": "HA6OMDPPuh6B",
        "outputId": "3153dca0-fa58-4920-8712-7455c9cf19ab"
      },
      "outputs": [
        {
          "data": {
            "text/plain": [
              "array(['no', 'no', 'no', 'yes', 'yes'], dtype=object)"
            ]
          },
          "execution_count": 12,
          "metadata": {},
          "output_type": "execute_result"
        }
      ],
      "source": [
        "#=====================================================================\n",
        "# UNIT TEST (Run the cell and compare your results)\n",
        "#=====================================================================\n",
        "# Results :\n",
        "# array(['no', 'no', 'no', 'yes', 'yes'], dtype=object)\n",
        "#---------------------------------------------------------------------\n",
        "split_ID3(Y_playOut, X_playOut[:,0], \"sunny\")"
      ]
    },
    {
      "cell_type": "markdown",
      "metadata": {
        "id": "oMHqQhdauh6B"
      },
      "source": [
        "- Now we split the traget column \"PlayOut\" (Y_playOut) into three subsets according to the values of the \"weather\" column.\n",
        "- For each subset, we calculate the entropy."
      ]
    },
    {
      "cell_type": "code",
      "execution_count": 13,
      "metadata": {
        "colab": {
          "base_uri": "https://localhost:8080/"
        },
        "id": "LEwPlXpouh6B",
        "outputId": "168f62e1-4b64-4723-d127-638612e480b0"
      },
      "outputs": [
        {
          "name": "stdout",
          "output_type": "stream",
          "text": [
            "H(Y_sunny) = 0.9709505944546686\n",
            "H(Y_cloudy)= -0.0\n",
            "H(Y_rainy) = 0.9709505944546686\n"
          ]
        }
      ],
      "source": [
        "Y_sunny = split_ID3(Y_playOut, X_playOut[:,0], \"sunny\")\n",
        "# PalyOut: 2 yes, 3 no\n",
        "# H(S_sunny) = - 2/5 * log2(2/5) - 3/5 * log2(3/5) = 0.9709505944546686\n",
        "\n",
        "Y_cloudy = split_ID3(Y_playOut, X_playOut[:,0], \"cloudy\") # jouer: 4 oui, 0 non\n",
        "# P(S_cloudy) = - 4/4 * log2(4/4) - 0/4 * log2(0/4) = 0.0\n",
        "\n",
        "Y_rainy = split_ID3(Y_playOut, X_playOut[:,0], \"rainy\") # jouer: 3 oui, 2 non\n",
        "# P(S_rainy) = - 3/5 * log2(3/5) - 2/5 * log2(2/5) = 0.971\n",
        "\n",
        "#---------------------------------------------------------------------\n",
        "# Results :\n",
        "# H(Y_sunny) = 0.9709505944546686\n",
        "# H(Y_cloudy)= 0.0\n",
        "# H(Y_rainy) = 0.9709505944546686\n",
        "#---------------------------------------------------------------------\n",
        "print(\"H(Y_sunny) =\", H(Y_sunny))\n",
        "print(\"H(Y_cloudy)=\", H(Y_cloudy))\n",
        "print(\"H(Y_rainy) =\", H(Y_rainy))"
      ]
    },
    {
      "cell_type": "markdown",
      "metadata": {
        "id": "6JWOlQz5uh6B"
      },
      "source": [
        "**Note**: the entropy of the set (weather = cloudy) is 0\n",
        "\n",
        "**Question (Q1)** :\n",
        "- What does this mean ?\n",
        "- Do we need to divide this set using another characteristic ?"
      ]
    },
    {
      "cell_type": "markdown",
      "metadata": {
        "id": "Xpy66Ufruh6B"
      },
      "source": [
        "**Your Answer (A1) :**\n",
        "\n",
        "- $H = 0$ means no uncertainty. All the values in this subset are the same (in this case, all \"yes\"). The subset is \"pure\". So no need for further division"
      ]
    },
    {
      "cell_type": "markdown",
      "metadata": {
        "id": "mzb9UJ7muh6C"
      },
      "source": [
        "#### 2.1.5 Information Gain"
      ]
    },
    {
      "cell_type": "markdown",
      "metadata": {
        "id": "P-SBwo9Puh6C"
      },
      "source": [
        "The Information Gain (IG) is the difference between the entropy before and after the division of a set $S$ based on the attribute $A$.\n",
        "\n",
        "In other words, how much uncertainty in $S$ has been reduced after splitting it using the attribute $A$.\n",
        "\n",
        "Given :\n",
        "- $S$: a set (in our case, the set of classes)\n",
        "- $A$: set of values of an attribute (characteristic, column)\n",
        "- $V$ : the set of the different values of the attribute $A$\n",
        "- $P(v/A)$ : the likelihood of occurrence of the value $v$ in $A$\n",
        "- $S_{A, v}$ : subset of $S$ where the values of $A$ equal $v$  (using the previous function (split_ID3)\n",
        "\n",
        "The information gain is calculated as follows:\n",
        "\n",
        "$$IG(S, A) = H(S) - \\sum_{v \\in V} p(v/A) H(S_{A, v})$$"
      ]
    },
    {
      "cell_type": "code",
      "execution_count": 14,
      "metadata": {
        "id": "clG7d1cfuh6C"
      },
      "outputs": [],
      "source": [
        "# TODO Complete the information gain function code\n",
        "# It must return the information gain and the entropy\n",
        "# Entropy is returned so that it is not recalculated later\n",
        "\n",
        "def IG(S: np.ndarray, A: np.ndarray) -> Tuple[float, float]:\n",
        "    '''\n",
        "    Inputs :\n",
        "        S: np.ndarray, array of the target variable (classes)\n",
        "        A: np.ndarray, array of values of an attribute (characteristic, column) to calculate the IG on.\n",
        "    Outputs :\n",
        "        ig_A : the information gain score we obtain if we split S based on A attributes\n",
        "        ig_global : The global information gain entropy\n",
        "    '''\n",
        "    vals = np.unique(A) # Get unique value of the array \"A\"\n",
        "    ig_global = H(S)    # Calculate the entropy of the array S before the splits\n",
        "    ig_A = ig_global    # Set ig_A to the maximum\n",
        "\n",
        "    ### BEGIN : Write your code here\n",
        "    # Hint : Apply the formula using a loop\n",
        "\n",
        "    for val in vals:\n",
        "        S_A_val = split_ID3(S, A, val)\n",
        "        p_val = P(A, val)\n",
        "        ig_A -= p_val * H(S_A_val)\n",
        "    ### END\n",
        "\n",
        "    return ig_A, ig_global"
      ]
    },
    {
      "cell_type": "markdown",
      "metadata": {
        "id": "3HdMWmlHuh6C"
      },
      "source": [
        "**Hand Calculation :**\n",
        "\n",
        "- $ IG(PlayOut, Weather) = H(Y_playOut) - P(Weather = sunny /A) * H(S_sunny)  \n",
        "                                        - P(temps = nuageux   /A) * H(S_nuageux)\n",
        "                                        - P(temps = pluvieux  /A) * H(S_pluvieux) $\n",
        "                                        \n",
        "\n",
        "- $ IG(PlayOut, Weather) = 0.9402859586706311 - P(temps = ensoleilé)* (0.9709505944546686)\n",
        "                                              - P(temps = nuageux)*(0.0)\n",
        "                                              - P(temps = pluvieux) *(0.9709505944546686) $\n",
        "\n",
        "\n",
        "- $ IG(PlayOut, Weather) = 0.2467498197744391 $"
      ]
    },
    {
      "cell_type": "code",
      "execution_count": 15,
      "metadata": {
        "colab": {
          "base_uri": "https://localhost:8080/"
        },
        "id": "F1VR3h51uh6C",
        "outputId": "4f2b775b-ef4b-45c0-f372-3088bfd5ffd8"
      },
      "outputs": [
        {
          "name": "stdout",
          "output_type": "stream",
          "text": [
            "IG(PlayOut, weather) :  (0.24674981977443933, 0.9402859586706311)\n",
            "IG(PlayOut, temperature) :  (0.02922256565895487, 0.9402859586706311)\n",
            "IG(PlayOut, humidity) :  (0.15183550136234164, 0.9402859586706311)\n",
            "IG(PlayOut, wind) :  (0.048127030408269544, 0.9402859586706311)\n"
          ]
        }
      ],
      "source": [
        "#=====================================================================\n",
        "# UNIT TEST (Run the cell and compare your results)\n",
        "#=====================================================================\n",
        "# Results :\n",
        "# IG(Y_playOut, Weather) :  (0.24674981977443933, 0.9402859586706311)\n",
        "# IG(Y_playOut, temperature) :  (0.02922256565895487, 0.9402859586706311)\n",
        "# IG(Y_playOut, humidity) :  (0.15183550136234164, 0.9402859586706311)\n",
        "# IG(Y_playOut, wind) :  (0.048127030408269544, 0.9402859586706311)\n",
        "#---------------------------------------------------------------------\n",
        "\n",
        "print(\"IG(PlayOut, weather) : \",IG(Y_playOut, X_playOut[:, 0]))\n",
        "print(\"IG(PlayOut, temperature) : \",IG(Y_playOut, X_playOut[:, 1]))\n",
        "print(\"IG(PlayOut, humidity) : \",IG(Y_playOut, X_playOut[:, 2]))\n",
        "print(\"IG(PlayOut, wind) : \",IG(Y_playOut, X_playOut[:, 3]))"
      ]
    },
    {
      "cell_type": "markdown",
      "metadata": {
        "id": "TZIeyJo7uh6D"
      },
      "source": [
        "**Question (Q2) :**\n",
        "- What do you think is the ideal feature we should use to divide the first node of our decision tree?\n",
        "- Why ? (Please provide an explanation)"
      ]
    },
    {
      "cell_type": "markdown",
      "metadata": {
        "id": "tXdokua0uh6D"
      },
      "source": [
        "**Your Answer (A2) :**\n",
        "[ Write your answer here ]\n",
        "\n",
        "- Ideal Feature: Weather because it is the highest Information Gain (0.247) which maximizes reduction in uncertainty.\n"
      ]
    },
    {
      "cell_type": "markdown",
      "metadata": {
        "id": "WMXp9KTjuh6D"
      },
      "source": [
        "#### 2.1.6 Selection of the ID3 split feature\n",
        "- The goal here is to code a function that will help us to find the relevant Splitting feature for each given node level.\n",
        "- To do that, we should look for the feature that maximises IG :\n",
        "$$ f\\_index = \\arg\\max_i IG(Y, X_i)$$\n",
        "- The function must return the index of the relevant feature $f\\_index$, the IG score of the split using f_index and the entropy"
      ]
    },
    {
      "cell_type": "code",
      "execution_count": 16,
      "metadata": {
        "id": "xJBsyteVuh6D"
      },
      "outputs": [],
      "source": [
        "# TODO complete the following function code\n",
        "# splitting_feature_ID3(X, Y) : seeks the most relevant feature to split Y.\n",
        "# it must also return the Information Gain (IG) and H(entropy) of this relevant feature.\n",
        "\n",
        "def splitting_feature_ID3(X: np.ndarray, Y: np.ndarray) -> Tuple[int, float, float]:\n",
        "    '''\n",
        "    This function seeks the most relevant feature to split Y.\n",
        "    Returns the IG and H of selected feature.\n",
        "    mathematical formula : Max(IG(Y,X[i])) => return the index i (argmax)\n",
        "    '''\n",
        "    # create an empty list to get calculate all the Information gain (IG) scores for every feature in X\n",
        "    IG_vector = []\n",
        "    # loop over the columns of X and calculate the IG score\n",
        "    for i in range(X.shape[1]):\n",
        "        # we append respectively the scores to the IG_vector list of IG scores\n",
        "        IG_vector.append(IG(Y, X[:, i]))\n",
        "\n",
        "    ### BEGIN : Write your code here\n",
        "\n",
        "    # Get the index of the relevant feature\n",
        "    featureId = np.argmax([ig for ig, _ in IG_vector])\n",
        "\n",
        "    # Calculate the information gain using this selected feature\n",
        "    ig        = IG_vector[featureId][0]\n",
        "\n",
        "    # Calculate the global entropy\n",
        "    h         = IG_vector[featureId][1]\n",
        "\n",
        "    # Calculate the information gain using this selected feature\n",
        "    ig, h = IG_vector[featureId]\n",
        "    ### END\n",
        "\n",
        "    return featureId, ig, h"
      ]
    },
    {
      "cell_type": "code",
      "execution_count": 17,
      "metadata": {
        "colab": {
          "base_uri": "https://localhost:8080/"
        },
        "id": "8VQbLiZUuh6D",
        "outputId": "7a232e38-b331-406b-fd45-a65763176413"
      },
      "outputs": [
        {
          "data": {
            "text/plain": [
              "(0, 0.24674981977443933, 0.9402859586706311)"
            ]
          },
          "execution_count": 17,
          "metadata": {},
          "output_type": "execute_result"
        }
      ],
      "source": [
        "#=====================================================================\n",
        "# UNIT TEST (Run the cell and compare your results)\n",
        "#=====================================================================\n",
        "# Result :\n",
        "# (0, 0.24674981977443933, 0.9402859586706311)\n",
        "#---------------------------------------------------------------------\n",
        "splitting_feature_ID3(X_playOut, Y_playOut)"
      ]
    },
    {
      "cell_type": "markdown",
      "metadata": {
        "id": "UL79O6Inuh6D"
      },
      "source": [
        "#### 2.1.7 Creation of the decision tree\n",
        "*Note : Nothing to code or analyse here.*\n",
        "- We create a structure for the tree (Node class)\n",
        "- We implement a recursive function to create a tree from a set"
      ]
    },
    {
      "cell_type": "code",
      "execution_count": 18,
      "metadata": {
        "id": "lt92JxSRuh6E"
      },
      "outputs": [],
      "source": [
        "class Node(object):\n",
        "    '''\n",
        "    # Node Class : A class to hold the Node information and the list of its children.\n",
        "    '''\n",
        "    nbr = 0 # RootID\n",
        "\n",
        "    def __init__(self, featureId, ig, h, depth):\n",
        "        self.featureId = featureId    # The featureId of the feature we used for spliting to get this node\n",
        "        self.ig        = ig           # The Information Gain of the spletting node\n",
        "        self.h         = h            # the entropy H\n",
        "        self.depth     = depth        # the depth of the node\n",
        "        self.children  = {}           # Node children, we store them in a dictionary of type Node\n",
        "        self.cls       = \"\"           # the class if this node is final (if there are no children)\n",
        "        self.indent    = \"    \"       # indentation when generating the pseaudo code\n",
        "\n",
        "    def __str__(self):\n",
        "        '''\n",
        "        This function (parser) is to transform the node to a string.\n",
        "        Here we have redefined this function to write the tree as a pseaudo algorithm.\n",
        "        '''\n",
        "        indent = self.indent * self.depth               # indentation: aesthetics\n",
        "        if (len(self.children)==0):                     # IF there are no children, the node is terminal (leaf)\n",
        "            return indent + 'Y IS \"' + self.cls + '\"\\n' # => we print the class\n",
        "        res = \"\"                                        # ELSE, we loop over the children nodes and print IFs ... ELSE\n",
        "\n",
        "        for childNode in self.children:\n",
        "            res += indent + 'IF X[' + str(self.featureId) + '] IS \"' + str(childNode) + '\" THEN\\n' + str(self.children[childNode])\n",
        "\n",
        "        return res\n",
        "\n",
        "    def predict(self, x: List[str]) -> str:\n",
        "        '''\n",
        "        Prediction Function : Given and instnace X it return the predicted target class Y'\n",
        "        '''\n",
        "        # IF the node is final, it returns its class\n",
        "        if (len(self.children)==0):\n",
        "            return self.cls\n",
        "        # IF the value of the respective column at this node does not belong to the set of expected values, we return np.nan\n",
        "        if x[self.featureId] not in self.children:\n",
        "            return np.nan\n",
        "        # Else, we do a recursive call and run the instance over the decision tree\n",
        "        return self.children[x[self.featureId]].predict(x)\n",
        "\n",
        "    def graphviz(self):\n",
        "        '''\n",
        "        This functiongenerate the Pseudocode for graphviz\n",
        "        '''\n",
        "        nid = 'N' + str(Node.nbr)\n",
        "        Node.nbr += 1\n",
        "        # If the node is a final one,\n",
        "        if (len(self.children)==0):\n",
        "            return nid, nid + '[label=\"' + self.cls + '\" shape=ellipse];\\n'\n",
        "        # Else if there are children nodes, we loop over them and print IF ... THEN .. structure\n",
        "        res = nid + '[label=\"X[' + str(self.featureId) + ']\\\\n'\n",
        "        res += 'H = ' + str(self.h) + '\\\\n'\n",
        "        res += 'IG = ' + str(self.ig) + '\"];\\n'\n",
        "        for value in self.children:\n",
        "            vid, code = self.children[value].graphviz()\n",
        "            res += code\n",
        "            res += nid + ' -> ' + vid + ' [label=\"' + value + '\"];\\n'\n",
        "        return nid, res"
      ]
    },
    {
      "cell_type": "code",
      "execution_count": 19,
      "metadata": {
        "id": "rIvTyEbBuh6E"
      },
      "outputs": [],
      "source": [
        "def train_ID3(X, Y, depth=0, pruning=False):\n",
        "    '''\n",
        "    Training function : Learn and create the decision tree from a set of X (features) and Y(Target/Labels)\n",
        "    '''\n",
        "    featureId, ig, h = splitting_feature_ID3(X, Y)     # Find the best feature of X to split Y\n",
        "    node = Node(featureId, ig, h, depth)           # Create a node\n",
        "\n",
        "    if h == 0.0:                                   # If the entropy is 0 then the node is a leaf\n",
        "        node.cls = Y[0]                            # the class of the node\n",
        "        return node                                # return the node\n",
        "\n",
        "    if depth > 3 and pruning:                      # There is no pruning in ID3, but it must be enabled\n",
        "        node.cls = max(set(Y))                     # To avoid the problem of max recursivity\n",
        "        return node                                # return the node\n",
        "\n",
        "                                                   # Else, if the node is not a leaf, we create these children\n",
        "    depth += 1                                     # the depth of its children\n",
        "                                                   # the children are created from the unique values of the selected relevant feature\n",
        "    for val in np.unique(X[:, featureId]):\n",
        "        msk = X[:, featureId] == val               # These three lines are to retrieve the subsets X_val, Y_val\n",
        "        X_val = X[msk]                             # corresponding to a value of the selected relevant feature\n",
        "        Y_val = Y[msk]                             # We do the same operation on the set (Y_val) in a recursive way\n",
        "        children = train_ID3(X_val, Y_val, depth, pruning)\n",
        "        node.children[val] = children\n",
        "                                                  # We assign the created node indexed by the value of the selected relevant feature\n",
        "                                                  # to the children of the current node\n",
        "    return node"
      ]
    },
    {
      "cell_type": "code",
      "execution_count": 20,
      "metadata": {
        "colab": {
          "base_uri": "https://localhost:8080/"
        },
        "id": "JWgWbjAbuh6E",
        "outputId": "073b8b60-0ee4-4999-e9bd-1cef8044ae66"
      },
      "outputs": [
        {
          "name": "stdout",
          "output_type": "stream",
          "text": [
            "The Decision Tree ID3 Pseudocode : \n",
            "\n",
            "IF X[0] IS \"cloudy\" THEN\n",
            "    Y IS \"yes\"\n",
            "IF X[0] IS \"rainy\" THEN\n",
            "    IF X[3] IS \"no\" THEN\n",
            "        Y IS \"yes\"\n",
            "    IF X[3] IS \"yes\" THEN\n",
            "        Y IS \"no\"\n",
            "IF X[0] IS \"sunny\" THEN\n",
            "    IF X[2] IS \"dry\" THEN\n",
            "        Y IS \"yes\"\n",
            "    IF X[2] IS \"high\" THEN\n",
            "        Y IS \"no\"\n",
            "\n",
            "X =  ['cloudy', 'no_temperature', 'no_humidity', 'no']  | Prediction : Y'= yes\n"
          ]
        }
      ],
      "source": [
        "playOut_Tree = train_ID3(X_playOut, Y_playOut)\n",
        "\n",
        "print(\"The Decision Tree ID3 Pseudocode : \\n\")\n",
        "print(playOut_Tree)\n",
        "\n",
        "# Test our model on a sample (new instance) : [\"cloudy\", \"no_temperature\", \"no_humidity\", \"no\"]\n",
        "x_test = [\"cloudy\", \"no_temperature\", \"no_humidity\", \"no\"]\n",
        "pred = playOut_Tree.predict(x_test)\n",
        "print(\"X = \",x_test,\" | Prediction : Y'=\",pred)"
      ]
    },
    {
      "cell_type": "markdown",
      "metadata": {
        "id": "PguQnOhfuh6E"
      },
      "source": [
        "#### 2.1.8 Bundling all functions together"
      ]
    },
    {
      "cell_type": "markdown",
      "metadata": {
        "id": "2Ko8XNQJuh6E"
      },
      "source": [
        "- *PS : Nothing to code here*\n",
        "- There is a question to answer."
      ]
    },
    {
      "cell_type": "code",
      "execution_count": 21,
      "metadata": {
        "id": "E0k4NHiNuh6F"
      },
      "outputs": [],
      "source": [
        "class ID3(object):\n",
        "\n",
        "    def train(self, X, Y, X_names=[], Y_name=\"\", pruning=False):\n",
        "        self.tree = train_ID3(X, Y, pruning=pruning)\n",
        "        pseudoCode  = str(self.tree)\n",
        "        if len(Y_name) > 0:\n",
        "            pseudoCode = pseudoCode.replace(\"Y\", Y_name)\n",
        "        for i in range(len(X_names)):\n",
        "            pseudoCode = pseudoCode.replace(\"X[\" + str(i) + \"]\", X_names[i])\n",
        "        self.pseudoCode = pseudoCode\n",
        "        self.X_names = X_names\n",
        "\n",
        "    def predict(self, X):\n",
        "        predictions = []\n",
        "        for i in range(len(X)):\n",
        "            predictions.append(self.tree.predict(X[i, :]))\n",
        "        return predictions\n",
        "\n",
        "    def graphviz(self):\n",
        "        nid, pseudoCode = self.tree.graphviz()\n",
        "        res = \"digraph Tree {\\n\"\n",
        "        res += \"node [shape=box] ;\"\n",
        "        for i in range(len(self.X_names)):\n",
        "            pseudoCode = pseudoCode.replace(\"X[\" + str(i) + \"]\", self.X_names[i])\n",
        "        res += pseudoCode\n",
        "        res += \"}\"\n",
        "        return res"
      ]
    },
    {
      "cell_type": "code",
      "execution_count": 22,
      "metadata": {
        "colab": {
          "base_uri": "https://localhost:8080/"
        },
        "id": "znDDH8OUuh6F",
        "outputId": "b23000c6-a1d7-4c1a-fdaa-3d04329a8bac"
      },
      "outputs": [
        {
          "name": "stdout",
          "output_type": "stream",
          "text": [
            "ID3 Classifier pseudo-code :\n",
            "\n",
            " IF weather IS \"cloudy\" THEN\n",
            "    PlayOut IS \"yes\"\n",
            "IF weather IS \"rainy\" THEN\n",
            "    IF wind IS \"no\" THEN\n",
            "        PlayOut IS \"yes\"\n",
            "    IF wind IS \"yes\" THEN\n",
            "        PlayOut IS \"no\"\n",
            "IF weather IS \"sunny\" THEN\n",
            "    IF humidity IS \"dry\" THEN\n",
            "        PlayOut IS \"yes\"\n",
            "    IF humidity IS \"high\" THEN\n",
            "        PlayOut IS \"no\"\n",
            "\n"
          ]
        }
      ],
      "source": [
        "# instantiate and train the classifier\n",
        "id3_classifier  = ID3()\n",
        "\n",
        "# Training\n",
        "id3_classifier.train(X_playOut, Y_playOut, X_names=[\"weather\", \"temperature\", \"humidity\", \"wind\"], Y_name=\"PlayOut\")\n",
        "\n",
        "# visualization of the pseudo-code\n",
        "print(\"ID3 Classifier pseudo-code :\\n\\n\",id3_classifier.pseudoCode)"
      ]
    },
    {
      "cell_type": "markdown",
      "metadata": {
        "id": "uSsdrDewuh6F"
      },
      "source": [
        "**Note :** In the code above, we can see that the decision tree does not take into account the \"temperature\" feature\n",
        "\n",
        "**Question (Q3):**\n",
        " - What can you say about this?"
      ]
    },
    {
      "cell_type": "markdown",
      "metadata": {
        "id": "jYofglVHuh6F"
      },
      "source": [
        "**Your Answer (A3) :**\n",
        "[ Write your answer here ]\n",
        "\n",
        "-"
      ]
    },
    {
      "cell_type": "markdown",
      "metadata": {
        "id": "eJeUruSquh6F"
      },
      "source": [
        "##### Graphviz Installation Setps\n",
        "\n",
        "##### For Windows :\n",
        "\n",
        "1. Go to the [Graphviz website](http://www.graphviz.org)  and download and install to your computer (do NOT need to install for all users).\n",
        "2. Download and install Anaconda3.5 from the Continuum website. (This should be already installed)\n",
        "3. Add Graphviz to the environment variable \"Path\":\n",
        "    - Go to Computer > Properties > Advanced system settings > Environment Variables and then find \"Path\" in the system variables box. Click on Path and click edit.\n",
        "    - Append ;C:\\Program Files (x86)\\Graphviz2.38\\bin to the end of the many paths that are already present in Path. Note, the path to Graphviz may be different for you so make sure to put the correct path. The folder \"bin\" should have many files including the dot.exe application.\n",
        "    - To check the install go to the command prompt and enter: dot -V this should return the version of Graphviz installed. For example, dot - graphviz version 2.38.0. If this does not work, enter set and look for the Graphviz path.\n",
        "4. Go to the Anaconda command prompt and enter: pip install graphviz\n",
        "5. Restart jupyter instance or launch it if not already open.\n",
        "\n",
        "Source : https://stackoverflow.com/questions/36869258/how-to-use-graphviz-with-anaconda-spyder\n",
        "\n",
        "##### For Linux/Mac users :\n",
        "\n",
        "- If you use the conda package manager, the graphviz binaries and the python package can be installed with the following command :\n",
        "\n",
        "> conda install python-graphviz\n",
        "\n",
        "- Alternatively binaries for graphviz can be downloaded from the graphviz project homepage, and the Python wrapper installed from pypi with :\n",
        "\n",
        "> pip install graphviz."
      ]
    },
    {
      "cell_type": "code",
      "execution_count": 23,
      "metadata": {
        "colab": {
          "base_uri": "https://localhost:8080/",
          "height": 356
        },
        "id": "tF1YVpDuuh6G",
        "outputId": "fb4c0717-a2b2-42c8-bb70-568f878c8235"
      },
      "outputs": [
        {
          "data": {
            "image/svg+xml": [
              "<svg xmlns=\"http://www.w3.org/2000/svg\" xmlns:xlink=\"http://www.w3.org/1999/xlink\" width=\"429pt\" height=\"252pt\" viewBox=\"0.00 0.00 428.50 252.00\">\n",
              "<g id=\"graph0\" class=\"graph\" transform=\"scale(1 1) rotate(0) translate(4 248)\">\n",
              "<title>Tree</title>\n",
              "<polygon fill=\"white\" stroke=\"transparent\" points=\"-4,4 -4,-248 424.5,-248 424.5,4 -4,4\"/>\n",
              "<!-- N0 -->\n",
              "<g id=\"node1\" class=\"node\">\n",
              "<title>N0</title>\n",
              "<polygon fill=\"none\" stroke=\"black\" points=\"241,-244 69,-244 69,-191 241,-191 241,-244\"/>\n",
              "<text text-anchor=\"middle\" x=\"155\" y=\"-228.8\" font-family=\"Times,serif\" font-size=\"14.00\">weather</text>\n",
              "<text text-anchor=\"middle\" x=\"155\" y=\"-213.8\" font-family=\"Times,serif\" font-size=\"14.00\">H = 0.9402859586706311</text>\n",
              "<text text-anchor=\"middle\" x=\"155\" y=\"-198.8\" font-family=\"Times,serif\" font-size=\"14.00\">IG = 0.24674981977443933</text>\n",
              "</g>\n",
              "<!-- N1 -->\n",
              "<g id=\"node2\" class=\"node\">\n",
              "<title>N1</title>\n",
              "<ellipse fill=\"none\" stroke=\"black\" cx=\"27\" cy=\"-113.5\" rx=\"27\" ry=\"18\"/>\n",
              "<text text-anchor=\"middle\" x=\"27\" y=\"-109.8\" font-family=\"Times,serif\" font-size=\"14.00\">yes</text>\n",
              "</g>\n",
              "<!-- N0&#45;&gt;N1 -->\n",
              "<g id=\"edge1\" class=\"edge\">\n",
              "<title>N0-&gt;N1</title>\n",
              "<path fill=\"none\" stroke=\"black\" d=\"M122.7,-190.76C100.57,-173.13 71.67,-150.1 51.45,-133.98\"/>\n",
              "<polygon fill=\"black\" stroke=\"black\" points=\"53.62,-131.24 43.62,-127.74 49.26,-136.71 53.62,-131.24\"/>\n",
              "<text text-anchor=\"middle\" x=\"117.5\" y=\"-161.8\" font-family=\"Times,serif\" font-size=\"14.00\">cloudy</text>\n",
              "</g>\n",
              "<!-- N2 -->\n",
              "<g id=\"node3\" class=\"node\">\n",
              "<title>N2</title>\n",
              "<polygon fill=\"none\" stroke=\"black\" points=\"237.5,-140 72.5,-140 72.5,-87 237.5,-87 237.5,-140\"/>\n",
              "<text text-anchor=\"middle\" x=\"155\" y=\"-124.8\" font-family=\"Times,serif\" font-size=\"14.00\">wind</text>\n",
              "<text text-anchor=\"middle\" x=\"155\" y=\"-109.8\" font-family=\"Times,serif\" font-size=\"14.00\">H = 0.9709505944546686</text>\n",
              "<text text-anchor=\"middle\" x=\"155\" y=\"-94.8\" font-family=\"Times,serif\" font-size=\"14.00\">IG = 0.9709505944546686</text>\n",
              "</g>\n",
              "<!-- N0&#45;&gt;N2 -->\n",
              "<g id=\"edge4\" class=\"edge\">\n",
              "<title>N0-&gt;N2</title>\n",
              "<path fill=\"none\" stroke=\"black\" d=\"M155,-190.76C155,-178.56 155,-163.78 155,-150.49\"/>\n",
              "<polygon fill=\"black\" stroke=\"black\" points=\"158.5,-150.23 155,-140.23 151.5,-150.23 158.5,-150.23\"/>\n",
              "<text text-anchor=\"middle\" x=\"169\" y=\"-161.8\" font-family=\"Times,serif\" font-size=\"14.00\">rainy</text>\n",
              "</g>\n",
              "<!-- N5 -->\n",
              "<g id=\"node6\" class=\"node\">\n",
              "<title>N5</title>\n",
              "<polygon fill=\"none\" stroke=\"black\" points=\"420.5,-140 255.5,-140 255.5,-87 420.5,-87 420.5,-140\"/>\n",
              "<text text-anchor=\"middle\" x=\"338\" y=\"-124.8\" font-family=\"Times,serif\" font-size=\"14.00\">humidity</text>\n",
              "<text text-anchor=\"middle\" x=\"338\" y=\"-109.8\" font-family=\"Times,serif\" font-size=\"14.00\">H = 0.9709505944546686</text>\n",
              "<text text-anchor=\"middle\" x=\"338\" y=\"-94.8\" font-family=\"Times,serif\" font-size=\"14.00\">IG = 0.9709505944546686</text>\n",
              "</g>\n",
              "<!-- N0&#45;&gt;N5 -->\n",
              "<g id=\"edge7\" class=\"edge\">\n",
              "<title>N0-&gt;N5</title>\n",
              "<path fill=\"none\" stroke=\"black\" d=\"M201.18,-190.76C226.09,-176.88 256.99,-159.65 283.13,-145.08\"/>\n",
              "<polygon fill=\"black\" stroke=\"black\" points=\"285.12,-147.98 292.15,-140.05 281.71,-141.87 285.12,-147.98\"/>\n",
              "<text text-anchor=\"middle\" x=\"274.5\" y=\"-161.8\" font-family=\"Times,serif\" font-size=\"14.00\">sunny</text>\n",
              "</g>\n",
              "<!-- N3 -->\n",
              "<g id=\"node4\" class=\"node\">\n",
              "<title>N3</title>\n",
              "<ellipse fill=\"none\" stroke=\"black\" cx=\"129\" cy=\"-18\" rx=\"27\" ry=\"18\"/>\n",
              "<text text-anchor=\"middle\" x=\"129\" y=\"-14.3\" font-family=\"Times,serif\" font-size=\"14.00\">yes</text>\n",
              "</g>\n",
              "<!-- N2&#45;&gt;N3 -->\n",
              "<g id=\"edge2\" class=\"edge\">\n",
              "<title>N2-&gt;N3</title>\n",
              "<path fill=\"none\" stroke=\"black\" d=\"M147.9,-86.95C144.34,-74.15 140.03,-58.66 136.43,-45.71\"/>\n",
              "<polygon fill=\"black\" stroke=\"black\" points=\"139.77,-44.66 133.72,-35.96 133.02,-46.53 139.77,-44.66\"/>\n",
              "<text text-anchor=\"middle\" x=\"150\" y=\"-57.8\" font-family=\"Times,serif\" font-size=\"14.00\">no</text>\n",
              "</g>\n",
              "<!-- N4 -->\n",
              "<g id=\"node5\" class=\"node\">\n",
              "<title>N4</title>\n",
              "<ellipse fill=\"none\" stroke=\"black\" cx=\"201\" cy=\"-18\" rx=\"27\" ry=\"18\"/>\n",
              "<text text-anchor=\"middle\" x=\"201\" y=\"-14.3\" font-family=\"Times,serif\" font-size=\"14.00\">no</text>\n",
              "</g>\n",
              "<!-- N2&#45;&gt;N4 -->\n",
              "<g id=\"edge3\" class=\"edge\">\n",
              "<title>N2-&gt;N4</title>\n",
              "<path fill=\"none\" stroke=\"black\" d=\"M167.57,-86.95C174.08,-73.72 182,-57.62 188.5,-44.42\"/>\n",
              "<polygon fill=\"black\" stroke=\"black\" points=\"191.66,-45.91 192.93,-35.39 185.38,-42.82 191.66,-45.91\"/>\n",
              "<text text-anchor=\"middle\" x=\"193.5\" y=\"-57.8\" font-family=\"Times,serif\" font-size=\"14.00\">yes</text>\n",
              "</g>\n",
              "<!-- N6 -->\n",
              "<g id=\"node7\" class=\"node\">\n",
              "<title>N6</title>\n",
              "<ellipse fill=\"none\" stroke=\"black\" cx=\"292\" cy=\"-18\" rx=\"27\" ry=\"18\"/>\n",
              "<text text-anchor=\"middle\" x=\"292\" y=\"-14.3\" font-family=\"Times,serif\" font-size=\"14.00\">yes</text>\n",
              "</g>\n",
              "<!-- N5&#45;&gt;N6 -->\n",
              "<g id=\"edge5\" class=\"edge\">\n",
              "<title>N5-&gt;N6</title>\n",
              "<path fill=\"none\" stroke=\"black\" d=\"M325.43,-86.95C318.92,-73.72 311,-57.62 304.5,-44.42\"/>\n",
              "<polygon fill=\"black\" stroke=\"black\" points=\"307.62,-42.82 300.07,-35.39 301.34,-45.91 307.62,-42.82\"/>\n",
              "<text text-anchor=\"middle\" x=\"326.5\" y=\"-57.8\" font-family=\"Times,serif\" font-size=\"14.00\">dry</text>\n",
              "</g>\n",
              "<!-- N7 -->\n",
              "<g id=\"node8\" class=\"node\">\n",
              "<title>N7</title>\n",
              "<ellipse fill=\"none\" stroke=\"black\" cx=\"364\" cy=\"-18\" rx=\"27\" ry=\"18\"/>\n",
              "<text text-anchor=\"middle\" x=\"364\" y=\"-14.3\" font-family=\"Times,serif\" font-size=\"14.00\">no</text>\n",
              "</g>\n",
              "<!-- N5&#45;&gt;N7 -->\n",
              "<g id=\"edge6\" class=\"edge\">\n",
              "<title>N5-&gt;N7</title>\n",
              "<path fill=\"none\" stroke=\"black\" d=\"M345.1,-86.95C348.66,-74.15 352.97,-58.66 356.57,-45.71\"/>\n",
              "<polygon fill=\"black\" stroke=\"black\" points=\"359.98,-46.53 359.28,-35.96 353.23,-44.66 359.98,-46.53\"/>\n",
              "<text text-anchor=\"middle\" x=\"366.5\" y=\"-57.8\" font-family=\"Times,serif\" font-size=\"14.00\">high</text>\n",
              "</g>\n",
              "</g>\n",
              "</svg>"
            ],
            "text/plain": [
              "<IPython.core.display.SVG object>"
            ]
          },
          "metadata": {},
          "output_type": "display_data"
        }
      ],
      "source": [
        "# This is just a visualisation of the graph.\n",
        "# If it doesn't work, it isn't a big deal (you can move to the next cell).\n",
        "try:\n",
        "    from IPython.display import SVG\n",
        "    from graphviz import Source\n",
        "    from IPython.display import display\n",
        "\n",
        "    graph = Source(id3_classifier.graphviz())\n",
        "    display(SVG(graph.pipe(format='svg')))\n",
        "\n",
        "except ImportError:\n",
        "    print(\"graphviz must be installed\")"
      ]
    },
    {
      "cell_type": "markdown",
      "metadata": {
        "id": "h3T9UHk4uh6G"
      },
      "source": [
        "### 2.2 CART  (Classification and Regression Trees)[[Breiman et al. , 1984](Refrence)]\n",
        "- Here we will implement the CART algorithm for classification with numerical features.\n",
        "- For that, we will use the dataset \"PlayOut_num.csv\" (numerical)."
      ]
    },
    {
      "cell_type": "markdown",
      "metadata": {
        "id": "KqfNNv6yuh6G"
      },
      "source": [
        "#### 2.2.1 Reading and preparation of data"
      ]
    },
    {
      "cell_type": "code",
      "execution_count": 24,
      "metadata": {
        "colab": {
          "base_uri": "https://localhost:8080/",
          "height": 489
        },
        "id": "V1_gS66Huh6G",
        "outputId": "7262eaad-113a-427a-c07e-5e682d8e39c7"
      },
      "outputs": [
        {
          "data": {
            "application/vnd.google.colaboratory.intrinsic+json": {
              "summary": "{\n  \"name\": \"df_playOut_num\",\n  \"rows\": 14,\n  \"fields\": [\n    {\n      \"column\": \"weather\",\n      \"properties\": {\n        \"dtype\": \"category\",\n        \"num_unique_values\": 3,\n        \"samples\": [\n          \"sunny\",\n          \"cloudy\",\n          \"rainy\"\n        ],\n        \"semantic_type\": \"\",\n        \"description\": \"\"\n      }\n    },\n    {\n      \"column\": \"temperature\",\n      \"properties\": {\n        \"dtype\": \"number\",\n        \"std\": 3,\n        \"min\": 18,\n        \"max\": 30,\n        \"num_unique_values\": 8,\n        \"samples\": [\n          27,\n          18,\n          30\n        ],\n        \"semantic_type\": \"\",\n        \"description\": \"\"\n      }\n    },\n    {\n      \"column\": \"humidity\",\n      \"properties\": {\n        \"dtype\": \"number\",\n        \"std\": 9,\n        \"min\": 65,\n        \"max\": 96,\n        \"num_unique_values\": 9,\n        \"samples\": [\n          95,\n          90,\n          70\n        ],\n        \"semantic_type\": \"\",\n        \"description\": \"\"\n      }\n    },\n    {\n      \"column\": \"wind\",\n      \"properties\": {\n        \"dtype\": \"number\",\n        \"std\": 0,\n        \"min\": 0,\n        \"max\": 1,\n        \"num_unique_values\": 2,\n        \"samples\": [\n          1,\n          0\n        ],\n        \"semantic_type\": \"\",\n        \"description\": \"\"\n      }\n    },\n    {\n      \"column\": \"playOut\",\n      \"properties\": {\n        \"dtype\": \"category\",\n        \"num_unique_values\": 2,\n        \"samples\": [\n          \"yes\",\n          \"no\"\n        ],\n        \"semantic_type\": \"\",\n        \"description\": \"\"\n      }\n    }\n  ]\n}",
              "type": "dataframe",
              "variable_name": "df_playOut_num"
            },
            "text/html": [
              "\n",
              "  <div id=\"df-bed71e62-3f57-4c92-8365-5184e77ef313\" class=\"colab-df-container\">\n",
              "    <div>\n",
              "<style scoped>\n",
              "    .dataframe tbody tr th:only-of-type {\n",
              "        vertical-align: middle;\n",
              "    }\n",
              "\n",
              "    .dataframe tbody tr th {\n",
              "        vertical-align: top;\n",
              "    }\n",
              "\n",
              "    .dataframe thead th {\n",
              "        text-align: right;\n",
              "    }\n",
              "</style>\n",
              "<table border=\"1\" class=\"dataframe\">\n",
              "  <thead>\n",
              "    <tr style=\"text-align: right;\">\n",
              "      <th></th>\n",
              "      <th>weather</th>\n",
              "      <th>temperature</th>\n",
              "      <th>humidity</th>\n",
              "      <th>wind</th>\n",
              "      <th>playOut</th>\n",
              "    </tr>\n",
              "  </thead>\n",
              "  <tbody>\n",
              "    <tr>\n",
              "      <th>0</th>\n",
              "      <td>sunny</td>\n",
              "      <td>30</td>\n",
              "      <td>85</td>\n",
              "      <td>0</td>\n",
              "      <td>no</td>\n",
              "    </tr>\n",
              "    <tr>\n",
              "      <th>1</th>\n",
              "      <td>sunny</td>\n",
              "      <td>27</td>\n",
              "      <td>90</td>\n",
              "      <td>1</td>\n",
              "      <td>no</td>\n",
              "    </tr>\n",
              "    <tr>\n",
              "      <th>2</th>\n",
              "      <td>cloudy</td>\n",
              "      <td>28</td>\n",
              "      <td>78</td>\n",
              "      <td>0</td>\n",
              "      <td>yes</td>\n",
              "    </tr>\n",
              "    <tr>\n",
              "      <th>3</th>\n",
              "      <td>rainy</td>\n",
              "      <td>21</td>\n",
              "      <td>96</td>\n",
              "      <td>0</td>\n",
              "      <td>yes</td>\n",
              "    </tr>\n",
              "    <tr>\n",
              "      <th>4</th>\n",
              "      <td>rainy</td>\n",
              "      <td>20</td>\n",
              "      <td>80</td>\n",
              "      <td>0</td>\n",
              "      <td>yes</td>\n",
              "    </tr>\n",
              "    <tr>\n",
              "      <th>5</th>\n",
              "      <td>rainy</td>\n",
              "      <td>18</td>\n",
              "      <td>70</td>\n",
              "      <td>1</td>\n",
              "      <td>no</td>\n",
              "    </tr>\n",
              "    <tr>\n",
              "      <th>6</th>\n",
              "      <td>cloudy</td>\n",
              "      <td>18</td>\n",
              "      <td>65</td>\n",
              "      <td>1</td>\n",
              "      <td>yes</td>\n",
              "    </tr>\n",
              "    <tr>\n",
              "      <th>7</th>\n",
              "      <td>sunny</td>\n",
              "      <td>22</td>\n",
              "      <td>95</td>\n",
              "      <td>0</td>\n",
              "      <td>no</td>\n",
              "    </tr>\n",
              "    <tr>\n",
              "      <th>8</th>\n",
              "      <td>sunny</td>\n",
              "      <td>21</td>\n",
              "      <td>70</td>\n",
              "      <td>0</td>\n",
              "      <td>yes</td>\n",
              "    </tr>\n",
              "    <tr>\n",
              "      <th>9</th>\n",
              "      <td>rainy</td>\n",
              "      <td>24</td>\n",
              "      <td>80</td>\n",
              "      <td>0</td>\n",
              "      <td>yes</td>\n",
              "    </tr>\n",
              "    <tr>\n",
              "      <th>10</th>\n",
              "      <td>sunny</td>\n",
              "      <td>24</td>\n",
              "      <td>70</td>\n",
              "      <td>1</td>\n",
              "      <td>yes</td>\n",
              "    </tr>\n",
              "    <tr>\n",
              "      <th>11</th>\n",
              "      <td>cloudy</td>\n",
              "      <td>22</td>\n",
              "      <td>90</td>\n",
              "      <td>1</td>\n",
              "      <td>yes</td>\n",
              "    </tr>\n",
              "    <tr>\n",
              "      <th>12</th>\n",
              "      <td>cloudy</td>\n",
              "      <td>27</td>\n",
              "      <td>75</td>\n",
              "      <td>0</td>\n",
              "      <td>yes</td>\n",
              "    </tr>\n",
              "    <tr>\n",
              "      <th>13</th>\n",
              "      <td>rainy</td>\n",
              "      <td>22</td>\n",
              "      <td>80</td>\n",
              "      <td>1</td>\n",
              "      <td>no</td>\n",
              "    </tr>\n",
              "  </tbody>\n",
              "</table>\n",
              "</div>\n",
              "    <div class=\"colab-df-buttons\">\n",
              "\n",
              "  <div class=\"colab-df-container\">\n",
              "    <button class=\"colab-df-convert\" onclick=\"convertToInteractive('df-bed71e62-3f57-4c92-8365-5184e77ef313')\"\n",
              "            title=\"Convert this dataframe to an interactive table.\"\n",
              "            style=\"display:none;\">\n",
              "\n",
              "  <svg xmlns=\"http://www.w3.org/2000/svg\" height=\"24px\" viewBox=\"0 -960 960 960\">\n",
              "    <path d=\"M120-120v-720h720v720H120Zm60-500h600v-160H180v160Zm220 220h160v-160H400v160Zm0 220h160v-160H400v160ZM180-400h160v-160H180v160Zm440 0h160v-160H620v160ZM180-180h160v-160H180v160Zm440 0h160v-160H620v160Z\"/>\n",
              "  </svg>\n",
              "    </button>\n",
              "\n",
              "  <style>\n",
              "    .colab-df-container {\n",
              "      display:flex;\n",
              "      gap: 12px;\n",
              "    }\n",
              "\n",
              "    .colab-df-convert {\n",
              "      background-color: #E8F0FE;\n",
              "      border: none;\n",
              "      border-radius: 50%;\n",
              "      cursor: pointer;\n",
              "      display: none;\n",
              "      fill: #1967D2;\n",
              "      height: 32px;\n",
              "      padding: 0 0 0 0;\n",
              "      width: 32px;\n",
              "    }\n",
              "\n",
              "    .colab-df-convert:hover {\n",
              "      background-color: #E2EBFA;\n",
              "      box-shadow: 0px 1px 2px rgba(60, 64, 67, 0.3), 0px 1px 3px 1px rgba(60, 64, 67, 0.15);\n",
              "      fill: #174EA6;\n",
              "    }\n",
              "\n",
              "    .colab-df-buttons div {\n",
              "      margin-bottom: 4px;\n",
              "    }\n",
              "\n",
              "    [theme=dark] .colab-df-convert {\n",
              "      background-color: #3B4455;\n",
              "      fill: #D2E3FC;\n",
              "    }\n",
              "\n",
              "    [theme=dark] .colab-df-convert:hover {\n",
              "      background-color: #434B5C;\n",
              "      box-shadow: 0px 1px 3px 1px rgba(0, 0, 0, 0.15);\n",
              "      filter: drop-shadow(0px 1px 2px rgba(0, 0, 0, 0.3));\n",
              "      fill: #FFFFFF;\n",
              "    }\n",
              "  </style>\n",
              "\n",
              "    <script>\n",
              "      const buttonEl =\n",
              "        document.querySelector('#df-bed71e62-3f57-4c92-8365-5184e77ef313 button.colab-df-convert');\n",
              "      buttonEl.style.display =\n",
              "        google.colab.kernel.accessAllowed ? 'block' : 'none';\n",
              "\n",
              "      async function convertToInteractive(key) {\n",
              "        const element = document.querySelector('#df-bed71e62-3f57-4c92-8365-5184e77ef313');\n",
              "        const dataTable =\n",
              "          await google.colab.kernel.invokeFunction('convertToInteractive',\n",
              "                                                    [key], {});\n",
              "        if (!dataTable) return;\n",
              "\n",
              "        const docLinkHtml = 'Like what you see? Visit the ' +\n",
              "          '<a target=\"_blank\" href=https://colab.research.google.com/notebooks/data_table.ipynb>data table notebook</a>'\n",
              "          + ' to learn more about interactive tables.';\n",
              "        element.innerHTML = '';\n",
              "        dataTable['output_type'] = 'display_data';\n",
              "        await google.colab.output.renderOutput(dataTable, element);\n",
              "        const docLink = document.createElement('div');\n",
              "        docLink.innerHTML = docLinkHtml;\n",
              "        element.appendChild(docLink);\n",
              "      }\n",
              "    </script>\n",
              "  </div>\n",
              "\n",
              "\n",
              "<div id=\"df-5389f35b-edb7-4377-b22f-fe5c9a7c3873\">\n",
              "  <button class=\"colab-df-quickchart\" onclick=\"quickchart('df-5389f35b-edb7-4377-b22f-fe5c9a7c3873')\"\n",
              "            title=\"Suggest charts\"\n",
              "            style=\"display:none;\">\n",
              "\n",
              "<svg xmlns=\"http://www.w3.org/2000/svg\" height=\"24px\"viewBox=\"0 0 24 24\"\n",
              "     width=\"24px\">\n",
              "    <g>\n",
              "        <path d=\"M19 3H5c-1.1 0-2 .9-2 2v14c0 1.1.9 2 2 2h14c1.1 0 2-.9 2-2V5c0-1.1-.9-2-2-2zM9 17H7v-7h2v7zm4 0h-2V7h2v10zm4 0h-2v-4h2v4z\"/>\n",
              "    </g>\n",
              "</svg>\n",
              "  </button>\n",
              "\n",
              "<style>\n",
              "  .colab-df-quickchart {\n",
              "      --bg-color: #E8F0FE;\n",
              "      --fill-color: #1967D2;\n",
              "      --hover-bg-color: #E2EBFA;\n",
              "      --hover-fill-color: #174EA6;\n",
              "      --disabled-fill-color: #AAA;\n",
              "      --disabled-bg-color: #DDD;\n",
              "  }\n",
              "\n",
              "  [theme=dark] .colab-df-quickchart {\n",
              "      --bg-color: #3B4455;\n",
              "      --fill-color: #D2E3FC;\n",
              "      --hover-bg-color: #434B5C;\n",
              "      --hover-fill-color: #FFFFFF;\n",
              "      --disabled-bg-color: #3B4455;\n",
              "      --disabled-fill-color: #666;\n",
              "  }\n",
              "\n",
              "  .colab-df-quickchart {\n",
              "    background-color: var(--bg-color);\n",
              "    border: none;\n",
              "    border-radius: 50%;\n",
              "    cursor: pointer;\n",
              "    display: none;\n",
              "    fill: var(--fill-color);\n",
              "    height: 32px;\n",
              "    padding: 0;\n",
              "    width: 32px;\n",
              "  }\n",
              "\n",
              "  .colab-df-quickchart:hover {\n",
              "    background-color: var(--hover-bg-color);\n",
              "    box-shadow: 0 1px 2px rgba(60, 64, 67, 0.3), 0 1px 3px 1px rgba(60, 64, 67, 0.15);\n",
              "    fill: var(--button-hover-fill-color);\n",
              "  }\n",
              "\n",
              "  .colab-df-quickchart-complete:disabled,\n",
              "  .colab-df-quickchart-complete:disabled:hover {\n",
              "    background-color: var(--disabled-bg-color);\n",
              "    fill: var(--disabled-fill-color);\n",
              "    box-shadow: none;\n",
              "  }\n",
              "\n",
              "  .colab-df-spinner {\n",
              "    border: 2px solid var(--fill-color);\n",
              "    border-color: transparent;\n",
              "    border-bottom-color: var(--fill-color);\n",
              "    animation:\n",
              "      spin 1s steps(1) infinite;\n",
              "  }\n",
              "\n",
              "  @keyframes spin {\n",
              "    0% {\n",
              "      border-color: transparent;\n",
              "      border-bottom-color: var(--fill-color);\n",
              "      border-left-color: var(--fill-color);\n",
              "    }\n",
              "    20% {\n",
              "      border-color: transparent;\n",
              "      border-left-color: var(--fill-color);\n",
              "      border-top-color: var(--fill-color);\n",
              "    }\n",
              "    30% {\n",
              "      border-color: transparent;\n",
              "      border-left-color: var(--fill-color);\n",
              "      border-top-color: var(--fill-color);\n",
              "      border-right-color: var(--fill-color);\n",
              "    }\n",
              "    40% {\n",
              "      border-color: transparent;\n",
              "      border-right-color: var(--fill-color);\n",
              "      border-top-color: var(--fill-color);\n",
              "    }\n",
              "    60% {\n",
              "      border-color: transparent;\n",
              "      border-right-color: var(--fill-color);\n",
              "    }\n",
              "    80% {\n",
              "      border-color: transparent;\n",
              "      border-right-color: var(--fill-color);\n",
              "      border-bottom-color: var(--fill-color);\n",
              "    }\n",
              "    90% {\n",
              "      border-color: transparent;\n",
              "      border-bottom-color: var(--fill-color);\n",
              "    }\n",
              "  }\n",
              "</style>\n",
              "\n",
              "  <script>\n",
              "    async function quickchart(key) {\n",
              "      const quickchartButtonEl =\n",
              "        document.querySelector('#' + key + ' button');\n",
              "      quickchartButtonEl.disabled = true;  // To prevent multiple clicks.\n",
              "      quickchartButtonEl.classList.add('colab-df-spinner');\n",
              "      try {\n",
              "        const charts = await google.colab.kernel.invokeFunction(\n",
              "            'suggestCharts', [key], {});\n",
              "      } catch (error) {\n",
              "        console.error('Error during call to suggestCharts:', error);\n",
              "      }\n",
              "      quickchartButtonEl.classList.remove('colab-df-spinner');\n",
              "      quickchartButtonEl.classList.add('colab-df-quickchart-complete');\n",
              "    }\n",
              "    (() => {\n",
              "      let quickchartButtonEl =\n",
              "        document.querySelector('#df-5389f35b-edb7-4377-b22f-fe5c9a7c3873 button');\n",
              "      quickchartButtonEl.style.display =\n",
              "        google.colab.kernel.accessAllowed ? 'block' : 'none';\n",
              "    })();\n",
              "  </script>\n",
              "</div>\n",
              "\n",
              "  <div id=\"id_ee3bb6e3-1030-4aa1-b186-92ad17ae30af\">\n",
              "    <style>\n",
              "      .colab-df-generate {\n",
              "        background-color: #E8F0FE;\n",
              "        border: none;\n",
              "        border-radius: 50%;\n",
              "        cursor: pointer;\n",
              "        display: none;\n",
              "        fill: #1967D2;\n",
              "        height: 32px;\n",
              "        padding: 0 0 0 0;\n",
              "        width: 32px;\n",
              "      }\n",
              "\n",
              "      .colab-df-generate:hover {\n",
              "        background-color: #E2EBFA;\n",
              "        box-shadow: 0px 1px 2px rgba(60, 64, 67, 0.3), 0px 1px 3px 1px rgba(60, 64, 67, 0.15);\n",
              "        fill: #174EA6;\n",
              "      }\n",
              "\n",
              "      [theme=dark] .colab-df-generate {\n",
              "        background-color: #3B4455;\n",
              "        fill: #D2E3FC;\n",
              "      }\n",
              "\n",
              "      [theme=dark] .colab-df-generate:hover {\n",
              "        background-color: #434B5C;\n",
              "        box-shadow: 0px 1px 3px 1px rgba(0, 0, 0, 0.15);\n",
              "        filter: drop-shadow(0px 1px 2px rgba(0, 0, 0, 0.3));\n",
              "        fill: #FFFFFF;\n",
              "      }\n",
              "    </style>\n",
              "    <button class=\"colab-df-generate\" onclick=\"generateWithVariable('df_playOut_num')\"\n",
              "            title=\"Generate code using this dataframe.\"\n",
              "            style=\"display:none;\">\n",
              "\n",
              "  <svg xmlns=\"http://www.w3.org/2000/svg\" height=\"24px\"viewBox=\"0 0 24 24\"\n",
              "       width=\"24px\">\n",
              "    <path d=\"M7,19H8.4L18.45,9,17,7.55,7,17.6ZM5,21V16.75L18.45,3.32a2,2,0,0,1,2.83,0l1.4,1.43a1.91,1.91,0,0,1,.58,1.4,1.91,1.91,0,0,1-.58,1.4L9.25,21ZM18.45,9,17,7.55Zm-12,3A5.31,5.31,0,0,0,4.9,8.1,5.31,5.31,0,0,0,1,6.5,5.31,5.31,0,0,0,4.9,4.9,5.31,5.31,0,0,0,6.5,1,5.31,5.31,0,0,0,8.1,4.9,5.31,5.31,0,0,0,12,6.5,5.46,5.46,0,0,0,6.5,12Z\"/>\n",
              "  </svg>\n",
              "    </button>\n",
              "    <script>\n",
              "      (() => {\n",
              "      const buttonEl =\n",
              "        document.querySelector('#id_ee3bb6e3-1030-4aa1-b186-92ad17ae30af button.colab-df-generate');\n",
              "      buttonEl.style.display =\n",
              "        google.colab.kernel.accessAllowed ? 'block' : 'none';\n",
              "\n",
              "      buttonEl.onclick = () => {\n",
              "        google.colab.notebook.generateWithVariable('df_playOut_num');\n",
              "      }\n",
              "      })();\n",
              "    </script>\n",
              "  </div>\n",
              "\n",
              "    </div>\n",
              "  </div>\n"
            ],
            "text/plain": [
              "   weather  temperature  humidity  wind playOut\n",
              "0    sunny           30        85     0      no\n",
              "1    sunny           27        90     1      no\n",
              "2   cloudy           28        78     0     yes\n",
              "3    rainy           21        96     0     yes\n",
              "4    rainy           20        80     0     yes\n",
              "5    rainy           18        70     1      no\n",
              "6   cloudy           18        65     1     yes\n",
              "7    sunny           22        95     0      no\n",
              "8    sunny           21        70     0     yes\n",
              "9    rainy           24        80     0     yes\n",
              "10   sunny           24        70     1     yes\n",
              "11  cloudy           22        90     1     yes\n",
              "12  cloudy           27        75     0     yes\n",
              "13   rainy           22        80     1      no"
            ]
          },
          "execution_count": 24,
          "metadata": {},
          "output_type": "execute_result"
        }
      ],
      "source": [
        "# Read dataset \"PlayOut.csv\" using pandas.read_csv\n",
        "df_playOut_num = pd.read_csv(\"data/PlayOut_num.csv\")\n",
        "# Print the DataFrame df_playOut\n",
        "df_playOut_num"
      ]
    },
    {
      "cell_type": "markdown",
      "metadata": {
        "id": "heZfIoQQuh6G"
      },
      "source": [
        "Next, we need to separate data into : (1) inputs noted X, and (2) outputs(labels, classes) noted Y."
      ]
    },
    {
      "cell_type": "code",
      "execution_count": 25,
      "metadata": {
        "colab": {
          "base_uri": "https://localhost:8080/"
        },
        "id": "sYWMBhPhuh6G",
        "outputId": "8618c868-eca5-4ab9-e6d7-9182b768e8a8"
      },
      "outputs": [
        {
          "name": "stdout",
          "output_type": "stream",
          "text": [
            "X_playOut : \n",
            " [['sunny' 30 85 0]\n",
            " ['sunny' 27 90 1]\n",
            " ['cloudy' 28 78 0]\n",
            " ['rainy' 21 96 0]\n",
            " ['rainy' 20 80 0]\n",
            " ['rainy' 18 70 1]\n",
            " ['cloudy' 18 65 1]\n",
            " ['sunny' 22 95 0]\n",
            " ['sunny' 21 70 0]\n",
            " ['rainy' 24 80 0]\n",
            " ['sunny' 24 70 1]\n",
            " ['cloudy' 22 90 1]\n",
            " ['cloudy' 27 75 0]\n",
            " ['rainy' 22 80 1]]\n",
            "\n",
            "Y_playOut : \n",
            " ['no' 'no' 'yes' 'yes' 'yes' 'no' 'yes' 'no' 'yes' 'yes' 'yes' 'yes' 'yes'\n",
            " 'no']\n"
          ]
        }
      ],
      "source": [
        "# Get the first columns that represents the features : ['weather','temperature','humidity','wind']\n",
        "# Not including the last column\n",
        "X_NumPlayOut = df_playOut_num.iloc[:, :-1].values\n",
        "\n",
        "# Get the target column : the last column that contains labels (classes)\n",
        "Y_NumPlayOut = df_playOut_num.iloc[:,-1].values\n",
        "\n",
        "# Print X\n",
        "print(\"X_playOut : \\n\",X_NumPlayOut)\n",
        "\n",
        "# Print Y\n",
        "print(\"\\nY_playOut : \\n\",Y_NumPlayOut)"
      ]
    },
    {
      "cell_type": "markdown",
      "metadata": {
        "id": "DPDd2w40uh6H"
      },
      "source": [
        "#### 2.2.2 Probability Function\n",
        "Already implemented in ID3 Section\n",
        "\n",
        "#### 2.2.3 Gini index\n",
        "\n",
        "- In the classification case, CART uses the Gini index of diversity to measure the classification error.\n",
        "- An index of 0 represents the best split.\n",
        "\n",
        "Given :\n",
        "- $S$ list of values  \n",
        "- $V$ set of unique values of $S$ (vocabulary)\n",
        "\n",
        "The diversity index $Gini(S)$ is calculated as follows:\n",
        "\n",
        "$$Gini(S) = \\sum\\limits_{v \\in V} p(v/S) (1-p(v/S)) = 1 - \\sum\\limits_{v \\in V} p(v/S)^2 $$"
      ]
    },
    {
      "cell_type": "code",
      "execution_count": 36,
      "metadata": {
        "id": "4fWdVmVWuh6H"
      },
      "outputs": [],
      "source": [
        "# TODO complete the Gini function code\n",
        "def Gini(S: np.ndarray) -> float:\n",
        "    V = np.unique(S)\n",
        "    gini = 1\n",
        "    ### BEGIN : Write your code here\n",
        "    for v in V:\n",
        "        gini -= P(S, v)**2  # Applying the formula: 1 - sum(p(v/S)^2) for each v in V\n",
        "    ### END\n",
        "    return gini"
      ]
    },
    {
      "cell_type": "code",
      "execution_count": 37,
      "metadata": {
        "colab": {
          "base_uri": "https://localhost:8080/"
        },
        "id": "IJ9VyTiXuh6H",
        "outputId": "3cb6c5f8-54ea-4c4d-e7ce-5dfe88a8f81f"
      },
      "outputs": [
        {
          "name": "stdout",
          "output_type": "stream",
          "text": [
            "Gini(Y)= 0.4591836734693877\n"
          ]
        }
      ],
      "source": [
        "#=====================================================================\n",
        "# UNIT TEST (Run the cell and compare your results)\n",
        "#=====================================================================\n",
        "# Result :\n",
        "# Gini(Y)= 0.4591836734693877\n",
        "#---------------------------------------------------------------------\n",
        "print(\"Gini(Y)=\",Gini(Y_NumPlayOut))"
      ]
    },
    {
      "cell_type": "markdown",
      "metadata": {
        "id": "8AeQNL5Fuh6H"
      },
      "source": [
        "#### 2.2.4 Splitting of a set\n",
        "- *NP : Nothing to code here*\n",
        "\n",
        "As CART (the decision tree algoritm) generates **binary trees**, we need to code a splitting function that splits the list of predictions (classes) $Y$ according to a given value $v$ of an attribute (feature, column) $A$ into two lists:\n",
        "- $Y_L$: (left List) a list containing the elements of $Y$ where $a \\in A$ : $a > v$\n",
        "- $Y_R$: (Right List) a list containing the elements of $Y$ where $a \\in A$ : $a \\le v$"
      ]
    },
    {
      "cell_type": "code",
      "execution_count": 38,
      "metadata": {
        "id": "XioXCvP4uh6H"
      },
      "outputs": [],
      "source": [
        "# In the case A is a nominal feature\n",
        "def split_nom_bin(S, A, value):\n",
        "    msk     = (A==value)       # Ceate a mask to filter the numpy array S, and return\n",
        "    S_left  = S[msk]           # the left set : S_{A == values}\n",
        "    S_right = S[~msk]          # the right set : S_{A != values}\n",
        "    return S_left, S_right"
      ]
    },
    {
      "cell_type": "code",
      "execution_count": 39,
      "metadata": {
        "id": "TkdOo1Tnuh6H"
      },
      "outputs": [],
      "source": [
        "# In the case A is numerical feature\n",
        "def split_num_bin(S, A, value):\n",
        "    msk = A > value            # Ceate a mask to filter the numpy array S\n",
        "    S_left  = S[msk]           # the left set S_{A > values}\n",
        "    S_right = S[~msk]          # the right set S_{A <= values}\n",
        "    return S_left, S_right"
      ]
    },
    {
      "cell_type": "code",
      "execution_count": 40,
      "metadata": {
        "id": "NUJEbJQDuh6I"
      },
      "outputs": [],
      "source": [
        "def split_CART(S, A, value) :\n",
        "    '''\n",
        "    The function checks whether the value is numeric or not.\n",
        "    It calls the two previous functions depending on the type of the feature\n",
        "    '''\n",
        "    try:\n",
        "        val = float(value)\n",
        "        return split_num_bin(S, A, val)\n",
        "    except ValueError:\n",
        "        return split_nom_bin(S, A, value)"
      ]
    },
    {
      "cell_type": "code",
      "execution_count": 41,
      "metadata": {
        "colab": {
          "base_uri": "https://localhost:8080/"
        },
        "id": "OjfzzZXQuh6I",
        "outputId": "d005813e-631d-4623-aaa6-277b6a4e8aa0"
      },
      "outputs": [
        {
          "name": "stdout",
          "output_type": "stream",
          "text": [
            "Letf split of Y based on \"temperature\" (2nd column) feature : \n",
            " ['no' 'no' 'yes' 'yes' 'no' 'yes' 'yes' 'yes' 'yes' 'yes' 'no']\n",
            "Righ split of Y based on \"temperature\" (2nd column) feature :\n",
            " ['yes' 'no' 'yes']\n"
          ]
        }
      ],
      "source": [
        "#=====================================================================\n",
        "# UNIT TEST 01 (Run the cell and compare your results)\n",
        "#=====================================================================\n",
        "# Results :\n",
        "# --------------------------------------------------------------------\n",
        "# Letf split of Y based on \"temperature\" (2nd column) feature :\n",
        "#  ['no' 'no' 'yes' 'yes' 'no' 'yes' 'yes' 'yes' 'yes' 'yes' 'no']\n",
        "# Righ split of Y based on \"temperature\" (2nd column) feature :\n",
        "#  ['yes' 'no' 'yes']\n",
        "#---------------------------------------------------------------------\n",
        "# Test with numerical variables\n",
        "Y_NumPlayOut_letf, Y_NumPlayOut_right = split_CART(Y_NumPlayOut, X_NumPlayOut[:,1], 20)\n",
        "print(\"Left split of Y based on \\\"temperature\\\" (2nd column) feature : \\n\", Y_NumPlayOut_letf)\n",
        "print(\"Right split of Y based on \\\"temperature\\\" (2nd column) feature :\\n\", Y_NumPlayOut_right)"
      ]
    },
    {
      "cell_type": "code",
      "execution_count": 32,
      "metadata": {
        "colab": {
          "base_uri": "https://localhost:8080/"
        },
        "id": "LHrtQ8TYuh6I",
        "outputId": "37bbd899-7fb6-41a6-eef8-da1c0636fb29"
      },
      "outputs": [
        {
          "name": "stdout",
          "output_type": "stream",
          "text": [
            "Letf split of Y based on \"weather\" (2nd column) feature : \n",
            " ['no' 'no' 'no' 'yes' 'yes']\n",
            "Righ split of Y based on \"weather\" (2nd column) feature :\n",
            " ['yes' 'yes' 'yes' 'no' 'yes' 'yes' 'yes' 'yes' 'no']\n"
          ]
        }
      ],
      "source": [
        "#=====================================================================\n",
        "# UNIT TEST 02 (Run the cell and compare your results)\n",
        "#=====================================================================\n",
        "# Results :\n",
        "# --------------------------------------------------------------------\n",
        "# Letf split of Y based on \"weather\" (2nd column) feature :\n",
        "#  ['no' 'no' 'no' 'yes' 'yes']\n",
        "# Righ split of Y based on \"weather\" (2nd column) feature :\n",
        "#  ['yes' 'yes' 'yes' 'no' 'yes' 'yes' 'yes' 'yes' 'no']\n",
        "#---------------------------------------------------------------------\n",
        "# Test with nominal variables\n",
        "Y_NumPlayOut_letf, Y_NumPlayOut_right = split_CART(Y_NumPlayOut, X_NumPlayOut[:, 0], \"sunny\")\n",
        "print(\"Letf split of Y based on \\\"weather\\\" (2nd column) feature : \\n\", Y_NumPlayOut_letf)\n",
        "print(\"Righ split of Y based on \\\"weather\\\" (2nd column) feature :\\n\", Y_NumPlayOut_right)"
      ]
    },
    {
      "cell_type": "markdown",
      "metadata": {
        "id": "B08QK3keuh6I"
      },
      "source": [
        "#### 2.2.5 The Gini score of the split\n",
        "\n",
        "\n",
        "Given :\n",
        "\n",
        "- $S$: a list (in our case, the list of classes labels)\n",
        "- $S_L, S_R$ :  **left** and **right** subsets after the split\n",
        "- $|S| = |S_L| + |S_R|$\n",
        "\n",
        "The Gini score of the split is calculated as follow :\n",
        "\n",
        "$$Gini_{split}(S_L, S_R) = \\frac{|S_L|}{|S|} Gini(S_L) + \\frac{|S_R|}{|S|} Gini(S_R)$$\n",
        "\n",
        "Our goal is to try to minimize $Gini_{split}$."
      ]
    },
    {
      "cell_type": "code",
      "execution_count": 42,
      "metadata": {
        "id": "kjxNpUCwuh6I"
      },
      "outputs": [],
      "source": [
        "# TODO complete the code of the function below to calculate the gini socre of the split\n",
        "\n",
        "def split_Gini(S_L: np.ndarray, S_R: np.ndarray) -> float:\n",
        "    SL_len = len(S_L)              # Get the cardinality (length) of the left subset S_L\n",
        "    SR_len = len(S_R)              # Get the cardinality (length) of the Right subset S_R\n",
        "    S_len = float(SL_len + SR_len) # Get the cardinality (length) of the set S\n",
        "\n",
        "    ### BEGIN : Write your code here\n",
        "    # Hint : follow the formula\n",
        "    gini_SL_SD = (SL_len / S_len) * Gini(S_L) + (SR_len / S_len) * Gini(S_R) # Applying the formula\n",
        "    ### END\n",
        "    return gini_SL_SD"
      ]
    },
    {
      "cell_type": "code",
      "execution_count": 43,
      "metadata": {
        "colab": {
          "base_uri": "https://localhost:8080/"
        },
        "id": "pLwH5ib7uh6I",
        "outputId": "d0f431b1-29ac-46af-8335-a22fe9d0cd82"
      },
      "outputs": [
        {
          "name": "stdout",
          "output_type": "stream",
          "text": [
            "Gini_split(S_L_numerical, S_R_numerical) = 0.4588744588744589\n",
            "Gini_split(S_L_nominal, S_R_nominal) = 0.3936507936507937\n"
          ]
        }
      ],
      "source": [
        "#=====================================================================\n",
        "# UNIT TEST (Run the cell and compare your results)\n",
        "#=====================================================================\n",
        "# Results :\n",
        "# Gini_split(S_L_numerical, S_R_numerical) = 0.4588744588744589\n",
        "# Gini_split(S_L_nominal, S_R_nominal) = 0.4666666666666667\n",
        "#---------------------------------------------------------------------\n",
        "# There is two way to call the split_Gini function\n",
        "\n",
        "# 1st way :\n",
        "# Call split_CART  (in this case we are using a numerical feature to split the predictions)\n",
        "# Save the new subsets in \"S_L_numerical\" and \"S_R_numerical\"\n",
        "S_L_numerical, S_R_numerical = split_CART(Y_NumPlayOut, X_NumPlayOut[:, 1], 20)\n",
        "# then call split_Gini\n",
        "S_gini_num = split_Gini(S_L_numerical, S_R_numerical)\n",
        "print(\"Gini_split(S_L_numerical, S_R_numerical) =\", S_gini_num)\n",
        "\n",
        "# 2nd way : Do a nesting function call with the Starred Expression in Python \"func(*args)\"\n",
        "# here we calculate the gini score for the split with the nominal feature \"Weather\"\n",
        "S_gini_nom = split_Gini(*split_CART(Y_NumPlayOut, X_NumPlayOut[:, 0], \"sunny\"))\n",
        "print(\"Gini_split(S_L_nominal, S_R_nominal) =\",S_gini_nom)"
      ]
    },
    {
      "cell_type": "markdown",
      "metadata": {
        "id": "jRse6Y0guh6I"
      },
      "source": [
        "#### 2.2.6 Selection of the CART splitting feature\n",
        "- *PS: Nothing to code here*\n",
        "\n",
        "**The Pseudo-code :**\n",
        "\n",
        "- For each feature $X_j$  \n",
        "   - For each unique value $v$ in $X_j$\n",
        "       1. Divide $Y$ based on the value of $v$ and those of $X_j$\n",
        "       2. Calculate the Gini score of this split\n",
        "       3. Keep the index **selectedFeatureIndex** of the feature that minimizes Gini\n",
        "       4. Keep Gini minimal **selectedFeature_gini**\n",
        "       5. Keep the feature split value **selected_val**"
      ]
    },
    {
      "cell_type": "code",
      "execution_count": 44,
      "metadata": {
        "id": "9vXom8Pxuh6J"
      },
      "outputs": [],
      "source": [
        "# TODO complete by following the pseudo-code\n",
        "# This function searches for the feature and its value that is the most relevant for spliting  Y\n",
        "\n",
        "# it must return:\n",
        "    # selectedFeatureIndex: the index of the selected feature in X\n",
        "    # selected_val: the split value (the value can be string or numeric)\n",
        "    # selected_gini: the split gini score\n",
        "\n",
        "def splitting_feature_CART(X: np.ndarray, Y: np.ndarray) -> Tuple[int, float, float]:\n",
        "    # Create two empty lists for saving results of diffrent splits\n",
        "    # So that we could find in later step the one tha minimize the Gini_split function\n",
        "    Gini_vector_Global = []\n",
        "    val_vector_Global = []\n",
        "    # Loop over the features columns in X\n",
        "    for i in range(X.shape[1]):\n",
        "        Gini_vector_local = []\n",
        "        val_vector_local = []\n",
        "        # Get the column of the selcted feature i\n",
        "        A = X[:,i]\n",
        "        # loop over the unique values of the selected feature (do that for each feature in X)\n",
        "        Vals = np.unique(A)\n",
        "        for val in Vals:\n",
        "            # the index of the array represent the index of the feature\n",
        "            # Save the value \"val\" of the feature\n",
        "            val_vector_local.append(val)\n",
        "            # Split over the entire selected feature with given value \"val\", and save the Gini_score score\n",
        "            Gini_vector_local.append(split_Gini(*split_CART(Y,A,val)))\n",
        "\n",
        "        # Minimize Gini Score for this feature\n",
        "        # Get and save the min Gini value\n",
        "        Min = np.amin(Gini_vector_local)\n",
        "        Gini_vector_Global.append(Min)\n",
        "        # Get and save the value that minimize Gini value for this feature\n",
        "        v   = val_vector_local[np.argmin(Gini_vector_local)]\n",
        "        val_vector_Global.append(v)\n",
        "\n",
        "    # minimiser gini score across all the features\n",
        "    selectedFeatureIndex = np.argmin(np.array(Gini_vector_Global))\n",
        "    selectedFeature_gini= min(Gini_vector_Global)\n",
        "    selected_val = val_vector_Global[selectedFeatureIndex]\n",
        "\n",
        "    return selectedFeatureIndex, selectedFeature_gini, selected_val"
      ]
    },
    {
      "cell_type": "code",
      "execution_count": 45,
      "metadata": {
        "colab": {
          "base_uri": "https://localhost:8080/"
        },
        "id": "ttoUd2JUuh6J",
        "outputId": "14192872-27af-45b8-f247-e39db8d4439e"
      },
      "outputs": [
        {
          "name": "stdout",
          "output_type": "stream",
          "text": [
            "selected Feature Index :  0\n",
            "Gini Spliting Score :  0.35714285714285715\n",
            "Spliting Value :  cloudy\n"
          ]
        }
      ],
      "source": [
        "#=====================================================================\n",
        "# UNIT TEST (Run the cell and compare your results)\n",
        "#=====================================================================\n",
        "# Results :\n",
        "# selected Feature Index :  0\n",
        "# Gini Spliting Score :  0.35714285714285715\n",
        "# Spliting Value :  cloudy\n",
        "#---------------------------------------------------------------------\n",
        "selectedFeatureIndex, gini_score, selectedFeature_val = splitting_feature_CART(X_NumPlayOut, Y_NumPlayOut)\n",
        "print(\"selected Feature Index : \", selectedFeatureIndex)\n",
        "print(\"Gini Spliting Score : \", gini_score)\n",
        "print(\"Spliting Value : \", selectedFeature_val)"
      ]
    },
    {
      "cell_type": "markdown",
      "metadata": {
        "id": "ltVIg6Hiuh6J"
      },
      "source": [
        "#### 2.2.7 Creation of the decision tree CART\n",
        "*PS : Nothing to code here*\n",
        "- CART uses the pre-splitting method referred to by the stopping condition.\n",
        "- The most used criterion to stop the splitting is the minimal number of samples in a node. If we reach this number, we do not divide anymore and we consider the node as a leaf with the dominant class as output class in case of ranking, or the average of the outputs in case of regression."
      ]
    },
    {
      "cell_type": "code",
      "execution_count": 46,
      "metadata": {
        "id": "6xkHC2S0uh6J"
      },
      "outputs": [],
      "source": [
        "class BinNode(object):\n",
        "    '''\n",
        "    BinNode Class : A class to hold the Binary Node information and the list of its children (two children).\n",
        "    '''\n",
        "    nb = 0\n",
        "\n",
        "    def __init__(self, featureId, val, gini, depth):\n",
        "        self.featureId = featureId # The index in X of the feature we used for spliting to get this node\n",
        "        self.val = val             # The split value\n",
        "        self.gini = gini           # Gini Score of the split\n",
        "        self.depth = depth         # the depth of the node\n",
        "        self.children = []         # Node children, as we have two children (S_L, S_R) we store them in a list of type Node\n",
        "        self.cls = \"\"              # the class if this the node is final (if there are no children)\n",
        "        self.indent = \"    \"       # indentation when generating the pseaudo code\n",
        "        # save the type of the feature\n",
        "        try: # case it is numerical\n",
        "            val2 = float(val)\n",
        "            self.is_num = True\n",
        "        except ValueError: # case it's a nominal (string)\n",
        "            self.is_num = False\n",
        "\n",
        "    def __str__(self):\n",
        "        '''\n",
        "        This function (parser) is to transform the node to a string.\n",
        "        Here we have redefined this function to write the tree as a pseaudo algorithm.\n",
        "        '''\n",
        "        # indentation: aesthetics\n",
        "        indent = self.indent * self.depth\n",
        "\n",
        "        if (len(self.children)==0):\n",
        "            return indent + 'Y IS \"' + self.cls + '\"\\n'\n",
        "        if (self.is_num):\n",
        "            prefix = ' > '\n",
        "            suffix = ''\n",
        "        else:\n",
        "            prefix = ' IS \"'\n",
        "            suffix = '\"'\n",
        "\n",
        "        res = \"\"\n",
        "        res += indent + 'IF X[' + str(self.featureId) + '] ' + prefix + str(self.val) + suffix + ' THEN \\n' + str(self.children[0])\n",
        "        res += indent + 'ELSE \\n' + str(self.children[1])\n",
        "        return res\n",
        "\n",
        "    def predict(self, x):\n",
        "        '''\n",
        "        Prediction Function : Given and instnace X it return the predicted target class Y'\n",
        "        '''\n",
        "        # IF the node is final, it returns its class\n",
        "        if (len(self.children)==0):\n",
        "            return self.cls\n",
        "        # ELSE\n",
        "        # in case it's numerical feature\n",
        "        if self.is_num:\n",
        "            if x[self.featureId] > self.val:\n",
        "                return self.children[0].predict(x)\n",
        "            return self.children[1].predict(x)\n",
        "        # in case it's nominal feature (string)\n",
        "        if x[self.featureId] == self.val:\n",
        "            return self.children[0].predict(x)\n",
        "        return self.children[1].predict(x)\n",
        "\n",
        "\n",
        "    def graphviz(self):\n",
        "        '''\n",
        "        This function generate the Pseudocode for graphviz\n",
        "        '''\n",
        "        nid = 'N' + str(BinNode.nb)\n",
        "        BinNode.nb += 1\n",
        "        # If the node is a final one,\n",
        "        if (len(self.children)==0):\n",
        "            return nid, nid + '[label=\"' + self.cls + '\" shape=ellipse];\\n'\n",
        "        # Else if there are children nodes, we loop over them and print IF ... THEN .. structure\n",
        "        if self.is_num:\n",
        "            prefix = '] > '\n",
        "        else:\n",
        "            prefix = '] = '\n",
        "        res = nid + '[label=\"X[' + str(self.featureId) + prefix + str(self.val) + '\\\\n'\n",
        "        res += 'Gini = ' + str(self.gini) + '\"];\\n'\n",
        "        vid_L, code_L = self.children[0].graphviz()\n",
        "        vid_R, code_R = self.children[1].graphviz()\n",
        "\n",
        "        res += code_L + code_R\n",
        "        res += nid + ' -> ' + vid_L + ' [label=\"Vrai\"];\\n'\n",
        "        res += nid + ' -> ' + vid_R + ' [label=\"Faux\"];\\n'\n",
        "        return nid, res"
      ]
    },
    {
      "cell_type": "code",
      "execution_count": 47,
      "metadata": {
        "id": "g455kBkSuh6J"
      },
      "outputs": [],
      "source": [
        "def train_CART(X, Y, depth=0, nb_max=3):\n",
        "    '''\n",
        "    Training function : Learn and create the decision tree from a set of X (features) and Y(Target/Labels)\n",
        "    '''\n",
        "    f_index, f_gini, f_val = splitting_feature_CART(X, Y) # Find the best relevant feature of X to split Y\n",
        "    node = BinNode(f_index, f_val, f_gini, depth)         # Create a node\n",
        "\n",
        "    if (f_gini == 0.0) or (len(Y) <= nb_max):             # Pruning\n",
        "        node.cls = max(set(Y))                            # the class of the node (most frequent value)\n",
        "        return node                                       # return the node\n",
        "\n",
        "    # Otherwise, if the node is not terminal, we create its children nodes\n",
        "    depth += 1\n",
        "\n",
        "    # creation of the two children nodes\n",
        "    try:\n",
        "        val2 = float(f_val)\n",
        "        msk = X[:, f_index] > val2\n",
        "    except ValueError:\n",
        "        msk = (X[:, f_index]==f_val)\n",
        "\n",
        "    X_L = X[msk]\n",
        "    Y_L = Y[msk]\n",
        "    children_L = train_CART(X_L, Y_L, depth, nb_max)\n",
        "\n",
        "    X_R = X[~msk]\n",
        "    Y_R = Y[~msk]\n",
        "    children_R = train_CART(X_R, Y_R, depth, nb_max)\n",
        "    node.children.append(children_L)\n",
        "    node.children.append(children_R)\n",
        "\n",
        "    return node"
      ]
    },
    {
      "cell_type": "code",
      "execution_count": 48,
      "metadata": {
        "colab": {
          "base_uri": "https://localhost:8080/"
        },
        "id": "TZ3Y3E8puh6J",
        "outputId": "894e7c98-7581-419b-a83f-0c92dda837f0"
      },
      "outputs": [
        {
          "name": "stdout",
          "output_type": "stream",
          "text": [
            "The Decision Tree CART Pseudocode : \n",
            "\n",
            "IF X[0]  IS \"cloudy\" THEN \n",
            "    Y IS \"yes\"\n",
            "ELSE \n",
            "    IF X[1]  > 24 THEN \n",
            "        Y IS \"no\"\n",
            "    ELSE \n",
            "        IF X[1]  > 18 THEN \n",
            "            IF X[1]  > 21 THEN \n",
            "                Y IS \"yes\"\n",
            "            ELSE \n",
            "                Y IS \"yes\"\n",
            "        ELSE \n",
            "            Y IS \"no\"\n",
            "\n",
            "X =  ['cloudy', 'no_temperature', 'no_humidity', 'no']  | Prediction : Y'= yes\n"
          ]
        }
      ],
      "source": [
        "playOut_Tree_CART = train_CART(X_NumPlayOut, Y_NumPlayOut)\n",
        "\n",
        "print(\"The Decision Tree CART Pseudocode : \\n\")\n",
        "print(playOut_Tree_CART)\n",
        "\n",
        "# Test our model on a sample (new instance) : [\"cloudy\", \"no_temperature\", \"no_humidity\", \"no\"]\n",
        "x_test = [\"cloudy\", \"no_temperature\", \"no_humidity\", \"no\"]\n",
        "pred = playOut_Tree_CART.predict(x_test)\n",
        "print(\"X = \",x_test,\" | Prediction : Y'=\",pred)"
      ]
    },
    {
      "cell_type": "markdown",
      "metadata": {
        "id": "BBlFSMrsuh6K"
      },
      "source": [
        "#### 2.2.8 Bundling all functions together\n",
        "Nothing to program here. There is a question to answer.\n"
      ]
    },
    {
      "cell_type": "code",
      "execution_count": 49,
      "metadata": {
        "id": "ZqvdsMZSuh6K"
      },
      "outputs": [],
      "source": [
        "class CART(object):\n",
        "\n",
        "    def train(self, X, Y, X_names=[], Y_name=\"\", nb_max=3):\n",
        "        self.tree = train_CART(X, Y, 0, nb_max)\n",
        "        pseudoCode = str(self.tree)\n",
        "        if len(Y_name) > 0:\n",
        "            pseudoCode = pseudoCode.replace(\"Y\", Y_name)\n",
        "        for i in range(len(X_names)):\n",
        "            pseudoCode = pseudoCode.replace(\"X[\" + str(i) + \"]\", X_names[i])\n",
        "        self.pseudoCode = pseudoCode\n",
        "        self.X_names = X_names\n",
        "\n",
        "    def predict(self, X):\n",
        "        predictions = []\n",
        "        for i in range(len(X)):\n",
        "            predictions.append(self.tree.predict(X[i, :]))\n",
        "        return predictions\n",
        "\n",
        "    def graphviz(self):\n",
        "        nid, pseudoCode = self.tree.graphviz()\n",
        "        res = \"digraph Tree {\\n\"\n",
        "        res += \"node [shape=box] ;\"\n",
        "        for i in range(len(self.X_names)):\n",
        "            pseudoCode = pseudoCode.replace(\"X[\" + str(i) + \"]\", self.X_names[i])\n",
        "        res += pseudoCode\n",
        "        res += \"}\"\n",
        "        return res"
      ]
    },
    {
      "cell_type": "code",
      "execution_count": 50,
      "metadata": {
        "colab": {
          "base_uri": "https://localhost:8080/"
        },
        "id": "4mOYv5Ckuh6K",
        "outputId": "a02b2e10-b95f-41f6-bac3-e44a719e868a"
      },
      "outputs": [
        {
          "name": "stdout",
          "output_type": "stream",
          "text": [
            "IF weather  IS \"cloudy\" THEN \n",
            "    PlayOut IS \"yes\"\n",
            "ELSE \n",
            "    IF temperature  > 24 THEN \n",
            "        PlayOut IS \"no\"\n",
            "    ELSE \n",
            "        IF temperature  > 18 THEN \n",
            "            IF temperature  > 21 THEN \n",
            "                PlayOut IS \"yes\"\n",
            "            ELSE \n",
            "                PlayOut IS \"yes\"\n",
            "        ELSE \n",
            "            PlayOut IS \"no\"\n",
            "\n"
          ]
        }
      ],
      "source": [
        "cart_classifier = CART()\n",
        "cart_classifier.train(X_NumPlayOut, Y_NumPlayOut, X_names=[\"weather\", \"temperature\", \"humidity\", \"wind\"], Y_name=\"PlayOut\")\n",
        "print(cart_classifier.pseudoCode)"
      ]
    },
    {
      "cell_type": "markdown",
      "metadata": {
        "id": "9QPm8cx3uh6K"
      },
      "source": [
        "**Question (Q4):**\n",
        "\n",
        "In the pseudo-code, we notice that the decision tree does not take into account the \"humidity\" and \"wind\" features.\n",
        "\n",
        "**Unique_Value(weather)** = {'sunny', 'cloudy', 'rainy'}\n",
        "\n",
        "**Unique_Value(temperature)** = {18, 20, 21, 22, 24, 27, 28, 30}\n",
        "\n",
        "**Unique_Value(humidity)** = {65, 70, 75, 78, 80, 85, 90, 95, 96}\n",
        "\n",
        "**Unique_Value(wind)** = {'no', 'yes'}\n",
        "\n",
        "- What can you say about this?"
      ]
    },
    {
      "cell_type": "markdown",
      "metadata": {
        "id": "R9owwEWiuh6K"
      },
      "source": [
        "**Your Answer (A4) :**\n",
        "[ Write your answer here ]\n",
        "\n",
        "- The CART algorithm seemed to favor the features with better predictive power and less risk of overfitting, leading to the simpler tree structure."
      ]
    },
    {
      "cell_type": "code",
      "execution_count": 51,
      "metadata": {
        "colab": {
          "base_uri": "https://localhost:8080/",
          "height": 553
        },
        "id": "v1Oi3y_Nuh6K",
        "outputId": "102c4779-3b03-4dae-aad2-92fe03cd5afe"
      },
      "outputs": [
        {
          "data": {
            "image/svg+xml": [
              "<svg xmlns=\"http://www.w3.org/2000/svg\" xmlns:xlink=\"http://www.w3.org/1999/xlink\" width=\"359pt\" height=\"400pt\" viewBox=\"0.00 0.00 359.00 400.00\">\n",
              "<g id=\"graph0\" class=\"graph\" transform=\"scale(1 1) rotate(0) translate(4 396)\">\n",
              "<title>Tree</title>\n",
              "<polygon fill=\"white\" stroke=\"transparent\" points=\"-4,4 -4,-396 355,-396 355,4 -4,4\"/>\n",
              "<!-- N0 -->\n",
              "<g id=\"node1\" class=\"node\">\n",
              "<title>N0</title>\n",
              "<polygon fill=\"none\" stroke=\"black\" points=\"182,-392 0,-392 0,-354 182,-354 182,-392\"/>\n",
              "<text text-anchor=\"middle\" x=\"91\" y=\"-376.8\" font-family=\"Times,serif\" font-size=\"14.00\">weather = cloudy</text>\n",
              "<text text-anchor=\"middle\" x=\"91\" y=\"-361.8\" font-family=\"Times,serif\" font-size=\"14.00\">Gini = 0.35714285714285715</text>\n",
              "</g>\n",
              "<!-- N1 -->\n",
              "<g id=\"node2\" class=\"node\">\n",
              "<title>N1</title>\n",
              "<ellipse fill=\"none\" stroke=\"black\" cx=\"68\" cy=\"-284\" rx=\"27\" ry=\"18\"/>\n",
              "<text text-anchor=\"middle\" x=\"68\" y=\"-280.3\" font-family=\"Times,serif\" font-size=\"14.00\">yes</text>\n",
              "</g>\n",
              "<!-- N0&#45;&gt;N1 -->\n",
              "<g id=\"edge7\" class=\"edge\">\n",
              "<title>N0-&gt;N1</title>\n",
              "<path fill=\"none\" stroke=\"black\" d=\"M86.23,-353.97C83,-341.76 78.68,-325.4 75.06,-311.69\"/>\n",
              "<polygon fill=\"black\" stroke=\"black\" points=\"78.39,-310.6 72.45,-301.82 71.62,-312.39 78.39,-310.6\"/>\n",
              "<text text-anchor=\"middle\" x=\"93\" y=\"-324.8\" font-family=\"Times,serif\" font-size=\"14.00\">Vrai</text>\n",
              "</g>\n",
              "<!-- N2 -->\n",
              "<g id=\"node3\" class=\"node\">\n",
              "<title>N2</title>\n",
              "<polygon fill=\"none\" stroke=\"black\" points=\"224.5,-303 113.5,-303 113.5,-265 224.5,-265 224.5,-303\"/>\n",
              "<text text-anchor=\"middle\" x=\"169\" y=\"-287.8\" font-family=\"Times,serif\" font-size=\"14.00\">temperature &gt; 24</text>\n",
              "<text text-anchor=\"middle\" x=\"169\" y=\"-272.8\" font-family=\"Times,serif\" font-size=\"14.00\">Gini = 0.375</text>\n",
              "</g>\n",
              "<!-- N0&#45;&gt;N2 -->\n",
              "<g id=\"edge8\" class=\"edge\">\n",
              "<title>N0-&gt;N2</title>\n",
              "<path fill=\"none\" stroke=\"black\" d=\"M107.16,-353.97C118.35,-341.49 133.42,-324.69 145.87,-310.79\"/>\n",
              "<polygon fill=\"black\" stroke=\"black\" points=\"148.79,-312.79 152.86,-303 143.58,-308.11 148.79,-312.79\"/>\n",
              "<text text-anchor=\"middle\" x=\"149\" y=\"-324.8\" font-family=\"Times,serif\" font-size=\"14.00\">Faux</text>\n",
              "</g>\n",
              "<!-- N3 -->\n",
              "<g id=\"node4\" class=\"node\">\n",
              "<title>N3</title>\n",
              "<ellipse fill=\"none\" stroke=\"black\" cx=\"124\" cy=\"-195\" rx=\"27\" ry=\"18\"/>\n",
              "<text text-anchor=\"middle\" x=\"124\" y=\"-191.3\" font-family=\"Times,serif\" font-size=\"14.00\">no</text>\n",
              "</g>\n",
              "<!-- N2&#45;&gt;N3 -->\n",
              "<g id=\"edge5\" class=\"edge\">\n",
              "<title>N2-&gt;N3</title>\n",
              "<path fill=\"none\" stroke=\"black\" d=\"M159.68,-264.97C153.15,-252.36 144.34,-235.33 137.11,-221.34\"/>\n",
              "<polygon fill=\"black\" stroke=\"black\" points=\"140.1,-219.52 132.4,-212.24 133.89,-222.73 140.1,-219.52\"/>\n",
              "<text text-anchor=\"middle\" x=\"162\" y=\"-235.8\" font-family=\"Times,serif\" font-size=\"14.00\">Vrai</text>\n",
              "</g>\n",
              "<!-- N4 -->\n",
              "<g id=\"node5\" class=\"node\">\n",
              "<title>N4</title>\n",
              "<polygon fill=\"none\" stroke=\"black\" points=\"351,-214 169,-214 169,-176 351,-176 351,-214\"/>\n",
              "<text text-anchor=\"middle\" x=\"260\" y=\"-198.8\" font-family=\"Times,serif\" font-size=\"14.00\">temperature &gt; 18</text>\n",
              "<text text-anchor=\"middle\" x=\"260\" y=\"-183.8\" font-family=\"Times,serif\" font-size=\"14.00\">Gini = 0.35714285714285715</text>\n",
              "</g>\n",
              "<!-- N2&#45;&gt;N4 -->\n",
              "<g id=\"edge6\" class=\"edge\">\n",
              "<title>N2-&gt;N4</title>\n",
              "<path fill=\"none\" stroke=\"black\" d=\"M187.86,-264.97C201.15,-252.26 219.14,-235.06 233.83,-221.02\"/>\n",
              "<polygon fill=\"black\" stroke=\"black\" points=\"236.36,-223.44 241.17,-214 231.52,-218.38 236.36,-223.44\"/>\n",
              "<text text-anchor=\"middle\" x=\"234\" y=\"-235.8\" font-family=\"Times,serif\" font-size=\"14.00\">Faux</text>\n",
              "</g>\n",
              "<!-- N5 -->\n",
              "<g id=\"node6\" class=\"node\">\n",
              "<title>N5</title>\n",
              "<polygon fill=\"none\" stroke=\"black\" points=\"259.5,-125 84.5,-125 84.5,-87 259.5,-87 259.5,-125\"/>\n",
              "<text text-anchor=\"middle\" x=\"172\" y=\"-109.8\" font-family=\"Times,serif\" font-size=\"14.00\">temperature &gt; 21</text>\n",
              "<text text-anchor=\"middle\" x=\"172\" y=\"-94.8\" font-family=\"Times,serif\" font-size=\"14.00\">Gini = 0.2857142857142857</text>\n",
              "</g>\n",
              "<!-- N4&#45;&gt;N5 -->\n",
              "<g id=\"edge3\" class=\"edge\">\n",
              "<title>N4-&gt;N5</title>\n",
              "<path fill=\"none\" stroke=\"black\" d=\"M241.77,-175.97C229.02,-163.38 211.83,-146.38 197.7,-132.41\"/>\n",
              "<polygon fill=\"black\" stroke=\"black\" points=\"199.78,-129.54 190.21,-125 194.86,-134.52 199.78,-129.54\"/>\n",
              "<text text-anchor=\"middle\" x=\"234\" y=\"-146.8\" font-family=\"Times,serif\" font-size=\"14.00\">Vrai</text>\n",
              "</g>\n",
              "<!-- N8 -->\n",
              "<g id=\"node9\" class=\"node\">\n",
              "<title>N8</title>\n",
              "<ellipse fill=\"none\" stroke=\"black\" cx=\"305\" cy=\"-106\" rx=\"27\" ry=\"18\"/>\n",
              "<text text-anchor=\"middle\" x=\"305\" y=\"-102.3\" font-family=\"Times,serif\" font-size=\"14.00\">no</text>\n",
              "</g>\n",
              "<!-- N4&#45;&gt;N8 -->\n",
              "<g id=\"edge4\" class=\"edge\">\n",
              "<title>N4-&gt;N8</title>\n",
              "<path fill=\"none\" stroke=\"black\" d=\"M269.32,-175.97C275.85,-163.36 284.66,-146.33 291.89,-132.34\"/>\n",
              "<polygon fill=\"black\" stroke=\"black\" points=\"295.11,-133.73 296.6,-123.24 288.9,-130.52 295.11,-133.73\"/>\n",
              "<text text-anchor=\"middle\" x=\"300\" y=\"-146.8\" font-family=\"Times,serif\" font-size=\"14.00\">Faux</text>\n",
              "</g>\n",
              "<!-- N6 -->\n",
              "<g id=\"node7\" class=\"node\">\n",
              "<title>N6</title>\n",
              "<ellipse fill=\"none\" stroke=\"black\" cx=\"136\" cy=\"-18\" rx=\"27\" ry=\"18\"/>\n",
              "<text text-anchor=\"middle\" x=\"136\" y=\"-14.3\" font-family=\"Times,serif\" font-size=\"14.00\">yes</text>\n",
              "</g>\n",
              "<!-- N5&#45;&gt;N6 -->\n",
              "<g id=\"edge1\" class=\"edge\">\n",
              "<title>N5-&gt;N6</title>\n",
              "<path fill=\"none\" stroke=\"black\" d=\"M164.37,-86.76C159.25,-74.54 152.44,-58.27 146.78,-44.74\"/>\n",
              "<polygon fill=\"black\" stroke=\"black\" points=\"149.98,-43.34 142.89,-35.47 143.53,-46.04 149.98,-43.34\"/>\n",
              "<text text-anchor=\"middle\" x=\"169\" y=\"-57.8\" font-family=\"Times,serif\" font-size=\"14.00\">Vrai</text>\n",
              "</g>\n",
              "<!-- N7 -->\n",
              "<g id=\"node8\" class=\"node\">\n",
              "<title>N7</title>\n",
              "<ellipse fill=\"none\" stroke=\"black\" cx=\"208\" cy=\"-18\" rx=\"27\" ry=\"18\"/>\n",
              "<text text-anchor=\"middle\" x=\"208\" y=\"-14.3\" font-family=\"Times,serif\" font-size=\"14.00\">yes</text>\n",
              "</g>\n",
              "<!-- N5&#45;&gt;N7 -->\n",
              "<g id=\"edge2\" class=\"edge\">\n",
              "<title>N5-&gt;N7</title>\n",
              "<path fill=\"none\" stroke=\"black\" d=\"M179.63,-86.76C184.75,-74.54 191.56,-58.27 197.22,-44.74\"/>\n",
              "<polygon fill=\"black\" stroke=\"black\" points=\"200.47,-46.04 201.11,-35.47 194.02,-43.34 200.47,-46.04\"/>\n",
              "<text text-anchor=\"middle\" x=\"208\" y=\"-57.8\" font-family=\"Times,serif\" font-size=\"14.00\">Faux</text>\n",
              "</g>\n",
              "</g>\n",
              "</svg>"
            ],
            "text/plain": [
              "<IPython.core.display.SVG object>"
            ]
          },
          "metadata": {},
          "output_type": "display_data"
        }
      ],
      "source": [
        "# C'est juste une visualisation du graphe\n",
        "# Si ça ne marche pas, ce n'ai pas grave\n",
        "try:\n",
        "    from IPython.display import SVG\n",
        "    from graphviz import Source\n",
        "    from IPython.display import display\n",
        "\n",
        "    graph = Source(cart_classifier.graphviz())\n",
        "    display(SVG(graph.pipe(format='svg')))\n",
        "\n",
        "except ImportError:\n",
        "    print(\"il faut installer graphviz\")"
      ]
    },
    {
      "cell_type": "markdown",
      "metadata": {
        "id": "h70XFOBuuh6K"
      },
      "source": [
        "### 2.3 Benchmarking and analysis\n",
        "Here you are not going to code, but understand and analyse the results.\n",
        "\n",
        "#### 2.3.1 Decision Tree Generation\n",
        "Here, we will do a comparaison of ID3 vs CART based on how they generate the decision tree.\n",
        "\n",
        "**Reminder :**\n",
        "- ID3 :\n",
        "    - uses the entropy\n",
        "    - the number of node's children is according to the number of values\n",
        "- CART :\n",
        "    - uses the Gini index\n",
        "    - the number of node's leafs is binary\n",
        "    \n",
        "Here, we will use the \"**PlayOut.csv**\" dataset with nominal values"
      ]
    },
    {
      "cell_type": "code",
      "execution_count": 52,
      "metadata": {
        "colab": {
          "base_uri": "https://localhost:8080/"
        },
        "id": "PbMPr7Y7uh6L",
        "outputId": "20a183e8-e47d-45f8-a767-73ad8787cdc4"
      },
      "outputs": [
        {
          "name": "stdout",
          "output_type": "stream",
          "text": [
            "ID3 Pseudo-code :\n",
            "\n",
            "IF weither IS \"cloudy\" THEN\n",
            "    PlayOut IS \"yes\"\n",
            "IF weither IS \"rainy\" THEN\n",
            "    IF wind IS \"no\" THEN\n",
            "        PlayOut IS \"yes\"\n",
            "    IF wind IS \"yes\" THEN\n",
            "        PlayOut IS \"no\"\n",
            "IF weither IS \"sunny\" THEN\n",
            "    IF humidity IS \"dry\" THEN\n",
            "        PlayOut IS \"yes\"\n",
            "    IF humidity IS \"high\" THEN\n",
            "        PlayOut IS \"no\"\n",
            "\n",
            "\n",
            "--------------\n",
            "\n",
            "CART Pseudo-code :\n",
            "\n",
            "IF weither  IS \"cloudy\" THEN \n",
            "    PlayOut IS \"yes\"\n",
            "ELSE \n",
            "    IF humidity  IS \"dry\" THEN \n",
            "        IF wind  IS \"no\" THEN \n",
            "            PlayOut IS \"yes\"\n",
            "        ELSE \n",
            "            PlayOut IS \"yes\"\n",
            "    ELSE \n",
            "        IF weither  IS \"rainy\" THEN \n",
            "            PlayOut IS \"yes\"\n",
            "        ELSE \n",
            "            PlayOut IS \"no\"\n",
            "\n"
          ]
        }
      ],
      "source": [
        "id3_nom_classifier = ID3()\n",
        "id3_nom_classifier.train(X_playOut, Y_playOut, X_names=[\"weither\", \"temperature\", \"humidity\", \"wind\"], Y_name=\"PlayOut\")\n",
        "print(\"ID3 Pseudo-code :\\n\")\n",
        "print(id3_nom_classifier.pseudoCode)\n",
        "print(\"\\n--------------\\n\")\n",
        "cart_nom_classifier = CART()\n",
        "cart_nom_classifier.train(X_playOut, Y_playOut, X_names=[\"weither\", \"temperature\", \"humidity\", \"wind\"], Y_name=\"PlayOut\")\n",
        "print(\"CART Pseudo-code :\\n\")\n",
        "print(cart_nom_classifier.pseudoCode)"
      ]
    },
    {
      "cell_type": "markdown",
      "metadata": {
        "id": "DIt-xTjjuh6L"
      },
      "source": [
        "**Analyze these results (Q5)**\n",
        "- Comparison between ID3 and CART according to their way of generating the tree.\n",
        "- Analyze the depth, the features used, the type of tree and maybe the impact on the prediction speed (worst case)."
      ]
    },
    {
      "cell_type": "markdown",
      "metadata": {
        "id": "U3nRaIS-uh6L"
      },
      "source": [
        "**Your Answer (A5):**\n",
        "[ Write your answer here ]\n",
        "\n",
        "ID3 :\n",
        "- ID3 builds a multi-way tree (max depth 3) using \"weather,\" \"wind,\" and \"humidity\" based on Information Gain.\n",
        "\n",
        "CART :\n",
        "- CART builds a binary tree (max depth 4) using \"weather,\" \"humidity,\" and \"wind\" based on Gini Impurity."
      ]
    },
    {
      "cell_type": "code",
      "execution_count": 53,
      "metadata": {
        "colab": {
          "base_uri": "https://localhost:8080/",
          "height": 865
        },
        "id": "ZdS8Fz4Euh6L",
        "outputId": "66df632d-6d23-4eab-a58d-abcc95343d6f"
      },
      "outputs": [
        {
          "name": "stdout",
          "output_type": "stream",
          "text": [
            "Visualization of ID3 Decision Tree :\n"
          ]
        },
        {
          "data": {
            "image/svg+xml": [
              "<svg xmlns=\"http://www.w3.org/2000/svg\" xmlns:xlink=\"http://www.w3.org/1999/xlink\" width=\"429pt\" height=\"252pt\" viewBox=\"0.00 0.00 428.50 252.00\">\n",
              "<g id=\"graph0\" class=\"graph\" transform=\"scale(1 1) rotate(0) translate(4 248)\">\n",
              "<title>Tree</title>\n",
              "<polygon fill=\"white\" stroke=\"transparent\" points=\"-4,4 -4,-248 424.5,-248 424.5,4 -4,4\"/>\n",
              "<!-- N8 -->\n",
              "<g id=\"node1\" class=\"node\">\n",
              "<title>N8</title>\n",
              "<polygon fill=\"none\" stroke=\"black\" points=\"241,-244 69,-244 69,-191 241,-191 241,-244\"/>\n",
              "<text text-anchor=\"middle\" x=\"155\" y=\"-228.8\" font-family=\"Times,serif\" font-size=\"14.00\">weither</text>\n",
              "<text text-anchor=\"middle\" x=\"155\" y=\"-213.8\" font-family=\"Times,serif\" font-size=\"14.00\">H = 0.9402859586706311</text>\n",
              "<text text-anchor=\"middle\" x=\"155\" y=\"-198.8\" font-family=\"Times,serif\" font-size=\"14.00\">IG = 0.24674981977443933</text>\n",
              "</g>\n",
              "<!-- N9 -->\n",
              "<g id=\"node2\" class=\"node\">\n",
              "<title>N9</title>\n",
              "<ellipse fill=\"none\" stroke=\"black\" cx=\"27\" cy=\"-113.5\" rx=\"27\" ry=\"18\"/>\n",
              "<text text-anchor=\"middle\" x=\"27\" y=\"-109.8\" font-family=\"Times,serif\" font-size=\"14.00\">yes</text>\n",
              "</g>\n",
              "<!-- N8&#45;&gt;N9 -->\n",
              "<g id=\"edge1\" class=\"edge\">\n",
              "<title>N8-&gt;N9</title>\n",
              "<path fill=\"none\" stroke=\"black\" d=\"M122.7,-190.76C100.57,-173.13 71.67,-150.1 51.45,-133.98\"/>\n",
              "<polygon fill=\"black\" stroke=\"black\" points=\"53.62,-131.24 43.62,-127.74 49.26,-136.71 53.62,-131.24\"/>\n",
              "<text text-anchor=\"middle\" x=\"117.5\" y=\"-161.8\" font-family=\"Times,serif\" font-size=\"14.00\">cloudy</text>\n",
              "</g>\n",
              "<!-- N10 -->\n",
              "<g id=\"node3\" class=\"node\">\n",
              "<title>N10</title>\n",
              "<polygon fill=\"none\" stroke=\"black\" points=\"237.5,-140 72.5,-140 72.5,-87 237.5,-87 237.5,-140\"/>\n",
              "<text text-anchor=\"middle\" x=\"155\" y=\"-124.8\" font-family=\"Times,serif\" font-size=\"14.00\">wind</text>\n",
              "<text text-anchor=\"middle\" x=\"155\" y=\"-109.8\" font-family=\"Times,serif\" font-size=\"14.00\">H = 0.9709505944546686</text>\n",
              "<text text-anchor=\"middle\" x=\"155\" y=\"-94.8\" font-family=\"Times,serif\" font-size=\"14.00\">IG = 0.9709505944546686</text>\n",
              "</g>\n",
              "<!-- N8&#45;&gt;N10 -->\n",
              "<g id=\"edge4\" class=\"edge\">\n",
              "<title>N8-&gt;N10</title>\n",
              "<path fill=\"none\" stroke=\"black\" d=\"M155,-190.76C155,-178.56 155,-163.78 155,-150.49\"/>\n",
              "<polygon fill=\"black\" stroke=\"black\" points=\"158.5,-150.23 155,-140.23 151.5,-150.23 158.5,-150.23\"/>\n",
              "<text text-anchor=\"middle\" x=\"169\" y=\"-161.8\" font-family=\"Times,serif\" font-size=\"14.00\">rainy</text>\n",
              "</g>\n",
              "<!-- N13 -->\n",
              "<g id=\"node6\" class=\"node\">\n",
              "<title>N13</title>\n",
              "<polygon fill=\"none\" stroke=\"black\" points=\"420.5,-140 255.5,-140 255.5,-87 420.5,-87 420.5,-140\"/>\n",
              "<text text-anchor=\"middle\" x=\"338\" y=\"-124.8\" font-family=\"Times,serif\" font-size=\"14.00\">humidity</text>\n",
              "<text text-anchor=\"middle\" x=\"338\" y=\"-109.8\" font-family=\"Times,serif\" font-size=\"14.00\">H = 0.9709505944546686</text>\n",
              "<text text-anchor=\"middle\" x=\"338\" y=\"-94.8\" font-family=\"Times,serif\" font-size=\"14.00\">IG = 0.9709505944546686</text>\n",
              "</g>\n",
              "<!-- N8&#45;&gt;N13 -->\n",
              "<g id=\"edge7\" class=\"edge\">\n",
              "<title>N8-&gt;N13</title>\n",
              "<path fill=\"none\" stroke=\"black\" d=\"M201.18,-190.76C226.09,-176.88 256.99,-159.65 283.13,-145.08\"/>\n",
              "<polygon fill=\"black\" stroke=\"black\" points=\"285.12,-147.98 292.15,-140.05 281.71,-141.87 285.12,-147.98\"/>\n",
              "<text text-anchor=\"middle\" x=\"274.5\" y=\"-161.8\" font-family=\"Times,serif\" font-size=\"14.00\">sunny</text>\n",
              "</g>\n",
              "<!-- N11 -->\n",
              "<g id=\"node4\" class=\"node\">\n",
              "<title>N11</title>\n",
              "<ellipse fill=\"none\" stroke=\"black\" cx=\"129\" cy=\"-18\" rx=\"27\" ry=\"18\"/>\n",
              "<text text-anchor=\"middle\" x=\"129\" y=\"-14.3\" font-family=\"Times,serif\" font-size=\"14.00\">yes</text>\n",
              "</g>\n",
              "<!-- N10&#45;&gt;N11 -->\n",
              "<g id=\"edge2\" class=\"edge\">\n",
              "<title>N10-&gt;N11</title>\n",
              "<path fill=\"none\" stroke=\"black\" d=\"M147.9,-86.95C144.34,-74.15 140.03,-58.66 136.43,-45.71\"/>\n",
              "<polygon fill=\"black\" stroke=\"black\" points=\"139.77,-44.66 133.72,-35.96 133.02,-46.53 139.77,-44.66\"/>\n",
              "<text text-anchor=\"middle\" x=\"150\" y=\"-57.8\" font-family=\"Times,serif\" font-size=\"14.00\">no</text>\n",
              "</g>\n",
              "<!-- N12 -->\n",
              "<g id=\"node5\" class=\"node\">\n",
              "<title>N12</title>\n",
              "<ellipse fill=\"none\" stroke=\"black\" cx=\"201\" cy=\"-18\" rx=\"27\" ry=\"18\"/>\n",
              "<text text-anchor=\"middle\" x=\"201\" y=\"-14.3\" font-family=\"Times,serif\" font-size=\"14.00\">no</text>\n",
              "</g>\n",
              "<!-- N10&#45;&gt;N12 -->\n",
              "<g id=\"edge3\" class=\"edge\">\n",
              "<title>N10-&gt;N12</title>\n",
              "<path fill=\"none\" stroke=\"black\" d=\"M167.57,-86.95C174.08,-73.72 182,-57.62 188.5,-44.42\"/>\n",
              "<polygon fill=\"black\" stroke=\"black\" points=\"191.66,-45.91 192.93,-35.39 185.38,-42.82 191.66,-45.91\"/>\n",
              "<text text-anchor=\"middle\" x=\"193.5\" y=\"-57.8\" font-family=\"Times,serif\" font-size=\"14.00\">yes</text>\n",
              "</g>\n",
              "<!-- N14 -->\n",
              "<g id=\"node7\" class=\"node\">\n",
              "<title>N14</title>\n",
              "<ellipse fill=\"none\" stroke=\"black\" cx=\"292\" cy=\"-18\" rx=\"27\" ry=\"18\"/>\n",
              "<text text-anchor=\"middle\" x=\"292\" y=\"-14.3\" font-family=\"Times,serif\" font-size=\"14.00\">yes</text>\n",
              "</g>\n",
              "<!-- N13&#45;&gt;N14 -->\n",
              "<g id=\"edge5\" class=\"edge\">\n",
              "<title>N13-&gt;N14</title>\n",
              "<path fill=\"none\" stroke=\"black\" d=\"M325.43,-86.95C318.92,-73.72 311,-57.62 304.5,-44.42\"/>\n",
              "<polygon fill=\"black\" stroke=\"black\" points=\"307.62,-42.82 300.07,-35.39 301.34,-45.91 307.62,-42.82\"/>\n",
              "<text text-anchor=\"middle\" x=\"326.5\" y=\"-57.8\" font-family=\"Times,serif\" font-size=\"14.00\">dry</text>\n",
              "</g>\n",
              "<!-- N15 -->\n",
              "<g id=\"node8\" class=\"node\">\n",
              "<title>N15</title>\n",
              "<ellipse fill=\"none\" stroke=\"black\" cx=\"364\" cy=\"-18\" rx=\"27\" ry=\"18\"/>\n",
              "<text text-anchor=\"middle\" x=\"364\" y=\"-14.3\" font-family=\"Times,serif\" font-size=\"14.00\">no</text>\n",
              "</g>\n",
              "<!-- N13&#45;&gt;N15 -->\n",
              "<g id=\"edge6\" class=\"edge\">\n",
              "<title>N13-&gt;N15</title>\n",
              "<path fill=\"none\" stroke=\"black\" d=\"M345.1,-86.95C348.66,-74.15 352.97,-58.66 356.57,-45.71\"/>\n",
              "<polygon fill=\"black\" stroke=\"black\" points=\"359.98,-46.53 359.28,-35.96 353.23,-44.66 359.98,-46.53\"/>\n",
              "<text text-anchor=\"middle\" x=\"366.5\" y=\"-57.8\" font-family=\"Times,serif\" font-size=\"14.00\">high</text>\n",
              "</g>\n",
              "</g>\n",
              "</svg>"
            ],
            "text/plain": [
              "<IPython.core.display.SVG object>"
            ]
          },
          "metadata": {},
          "output_type": "display_data"
        },
        {
          "name": "stdout",
          "output_type": "stream",
          "text": [
            "\n",
            "-------------------------------------------------------------------------------\n",
            "\n",
            "Visualization of CART Decision Tree :\n"
          ]
        },
        {
          "data": {
            "image/svg+xml": [
              "<svg xmlns=\"http://www.w3.org/2000/svg\" xmlns:xlink=\"http://www.w3.org/1999/xlink\" width=\"340pt\" height=\"311pt\" viewBox=\"0.00 0.00 340.00 311.00\">\n",
              "<g id=\"graph0\" class=\"graph\" transform=\"scale(1 1) rotate(0) translate(4 307)\">\n",
              "<title>Tree</title>\n",
              "<polygon fill=\"white\" stroke=\"transparent\" points=\"-4,4 -4,-307 336,-307 336,4 -4,4\"/>\n",
              "<!-- N9 -->\n",
              "<g id=\"node1\" class=\"node\">\n",
              "<title>N9</title>\n",
              "<polygon fill=\"none\" stroke=\"black\" points=\"182,-303 0,-303 0,-265 182,-265 182,-303\"/>\n",
              "<text text-anchor=\"middle\" x=\"91\" y=\"-287.8\" font-family=\"Times,serif\" font-size=\"14.00\">weither = cloudy</text>\n",
              "<text text-anchor=\"middle\" x=\"91\" y=\"-272.8\" font-family=\"Times,serif\" font-size=\"14.00\">Gini = 0.35714285714285715</text>\n",
              "</g>\n",
              "<!-- N10 -->\n",
              "<g id=\"node2\" class=\"node\">\n",
              "<title>N10</title>\n",
              "<ellipse fill=\"none\" stroke=\"black\" cx=\"68\" cy=\"-195\" rx=\"27\" ry=\"18\"/>\n",
              "<text text-anchor=\"middle\" x=\"68\" y=\"-191.3\" font-family=\"Times,serif\" font-size=\"14.00\">yes</text>\n",
              "</g>\n",
              "<!-- N9&#45;&gt;N10 -->\n",
              "<g id=\"edge7\" class=\"edge\">\n",
              "<title>N9-&gt;N10</title>\n",
              "<path fill=\"none\" stroke=\"black\" d=\"M86.23,-264.97C83,-252.76 78.68,-236.4 75.06,-222.69\"/>\n",
              "<polygon fill=\"black\" stroke=\"black\" points=\"78.39,-221.6 72.45,-212.82 71.62,-223.39 78.39,-221.6\"/>\n",
              "<text text-anchor=\"middle\" x=\"93\" y=\"-235.8\" font-family=\"Times,serif\" font-size=\"14.00\">Vrai</text>\n",
              "</g>\n",
              "<!-- N11 -->\n",
              "<g id=\"node3\" class=\"node\">\n",
              "<title>N11</title>\n",
              "<polygon fill=\"none\" stroke=\"black\" points=\"295,-214 113,-214 113,-176 295,-176 295,-214\"/>\n",
              "<text text-anchor=\"middle\" x=\"204\" y=\"-198.8\" font-family=\"Times,serif\" font-size=\"14.00\">humidity = dry</text>\n",
              "<text text-anchor=\"middle\" x=\"204\" y=\"-183.8\" font-family=\"Times,serif\" font-size=\"14.00\">Gini = 0.31999999999999984</text>\n",
              "</g>\n",
              "<!-- N9&#45;&gt;N11 -->\n",
              "<g id=\"edge8\" class=\"edge\">\n",
              "<title>N9-&gt;N11</title>\n",
              "<path fill=\"none\" stroke=\"black\" d=\"M114.41,-264.97C131.23,-252.03 154.09,-234.43 172.5,-220.25\"/>\n",
              "<polygon fill=\"black\" stroke=\"black\" points=\"174.83,-222.88 180.62,-214 170.56,-217.33 174.83,-222.88\"/>\n",
              "<text text-anchor=\"middle\" x=\"169\" y=\"-235.8\" font-family=\"Times,serif\" font-size=\"14.00\">Faux</text>\n",
              "</g>\n",
              "<!-- N12 -->\n",
              "<g id=\"node4\" class=\"node\">\n",
              "<title>N12</title>\n",
              "<polygon fill=\"none\" stroke=\"black\" points=\"181,-125 107,-125 107,-87 181,-87 181,-125\"/>\n",
              "<text text-anchor=\"middle\" x=\"144\" y=\"-109.8\" font-family=\"Times,serif\" font-size=\"14.00\">wind = no</text>\n",
              "<text text-anchor=\"middle\" x=\"144\" y=\"-94.8\" font-family=\"Times,serif\" font-size=\"14.00\">Gini = 0.2</text>\n",
              "</g>\n",
              "<!-- N11&#45;&gt;N12 -->\n",
              "<g id=\"edge5\" class=\"edge\">\n",
              "<title>N11-&gt;N12</title>\n",
              "<path fill=\"none\" stroke=\"black\" d=\"M191.57,-175.97C183.12,-163.73 171.8,-147.32 162.33,-133.58\"/>\n",
              "<polygon fill=\"black\" stroke=\"black\" points=\"164.97,-131.25 156.42,-125 159.21,-135.22 164.97,-131.25\"/>\n",
              "<text text-anchor=\"middle\" x=\"190\" y=\"-146.8\" font-family=\"Times,serif\" font-size=\"14.00\">Vrai</text>\n",
              "</g>\n",
              "<!-- N15 -->\n",
              "<g id=\"node7\" class=\"node\">\n",
              "<title>N15</title>\n",
              "<polygon fill=\"none\" stroke=\"black\" points=\"300.5,-125 199.5,-125 199.5,-87 300.5,-87 300.5,-125\"/>\n",
              "<text text-anchor=\"middle\" x=\"250\" y=\"-109.8\" font-family=\"Times,serif\" font-size=\"14.00\">weither = rainy</text>\n",
              "<text text-anchor=\"middle\" x=\"250\" y=\"-94.8\" font-family=\"Times,serif\" font-size=\"14.00\">Gini = 0.2</text>\n",
              "</g>\n",
              "<!-- N11&#45;&gt;N15 -->\n",
              "<g id=\"edge6\" class=\"edge\">\n",
              "<title>N11-&gt;N15</title>\n",
              "<path fill=\"none\" stroke=\"black\" d=\"M213.53,-175.97C219.95,-163.84 228.52,-147.63 235.74,-133.97\"/>\n",
              "<polygon fill=\"black\" stroke=\"black\" points=\"238.9,-135.48 240.48,-125 232.71,-132.21 238.9,-135.48\"/>\n",
              "<text text-anchor=\"middle\" x=\"244\" y=\"-146.8\" font-family=\"Times,serif\" font-size=\"14.00\">Faux</text>\n",
              "</g>\n",
              "<!-- N13 -->\n",
              "<g id=\"node5\" class=\"node\">\n",
              "<title>N13</title>\n",
              "<ellipse fill=\"none\" stroke=\"black\" cx=\"81\" cy=\"-18\" rx=\"27\" ry=\"18\"/>\n",
              "<text text-anchor=\"middle\" x=\"81\" y=\"-14.3\" font-family=\"Times,serif\" font-size=\"14.00\">yes</text>\n",
              "</g>\n",
              "<!-- N12&#45;&gt;N13 -->\n",
              "<g id=\"edge1\" class=\"edge\">\n",
              "<title>N12-&gt;N13</title>\n",
              "<path fill=\"none\" stroke=\"black\" d=\"M130.64,-86.76C121.25,-73.94 108.59,-56.66 98.41,-42.77\"/>\n",
              "<polygon fill=\"black\" stroke=\"black\" points=\"101.17,-40.62 92.44,-34.62 95.53,-44.75 101.17,-40.62\"/>\n",
              "<text text-anchor=\"middle\" x=\"129\" y=\"-57.8\" font-family=\"Times,serif\" font-size=\"14.00\">Vrai</text>\n",
              "</g>\n",
              "<!-- N14 -->\n",
              "<g id=\"node6\" class=\"node\">\n",
              "<title>N14</title>\n",
              "<ellipse fill=\"none\" stroke=\"black\" cx=\"153\" cy=\"-18\" rx=\"27\" ry=\"18\"/>\n",
              "<text text-anchor=\"middle\" x=\"153\" y=\"-14.3\" font-family=\"Times,serif\" font-size=\"14.00\">yes</text>\n",
              "</g>\n",
              "<!-- N12&#45;&gt;N14 -->\n",
              "<g id=\"edge2\" class=\"edge\">\n",
              "<title>N12-&gt;N14</title>\n",
              "<path fill=\"none\" stroke=\"black\" d=\"M145.91,-86.76C147.15,-74.93 148.78,-59.32 150.17,-46.05\"/>\n",
              "<polygon fill=\"black\" stroke=\"black\" points=\"153.66,-46.35 151.22,-36.04 146.69,-45.62 153.66,-46.35\"/>\n",
              "<text text-anchor=\"middle\" x=\"164\" y=\"-57.8\" font-family=\"Times,serif\" font-size=\"14.00\">Faux</text>\n",
              "</g>\n",
              "<!-- N16 -->\n",
              "<g id=\"node8\" class=\"node\">\n",
              "<title>N16</title>\n",
              "<ellipse fill=\"none\" stroke=\"black\" cx=\"233\" cy=\"-18\" rx=\"27\" ry=\"18\"/>\n",
              "<text text-anchor=\"middle\" x=\"233\" y=\"-14.3\" font-family=\"Times,serif\" font-size=\"14.00\">yes</text>\n",
              "</g>\n",
              "<!-- N15&#45;&gt;N16 -->\n",
              "<g id=\"edge3\" class=\"edge\">\n",
              "<title>N15-&gt;N16</title>\n",
              "<path fill=\"none\" stroke=\"black\" d=\"M246.39,-86.76C244.06,-74.93 240.97,-59.32 238.35,-46.05\"/>\n",
              "<polygon fill=\"black\" stroke=\"black\" points=\"241.74,-45.17 236.37,-36.04 234.87,-46.53 241.74,-45.17\"/>\n",
              "<text text-anchor=\"middle\" x=\"255\" y=\"-57.8\" font-family=\"Times,serif\" font-size=\"14.00\">Vrai</text>\n",
              "</g>\n",
              "<!-- N17 -->\n",
              "<g id=\"node9\" class=\"node\">\n",
              "<title>N17</title>\n",
              "<ellipse fill=\"none\" stroke=\"black\" cx=\"305\" cy=\"-18\" rx=\"27\" ry=\"18\"/>\n",
              "<text text-anchor=\"middle\" x=\"305\" y=\"-14.3\" font-family=\"Times,serif\" font-size=\"14.00\">no</text>\n",
              "</g>\n",
              "<!-- N15&#45;&gt;N17 -->\n",
              "<g id=\"edge4\" class=\"edge\">\n",
              "<title>N15-&gt;N17</title>\n",
              "<path fill=\"none\" stroke=\"black\" d=\"M261.66,-86.76C269.73,-74.14 280.57,-57.21 289.38,-43.42\"/>\n",
              "<polygon fill=\"black\" stroke=\"black\" points=\"292.39,-45.21 294.83,-34.9 286.5,-41.44 292.39,-45.21\"/>\n",
              "<text text-anchor=\"middle\" x=\"296\" y=\"-57.8\" font-family=\"Times,serif\" font-size=\"14.00\">Faux</text>\n",
              "</g>\n",
              "</g>\n",
              "</svg>"
            ],
            "text/plain": [
              "<IPython.core.display.SVG object>"
            ]
          },
          "metadata": {},
          "output_type": "display_data"
        }
      ],
      "source": [
        "# This is just a visualisation of the graph.\n",
        "# If it doesn't work, it isn't a big deal (you can move to the next cell).\n",
        "try:\n",
        "    from IPython.display import SVG\n",
        "    from graphviz import Source\n",
        "    from IPython.display import display\n",
        "\n",
        "    print(\"Visualization of ID3 Decision Tree :\")\n",
        "    graph1 = Source(id3_nom_classifier.graphviz())\n",
        "    display(SVG(graph1.pipe(format='svg')))\n",
        "\n",
        "    print(\"\\n-------------------------------------------------------------------------------\\n\")\n",
        "\n",
        "    print(\"Visualization of CART Decision Tree :\")\n",
        "    graph2 = Source(cart_nom_classifier.graphviz())\n",
        "    display(SVG(graph2.pipe(format='svg')))\n",
        "\n",
        "except ImportError:\n",
        "    print(\"graphviz must be installed\")"
      ]
    },
    {
      "cell_type": "markdown",
      "metadata": {
        "id": "_dN0R0Ubuh6L"
      },
      "source": [
        "#### 2.3.2 Benchmarking based on Types of attributs  \n",
        "\n",
        "Here, we will compare between two CART classifiers applied on :\n",
        "\n",
        "- Nominal data (categorical); already trained\n",
        "- Mixed data (numerical and nominal)"
      ]
    },
    {
      "cell_type": "code",
      "execution_count": 54,
      "metadata": {
        "colab": {
          "base_uri": "https://localhost:8080/"
        },
        "id": "NT1ZhXP2uh6M",
        "outputId": "53ece9c8-3d4d-4289-d8c4-15f810c11745"
      },
      "outputs": [
        {
          "name": "stdout",
          "output_type": "stream",
          "text": [
            "CART with nominal features: :\n",
            "============================================\n",
            "IF weither  IS \"cloudy\" THEN \n",
            "    PlayOut IS \"yes\"\n",
            "ELSE \n",
            "    IF humidity  IS \"dry\" THEN \n",
            "        IF wind  IS \"no\" THEN \n",
            "            PlayOut IS \"yes\"\n",
            "        ELSE \n",
            "            PlayOut IS \"yes\"\n",
            "    ELSE \n",
            "        IF weither  IS \"rainy\" THEN \n",
            "            PlayOut IS \"yes\"\n",
            "        ELSE \n",
            "            PlayOut IS \"no\"\n",
            "\n",
            "\n",
            "CART with some numerical features :\n",
            "================================================\n",
            "IF weither  IS \"cloudy\" THEN \n",
            "    PlayOut IS \"yes\"\n",
            "ELSE \n",
            "    IF temperature  > 24 THEN \n",
            "        PlayOut IS \"no\"\n",
            "    ELSE \n",
            "        IF temperature  > 18 THEN \n",
            "            IF temperature  > 21 THEN \n",
            "                PlayOut IS \"yes\"\n",
            "            ELSE \n",
            "                PlayOut IS \"yes\"\n",
            "        ELSE \n",
            "            PlayOut IS \"no\"\n",
            "\n"
          ]
        }
      ],
      "source": [
        "# Reminder : Be careful\n",
        "'''\n",
        "X_playOut, Y_playOut : contains only nominal data\n",
        "X_NumPlayOut, Y_NumPlayOut : contains numerical and nominal data\n",
        "'''\n",
        "\n",
        "print(\"CART with nominal features: :\")\n",
        "print(\"============================================\")\n",
        "print(cart_nom_classifier.pseudoCode)\n",
        "\n",
        "print(\"\")\n",
        "\n",
        "cart_num_classifier = CART()\n",
        "cart_num_classifier.train(X_NumPlayOut, Y_NumPlayOut, X_names=[\"weither\", \"temperature\", \"humidity\", \"wind\"], Y_name=\"PlayOut\")\n",
        "\n",
        "print(\"CART with some numerical features :\")\n",
        "print(\"================================================\")\n",
        "print(cart_num_classifier.pseudoCode)"
      ]
    },
    {
      "cell_type": "markdown",
      "metadata": {
        "id": "s1W1EGJvuh6M"
      },
      "source": [
        "**Analyze these results (Q6)** :\n",
        "- Analyzes the impact of characteristic types.\n",
        " * Categorical data  \n",
        " * Heterogeneous data (categorical and numerical)\n",
        "- The analysis could be based on the generated pseudo-code (or tree) according to the previous criteria."
      ]
    },
    {
      "cell_type": "markdown",
      "metadata": {
        "id": "j7JbAGlYuh6M"
      },
      "source": [
        "**Your Answer (A6) :**\n",
        "[ Write your answer here ]\n",
        "\n",
        "- While both CART trees reached a depth of 4, the tree with solely categorical data created more complex branches using \"weather,\" \"humidity,\" and \"wind.\" In contrast, the tree with heterogeneous data prioritized simpler, threshold-based splits on \"weather\" and numerical \"temperature,\"."
      ]
    },
    {
      "cell_type": "code",
      "execution_count": 55,
      "metadata": {
        "colab": {
          "base_uri": "https://localhost:8080/",
          "height": 1000
        },
        "id": "Ltat1oEAuh6M",
        "outputId": "f760d48f-b107-495f-a704-3cdf95b13fbb"
      },
      "outputs": [
        {
          "name": "stdout",
          "output_type": "stream",
          "text": [
            "Visualization of CART Decision Tree on only nominal features :\n"
          ]
        },
        {
          "data": {
            "image/svg+xml": [
              "<svg xmlns=\"http://www.w3.org/2000/svg\" xmlns:xlink=\"http://www.w3.org/1999/xlink\" width=\"340pt\" height=\"311pt\" viewBox=\"0.00 0.00 340.00 311.00\">\n",
              "<g id=\"graph0\" class=\"graph\" transform=\"scale(1 1) rotate(0) translate(4 307)\">\n",
              "<title>Tree</title>\n",
              "<polygon fill=\"white\" stroke=\"transparent\" points=\"-4,4 -4,-307 336,-307 336,4 -4,4\"/>\n",
              "<!-- N18 -->\n",
              "<g id=\"node1\" class=\"node\">\n",
              "<title>N18</title>\n",
              "<polygon fill=\"none\" stroke=\"black\" points=\"182,-303 0,-303 0,-265 182,-265 182,-303\"/>\n",
              "<text text-anchor=\"middle\" x=\"91\" y=\"-287.8\" font-family=\"Times,serif\" font-size=\"14.00\">weither = cloudy</text>\n",
              "<text text-anchor=\"middle\" x=\"91\" y=\"-272.8\" font-family=\"Times,serif\" font-size=\"14.00\">Gini = 0.35714285714285715</text>\n",
              "</g>\n",
              "<!-- N19 -->\n",
              "<g id=\"node2\" class=\"node\">\n",
              "<title>N19</title>\n",
              "<ellipse fill=\"none\" stroke=\"black\" cx=\"68\" cy=\"-195\" rx=\"27\" ry=\"18\"/>\n",
              "<text text-anchor=\"middle\" x=\"68\" y=\"-191.3\" font-family=\"Times,serif\" font-size=\"14.00\">yes</text>\n",
              "</g>\n",
              "<!-- N18&#45;&gt;N19 -->\n",
              "<g id=\"edge7\" class=\"edge\">\n",
              "<title>N18-&gt;N19</title>\n",
              "<path fill=\"none\" stroke=\"black\" d=\"M86.23,-264.97C83,-252.76 78.68,-236.4 75.06,-222.69\"/>\n",
              "<polygon fill=\"black\" stroke=\"black\" points=\"78.39,-221.6 72.45,-212.82 71.62,-223.39 78.39,-221.6\"/>\n",
              "<text text-anchor=\"middle\" x=\"93\" y=\"-235.8\" font-family=\"Times,serif\" font-size=\"14.00\">Vrai</text>\n",
              "</g>\n",
              "<!-- N20 -->\n",
              "<g id=\"node3\" class=\"node\">\n",
              "<title>N20</title>\n",
              "<polygon fill=\"none\" stroke=\"black\" points=\"295,-214 113,-214 113,-176 295,-176 295,-214\"/>\n",
              "<text text-anchor=\"middle\" x=\"204\" y=\"-198.8\" font-family=\"Times,serif\" font-size=\"14.00\">humidity = dry</text>\n",
              "<text text-anchor=\"middle\" x=\"204\" y=\"-183.8\" font-family=\"Times,serif\" font-size=\"14.00\">Gini = 0.31999999999999984</text>\n",
              "</g>\n",
              "<!-- N18&#45;&gt;N20 -->\n",
              "<g id=\"edge8\" class=\"edge\">\n",
              "<title>N18-&gt;N20</title>\n",
              "<path fill=\"none\" stroke=\"black\" d=\"M114.41,-264.97C131.23,-252.03 154.09,-234.43 172.5,-220.25\"/>\n",
              "<polygon fill=\"black\" stroke=\"black\" points=\"174.83,-222.88 180.62,-214 170.56,-217.33 174.83,-222.88\"/>\n",
              "<text text-anchor=\"middle\" x=\"169\" y=\"-235.8\" font-family=\"Times,serif\" font-size=\"14.00\">Faux</text>\n",
              "</g>\n",
              "<!-- N21 -->\n",
              "<g id=\"node4\" class=\"node\">\n",
              "<title>N21</title>\n",
              "<polygon fill=\"none\" stroke=\"black\" points=\"181,-125 107,-125 107,-87 181,-87 181,-125\"/>\n",
              "<text text-anchor=\"middle\" x=\"144\" y=\"-109.8\" font-family=\"Times,serif\" font-size=\"14.00\">wind = no</text>\n",
              "<text text-anchor=\"middle\" x=\"144\" y=\"-94.8\" font-family=\"Times,serif\" font-size=\"14.00\">Gini = 0.2</text>\n",
              "</g>\n",
              "<!-- N20&#45;&gt;N21 -->\n",
              "<g id=\"edge5\" class=\"edge\">\n",
              "<title>N20-&gt;N21</title>\n",
              "<path fill=\"none\" stroke=\"black\" d=\"M191.57,-175.97C183.12,-163.73 171.8,-147.32 162.33,-133.58\"/>\n",
              "<polygon fill=\"black\" stroke=\"black\" points=\"164.97,-131.25 156.42,-125 159.21,-135.22 164.97,-131.25\"/>\n",
              "<text text-anchor=\"middle\" x=\"190\" y=\"-146.8\" font-family=\"Times,serif\" font-size=\"14.00\">Vrai</text>\n",
              "</g>\n",
              "<!-- N24 -->\n",
              "<g id=\"node7\" class=\"node\">\n",
              "<title>N24</title>\n",
              "<polygon fill=\"none\" stroke=\"black\" points=\"300.5,-125 199.5,-125 199.5,-87 300.5,-87 300.5,-125\"/>\n",
              "<text text-anchor=\"middle\" x=\"250\" y=\"-109.8\" font-family=\"Times,serif\" font-size=\"14.00\">weither = rainy</text>\n",
              "<text text-anchor=\"middle\" x=\"250\" y=\"-94.8\" font-family=\"Times,serif\" font-size=\"14.00\">Gini = 0.2</text>\n",
              "</g>\n",
              "<!-- N20&#45;&gt;N24 -->\n",
              "<g id=\"edge6\" class=\"edge\">\n",
              "<title>N20-&gt;N24</title>\n",
              "<path fill=\"none\" stroke=\"black\" d=\"M213.53,-175.97C219.95,-163.84 228.52,-147.63 235.74,-133.97\"/>\n",
              "<polygon fill=\"black\" stroke=\"black\" points=\"238.9,-135.48 240.48,-125 232.71,-132.21 238.9,-135.48\"/>\n",
              "<text text-anchor=\"middle\" x=\"244\" y=\"-146.8\" font-family=\"Times,serif\" font-size=\"14.00\">Faux</text>\n",
              "</g>\n",
              "<!-- N22 -->\n",
              "<g id=\"node5\" class=\"node\">\n",
              "<title>N22</title>\n",
              "<ellipse fill=\"none\" stroke=\"black\" cx=\"81\" cy=\"-18\" rx=\"27\" ry=\"18\"/>\n",
              "<text text-anchor=\"middle\" x=\"81\" y=\"-14.3\" font-family=\"Times,serif\" font-size=\"14.00\">yes</text>\n",
              "</g>\n",
              "<!-- N21&#45;&gt;N22 -->\n",
              "<g id=\"edge1\" class=\"edge\">\n",
              "<title>N21-&gt;N22</title>\n",
              "<path fill=\"none\" stroke=\"black\" d=\"M130.64,-86.76C121.25,-73.94 108.59,-56.66 98.41,-42.77\"/>\n",
              "<polygon fill=\"black\" stroke=\"black\" points=\"101.17,-40.62 92.44,-34.62 95.53,-44.75 101.17,-40.62\"/>\n",
              "<text text-anchor=\"middle\" x=\"129\" y=\"-57.8\" font-family=\"Times,serif\" font-size=\"14.00\">Vrai</text>\n",
              "</g>\n",
              "<!-- N23 -->\n",
              "<g id=\"node6\" class=\"node\">\n",
              "<title>N23</title>\n",
              "<ellipse fill=\"none\" stroke=\"black\" cx=\"153\" cy=\"-18\" rx=\"27\" ry=\"18\"/>\n",
              "<text text-anchor=\"middle\" x=\"153\" y=\"-14.3\" font-family=\"Times,serif\" font-size=\"14.00\">yes</text>\n",
              "</g>\n",
              "<!-- N21&#45;&gt;N23 -->\n",
              "<g id=\"edge2\" class=\"edge\">\n",
              "<title>N21-&gt;N23</title>\n",
              "<path fill=\"none\" stroke=\"black\" d=\"M145.91,-86.76C147.15,-74.93 148.78,-59.32 150.17,-46.05\"/>\n",
              "<polygon fill=\"black\" stroke=\"black\" points=\"153.66,-46.35 151.22,-36.04 146.69,-45.62 153.66,-46.35\"/>\n",
              "<text text-anchor=\"middle\" x=\"164\" y=\"-57.8\" font-family=\"Times,serif\" font-size=\"14.00\">Faux</text>\n",
              "</g>\n",
              "<!-- N25 -->\n",
              "<g id=\"node8\" class=\"node\">\n",
              "<title>N25</title>\n",
              "<ellipse fill=\"none\" stroke=\"black\" cx=\"233\" cy=\"-18\" rx=\"27\" ry=\"18\"/>\n",
              "<text text-anchor=\"middle\" x=\"233\" y=\"-14.3\" font-family=\"Times,serif\" font-size=\"14.00\">yes</text>\n",
              "</g>\n",
              "<!-- N24&#45;&gt;N25 -->\n",
              "<g id=\"edge3\" class=\"edge\">\n",
              "<title>N24-&gt;N25</title>\n",
              "<path fill=\"none\" stroke=\"black\" d=\"M246.39,-86.76C244.06,-74.93 240.97,-59.32 238.35,-46.05\"/>\n",
              "<polygon fill=\"black\" stroke=\"black\" points=\"241.74,-45.17 236.37,-36.04 234.87,-46.53 241.74,-45.17\"/>\n",
              "<text text-anchor=\"middle\" x=\"255\" y=\"-57.8\" font-family=\"Times,serif\" font-size=\"14.00\">Vrai</text>\n",
              "</g>\n",
              "<!-- N26 -->\n",
              "<g id=\"node9\" class=\"node\">\n",
              "<title>N26</title>\n",
              "<ellipse fill=\"none\" stroke=\"black\" cx=\"305\" cy=\"-18\" rx=\"27\" ry=\"18\"/>\n",
              "<text text-anchor=\"middle\" x=\"305\" y=\"-14.3\" font-family=\"Times,serif\" font-size=\"14.00\">no</text>\n",
              "</g>\n",
              "<!-- N24&#45;&gt;N26 -->\n",
              "<g id=\"edge4\" class=\"edge\">\n",
              "<title>N24-&gt;N26</title>\n",
              "<path fill=\"none\" stroke=\"black\" d=\"M261.66,-86.76C269.73,-74.14 280.57,-57.21 289.38,-43.42\"/>\n",
              "<polygon fill=\"black\" stroke=\"black\" points=\"292.39,-45.21 294.83,-34.9 286.5,-41.44 292.39,-45.21\"/>\n",
              "<text text-anchor=\"middle\" x=\"296\" y=\"-57.8\" font-family=\"Times,serif\" font-size=\"14.00\">Faux</text>\n",
              "</g>\n",
              "</g>\n",
              "</svg>"
            ],
            "text/plain": [
              "<IPython.core.display.SVG object>"
            ]
          },
          "metadata": {},
          "output_type": "display_data"
        },
        {
          "name": "stdout",
          "output_type": "stream",
          "text": [
            "\n",
            "-------------------------------------------------------------------------------\n",
            "\n",
            "Visualization of CART Decision Tree on heterogeneous data (features):\n"
          ]
        },
        {
          "data": {
            "image/svg+xml": [
              "<svg xmlns=\"http://www.w3.org/2000/svg\" xmlns:xlink=\"http://www.w3.org/1999/xlink\" width=\"359pt\" height=\"400pt\" viewBox=\"0.00 0.00 359.00 400.00\">\n",
              "<g id=\"graph0\" class=\"graph\" transform=\"scale(1 1) rotate(0) translate(4 396)\">\n",
              "<title>Tree</title>\n",
              "<polygon fill=\"white\" stroke=\"transparent\" points=\"-4,4 -4,-396 355,-396 355,4 -4,4\"/>\n",
              "<!-- N27 -->\n",
              "<g id=\"node1\" class=\"node\">\n",
              "<title>N27</title>\n",
              "<polygon fill=\"none\" stroke=\"black\" points=\"182,-392 0,-392 0,-354 182,-354 182,-392\"/>\n",
              "<text text-anchor=\"middle\" x=\"91\" y=\"-376.8\" font-family=\"Times,serif\" font-size=\"14.00\">weither = cloudy</text>\n",
              "<text text-anchor=\"middle\" x=\"91\" y=\"-361.8\" font-family=\"Times,serif\" font-size=\"14.00\">Gini = 0.35714285714285715</text>\n",
              "</g>\n",
              "<!-- N28 -->\n",
              "<g id=\"node2\" class=\"node\">\n",
              "<title>N28</title>\n",
              "<ellipse fill=\"none\" stroke=\"black\" cx=\"68\" cy=\"-284\" rx=\"27\" ry=\"18\"/>\n",
              "<text text-anchor=\"middle\" x=\"68\" y=\"-280.3\" font-family=\"Times,serif\" font-size=\"14.00\">yes</text>\n",
              "</g>\n",
              "<!-- N27&#45;&gt;N28 -->\n",
              "<g id=\"edge7\" class=\"edge\">\n",
              "<title>N27-&gt;N28</title>\n",
              "<path fill=\"none\" stroke=\"black\" d=\"M86.23,-353.97C83,-341.76 78.68,-325.4 75.06,-311.69\"/>\n",
              "<polygon fill=\"black\" stroke=\"black\" points=\"78.39,-310.6 72.45,-301.82 71.62,-312.39 78.39,-310.6\"/>\n",
              "<text text-anchor=\"middle\" x=\"93\" y=\"-324.8\" font-family=\"Times,serif\" font-size=\"14.00\">Vrai</text>\n",
              "</g>\n",
              "<!-- N29 -->\n",
              "<g id=\"node3\" class=\"node\">\n",
              "<title>N29</title>\n",
              "<polygon fill=\"none\" stroke=\"black\" points=\"224.5,-303 113.5,-303 113.5,-265 224.5,-265 224.5,-303\"/>\n",
              "<text text-anchor=\"middle\" x=\"169\" y=\"-287.8\" font-family=\"Times,serif\" font-size=\"14.00\">temperature &gt; 24</text>\n",
              "<text text-anchor=\"middle\" x=\"169\" y=\"-272.8\" font-family=\"Times,serif\" font-size=\"14.00\">Gini = 0.375</text>\n",
              "</g>\n",
              "<!-- N27&#45;&gt;N29 -->\n",
              "<g id=\"edge8\" class=\"edge\">\n",
              "<title>N27-&gt;N29</title>\n",
              "<path fill=\"none\" stroke=\"black\" d=\"M107.16,-353.97C118.35,-341.49 133.42,-324.69 145.87,-310.79\"/>\n",
              "<polygon fill=\"black\" stroke=\"black\" points=\"148.79,-312.79 152.86,-303 143.58,-308.11 148.79,-312.79\"/>\n",
              "<text text-anchor=\"middle\" x=\"149\" y=\"-324.8\" font-family=\"Times,serif\" font-size=\"14.00\">Faux</text>\n",
              "</g>\n",
              "<!-- N30 -->\n",
              "<g id=\"node4\" class=\"node\">\n",
              "<title>N30</title>\n",
              "<ellipse fill=\"none\" stroke=\"black\" cx=\"124\" cy=\"-195\" rx=\"27\" ry=\"18\"/>\n",
              "<text text-anchor=\"middle\" x=\"124\" y=\"-191.3\" font-family=\"Times,serif\" font-size=\"14.00\">no</text>\n",
              "</g>\n",
              "<!-- N29&#45;&gt;N30 -->\n",
              "<g id=\"edge5\" class=\"edge\">\n",
              "<title>N29-&gt;N30</title>\n",
              "<path fill=\"none\" stroke=\"black\" d=\"M159.68,-264.97C153.15,-252.36 144.34,-235.33 137.11,-221.34\"/>\n",
              "<polygon fill=\"black\" stroke=\"black\" points=\"140.1,-219.52 132.4,-212.24 133.89,-222.73 140.1,-219.52\"/>\n",
              "<text text-anchor=\"middle\" x=\"162\" y=\"-235.8\" font-family=\"Times,serif\" font-size=\"14.00\">Vrai</text>\n",
              "</g>\n",
              "<!-- N31 -->\n",
              "<g id=\"node5\" class=\"node\">\n",
              "<title>N31</title>\n",
              "<polygon fill=\"none\" stroke=\"black\" points=\"351,-214 169,-214 169,-176 351,-176 351,-214\"/>\n",
              "<text text-anchor=\"middle\" x=\"260\" y=\"-198.8\" font-family=\"Times,serif\" font-size=\"14.00\">temperature &gt; 18</text>\n",
              "<text text-anchor=\"middle\" x=\"260\" y=\"-183.8\" font-family=\"Times,serif\" font-size=\"14.00\">Gini = 0.35714285714285715</text>\n",
              "</g>\n",
              "<!-- N29&#45;&gt;N31 -->\n",
              "<g id=\"edge6\" class=\"edge\">\n",
              "<title>N29-&gt;N31</title>\n",
              "<path fill=\"none\" stroke=\"black\" d=\"M187.86,-264.97C201.15,-252.26 219.14,-235.06 233.83,-221.02\"/>\n",
              "<polygon fill=\"black\" stroke=\"black\" points=\"236.36,-223.44 241.17,-214 231.52,-218.38 236.36,-223.44\"/>\n",
              "<text text-anchor=\"middle\" x=\"234\" y=\"-235.8\" font-family=\"Times,serif\" font-size=\"14.00\">Faux</text>\n",
              "</g>\n",
              "<!-- N32 -->\n",
              "<g id=\"node6\" class=\"node\">\n",
              "<title>N32</title>\n",
              "<polygon fill=\"none\" stroke=\"black\" points=\"259.5,-125 84.5,-125 84.5,-87 259.5,-87 259.5,-125\"/>\n",
              "<text text-anchor=\"middle\" x=\"172\" y=\"-109.8\" font-family=\"Times,serif\" font-size=\"14.00\">temperature &gt; 21</text>\n",
              "<text text-anchor=\"middle\" x=\"172\" y=\"-94.8\" font-family=\"Times,serif\" font-size=\"14.00\">Gini = 0.2857142857142857</text>\n",
              "</g>\n",
              "<!-- N31&#45;&gt;N32 -->\n",
              "<g id=\"edge3\" class=\"edge\">\n",
              "<title>N31-&gt;N32</title>\n",
              "<path fill=\"none\" stroke=\"black\" d=\"M241.77,-175.97C229.02,-163.38 211.83,-146.38 197.7,-132.41\"/>\n",
              "<polygon fill=\"black\" stroke=\"black\" points=\"199.78,-129.54 190.21,-125 194.86,-134.52 199.78,-129.54\"/>\n",
              "<text text-anchor=\"middle\" x=\"234\" y=\"-146.8\" font-family=\"Times,serif\" font-size=\"14.00\">Vrai</text>\n",
              "</g>\n",
              "<!-- N35 -->\n",
              "<g id=\"node9\" class=\"node\">\n",
              "<title>N35</title>\n",
              "<ellipse fill=\"none\" stroke=\"black\" cx=\"305\" cy=\"-106\" rx=\"27\" ry=\"18\"/>\n",
              "<text text-anchor=\"middle\" x=\"305\" y=\"-102.3\" font-family=\"Times,serif\" font-size=\"14.00\">no</text>\n",
              "</g>\n",
              "<!-- N31&#45;&gt;N35 -->\n",
              "<g id=\"edge4\" class=\"edge\">\n",
              "<title>N31-&gt;N35</title>\n",
              "<path fill=\"none\" stroke=\"black\" d=\"M269.32,-175.97C275.85,-163.36 284.66,-146.33 291.89,-132.34\"/>\n",
              "<polygon fill=\"black\" stroke=\"black\" points=\"295.11,-133.73 296.6,-123.24 288.9,-130.52 295.11,-133.73\"/>\n",
              "<text text-anchor=\"middle\" x=\"300\" y=\"-146.8\" font-family=\"Times,serif\" font-size=\"14.00\">Faux</text>\n",
              "</g>\n",
              "<!-- N33 -->\n",
              "<g id=\"node7\" class=\"node\">\n",
              "<title>N33</title>\n",
              "<ellipse fill=\"none\" stroke=\"black\" cx=\"136\" cy=\"-18\" rx=\"27\" ry=\"18\"/>\n",
              "<text text-anchor=\"middle\" x=\"136\" y=\"-14.3\" font-family=\"Times,serif\" font-size=\"14.00\">yes</text>\n",
              "</g>\n",
              "<!-- N32&#45;&gt;N33 -->\n",
              "<g id=\"edge1\" class=\"edge\">\n",
              "<title>N32-&gt;N33</title>\n",
              "<path fill=\"none\" stroke=\"black\" d=\"M164.37,-86.76C159.25,-74.54 152.44,-58.27 146.78,-44.74\"/>\n",
              "<polygon fill=\"black\" stroke=\"black\" points=\"149.98,-43.34 142.89,-35.47 143.53,-46.04 149.98,-43.34\"/>\n",
              "<text text-anchor=\"middle\" x=\"169\" y=\"-57.8\" font-family=\"Times,serif\" font-size=\"14.00\">Vrai</text>\n",
              "</g>\n",
              "<!-- N34 -->\n",
              "<g id=\"node8\" class=\"node\">\n",
              "<title>N34</title>\n",
              "<ellipse fill=\"none\" stroke=\"black\" cx=\"208\" cy=\"-18\" rx=\"27\" ry=\"18\"/>\n",
              "<text text-anchor=\"middle\" x=\"208\" y=\"-14.3\" font-family=\"Times,serif\" font-size=\"14.00\">yes</text>\n",
              "</g>\n",
              "<!-- N32&#45;&gt;N34 -->\n",
              "<g id=\"edge2\" class=\"edge\">\n",
              "<title>N32-&gt;N34</title>\n",
              "<path fill=\"none\" stroke=\"black\" d=\"M179.63,-86.76C184.75,-74.54 191.56,-58.27 197.22,-44.74\"/>\n",
              "<polygon fill=\"black\" stroke=\"black\" points=\"200.47,-46.04 201.11,-35.47 194.02,-43.34 200.47,-46.04\"/>\n",
              "<text text-anchor=\"middle\" x=\"208\" y=\"-57.8\" font-family=\"Times,serif\" font-size=\"14.00\">Faux</text>\n",
              "</g>\n",
              "</g>\n",
              "</svg>"
            ],
            "text/plain": [
              "<IPython.core.display.SVG object>"
            ]
          },
          "metadata": {},
          "output_type": "display_data"
        }
      ],
      "source": [
        "# This is just a visualisation of the graph.\n",
        "# If it doesn't work, it isn't a big deal (you can move to the next cell).\n",
        "\n",
        "try:\n",
        "    from IPython.display import SVG\n",
        "    from graphviz import Source\n",
        "    from IPython.display import display\n",
        "\n",
        "    print(\"Visualization of CART Decision Tree on only nominal features :\")\n",
        "    graph1 = Source(cart_nom_classifier.graphviz())\n",
        "    display(SVG(graph1.pipe(format='svg')))\n",
        "\n",
        "    print(\"\\n-------------------------------------------------------------------------------\\n\")\n",
        "\n",
        "    print(\"Visualization of CART Decision Tree on heterogeneous data (features):\")\n",
        "    graph2 = Source(cart_num_classifier.graphviz())\n",
        "    display(SVG(graph2.pipe(format='svg')))\n",
        "\n",
        "except ImportError:\n",
        "    print(\"graphviz must be installed\")"
      ]
    },
    {
      "cell_type": "markdown",
      "metadata": {
        "id": "Qx-YKj3zuh6M"
      },
      "source": [
        "####  2.2.3 Benchmarking Performance : Sklearn VS Our models\n",
        "\n",
        "- In this section, We compare our implementation of ID3 and CART model against a the high-level implementation of decision tree classifiers with the python \"Scikit-Learn\" library.\n",
        "\n",
        "- We will use [Iris dataset](https://archive.ics.uci.edu/ml/datasets/iris) to classify flowers in three classes, using 4 features.\n",
        "\n",
        "We will train three models :\n",
        "- ID3 after discritization of the values\n",
        "- CART\n",
        "- Decision tree with scikit-learn library\n",
        "\n",
        "Description of the metrics :\n",
        "- the support is the number of samples\n",
        "- for each class, we provide the precision, the recall and the F1-score\n",
        "- micro avg : the metrics (precision, recall and F1-score) computed for the totality of the estimations (useful when the number of classes is unbalanced)\n",
        "- macro avg : the metrics computed for each class, then averaged\n",
        "- weighted avg: the metrics calculated for each class, multiplied by the equivalent support, summed, then divided by the total number of samples"
      ]
    },
    {
      "cell_type": "code",
      "execution_count": 56,
      "metadata": {
        "colab": {
          "base_uri": "https://localhost:8080/",
          "height": 677
        },
        "id": "MCc7L1h1uh6M",
        "outputId": "59e4e4d0-f002-417f-a10a-6b89309b3b28"
      },
      "outputs": [
        {
          "data": {
            "application/vnd.google.colaboratory.intrinsic+json": {
              "summary": "{\n  \"name\": \"#X_names, Y_name\",\n  \"rows\": 20,\n  \"fields\": [\n    {\n      \"column\": \"sepal_length\",\n      \"properties\": {\n        \"dtype\": \"number\",\n        \"std\": 0.8726849072651716,\n        \"min\": 4.3,\n        \"max\": 7.7,\n        \"num_unique_values\": 16,\n        \"samples\": [\n          6.8,\n          5.8,\n          6.5\n        ],\n        \"semantic_type\": \"\",\n        \"description\": \"\"\n      }\n    },\n    {\n      \"column\": \"sepal_width\",\n      \"properties\": {\n        \"dtype\": \"number\",\n        \"std\": 0.4633970674327398,\n        \"min\": 2.3,\n        \"max\": 4.0,\n        \"num_unique_values\": 12,\n        \"samples\": [\n          2.7,\n          2.4,\n          3.2\n        ],\n        \"semantic_type\": \"\",\n        \"description\": \"\"\n      }\n    },\n    {\n      \"column\": \"petal_length\",\n      \"properties\": {\n        \"dtype\": \"number\",\n        \"std\": 1.972548445139194,\n        \"min\": 1.1,\n        \"max\": 6.7,\n        \"num_unique_values\": 16,\n        \"samples\": [\n          5.9,\n          1.2,\n          1.3\n        ],\n        \"semantic_type\": \"\",\n        \"description\": \"\"\n      }\n    },\n    {\n      \"column\": \"petal_width\",\n      \"properties\": {\n        \"dtype\": \"number\",\n        \"std\": 0.812727700887249,\n        \"min\": 0.1,\n        \"max\": 2.3,\n        \"num_unique_values\": 13,\n        \"samples\": [\n          1.1,\n          1.6,\n          2.3\n        ],\n        \"semantic_type\": \"\",\n        \"description\": \"\"\n      }\n    },\n    {\n      \"column\": \"class\",\n      \"properties\": {\n        \"dtype\": \"category\",\n        \"num_unique_values\": 3,\n        \"samples\": [\n          \"Iris-virginica\",\n          \"Iris-setosa\",\n          \"Iris-versicolor\"\n        ],\n        \"semantic_type\": \"\",\n        \"description\": \"\"\n      }\n    }\n  ]\n}",
              "type": "dataframe"
            },
            "text/html": [
              "\n",
              "  <div id=\"df-e0726cb2-d925-470a-86c4-b47be6ad77aa\" class=\"colab-df-container\">\n",
              "    <div>\n",
              "<style scoped>\n",
              "    .dataframe tbody tr th:only-of-type {\n",
              "        vertical-align: middle;\n",
              "    }\n",
              "\n",
              "    .dataframe tbody tr th {\n",
              "        vertical-align: top;\n",
              "    }\n",
              "\n",
              "    .dataframe thead th {\n",
              "        text-align: right;\n",
              "    }\n",
              "</style>\n",
              "<table border=\"1\" class=\"dataframe\">\n",
              "  <thead>\n",
              "    <tr style=\"text-align: right;\">\n",
              "      <th></th>\n",
              "      <th>sepal_length</th>\n",
              "      <th>sepal_width</th>\n",
              "      <th>petal_length</th>\n",
              "      <th>petal_width</th>\n",
              "      <th>class</th>\n",
              "    </tr>\n",
              "  </thead>\n",
              "  <tbody>\n",
              "    <tr>\n",
              "      <th>143</th>\n",
              "      <td>6.8</td>\n",
              "      <td>3.2</td>\n",
              "      <td>5.9</td>\n",
              "      <td>2.3</td>\n",
              "      <td>Iris-virginica</td>\n",
              "    </tr>\n",
              "    <tr>\n",
              "      <th>14</th>\n",
              "      <td>5.8</td>\n",
              "      <td>4.0</td>\n",
              "      <td>1.2</td>\n",
              "      <td>0.2</td>\n",
              "      <td>Iris-setosa</td>\n",
              "    </tr>\n",
              "    <tr>\n",
              "      <th>93</th>\n",
              "      <td>5.0</td>\n",
              "      <td>2.3</td>\n",
              "      <td>3.3</td>\n",
              "      <td>1.0</td>\n",
              "      <td>Iris-versicolor</td>\n",
              "    </tr>\n",
              "    <tr>\n",
              "      <th>124</th>\n",
              "      <td>6.7</td>\n",
              "      <td>3.3</td>\n",
              "      <td>5.7</td>\n",
              "      <td>2.1</td>\n",
              "      <td>Iris-virginica</td>\n",
              "    </tr>\n",
              "    <tr>\n",
              "      <th>84</th>\n",
              "      <td>5.4</td>\n",
              "      <td>3.0</td>\n",
              "      <td>4.5</td>\n",
              "      <td>1.5</td>\n",
              "      <td>Iris-versicolor</td>\n",
              "    </tr>\n",
              "    <tr>\n",
              "      <th>40</th>\n",
              "      <td>5.0</td>\n",
              "      <td>3.5</td>\n",
              "      <td>1.3</td>\n",
              "      <td>0.3</td>\n",
              "      <td>Iris-setosa</td>\n",
              "    </tr>\n",
              "    <tr>\n",
              "      <th>104</th>\n",
              "      <td>6.5</td>\n",
              "      <td>3.0</td>\n",
              "      <td>5.8</td>\n",
              "      <td>2.2</td>\n",
              "      <td>Iris-virginica</td>\n",
              "    </tr>\n",
              "    <tr>\n",
              "      <th>149</th>\n",
              "      <td>5.9</td>\n",
              "      <td>3.0</td>\n",
              "      <td>5.1</td>\n",
              "      <td>1.8</td>\n",
              "      <td>Iris-virginica</td>\n",
              "    </tr>\n",
              "    <tr>\n",
              "      <th>3</th>\n",
              "      <td>4.6</td>\n",
              "      <td>3.1</td>\n",
              "      <td>1.5</td>\n",
              "      <td>0.2</td>\n",
              "      <td>Iris-setosa</td>\n",
              "    </tr>\n",
              "    <tr>\n",
              "      <th>121</th>\n",
              "      <td>5.6</td>\n",
              "      <td>2.8</td>\n",
              "      <td>4.9</td>\n",
              "      <td>2.0</td>\n",
              "      <td>Iris-virginica</td>\n",
              "    </tr>\n",
              "    <tr>\n",
              "      <th>18</th>\n",
              "      <td>5.7</td>\n",
              "      <td>3.8</td>\n",
              "      <td>1.7</td>\n",
              "      <td>0.3</td>\n",
              "      <td>Iris-setosa</td>\n",
              "    </tr>\n",
              "    <tr>\n",
              "      <th>19</th>\n",
              "      <td>5.1</td>\n",
              "      <td>3.8</td>\n",
              "      <td>1.5</td>\n",
              "      <td>0.3</td>\n",
              "      <td>Iris-setosa</td>\n",
              "    </tr>\n",
              "    <tr>\n",
              "      <th>38</th>\n",
              "      <td>4.4</td>\n",
              "      <td>3.0</td>\n",
              "      <td>1.3</td>\n",
              "      <td>0.2</td>\n",
              "      <td>Iris-setosa</td>\n",
              "    </tr>\n",
              "    <tr>\n",
              "      <th>57</th>\n",
              "      <td>4.9</td>\n",
              "      <td>2.4</td>\n",
              "      <td>3.3</td>\n",
              "      <td>1.0</td>\n",
              "      <td>Iris-versicolor</td>\n",
              "    </tr>\n",
              "    <tr>\n",
              "      <th>83</th>\n",
              "      <td>6.0</td>\n",
              "      <td>2.7</td>\n",
              "      <td>5.1</td>\n",
              "      <td>1.6</td>\n",
              "      <td>Iris-versicolor</td>\n",
              "    </tr>\n",
              "    <tr>\n",
              "      <th>122</th>\n",
              "      <td>7.7</td>\n",
              "      <td>2.8</td>\n",
              "      <td>6.7</td>\n",
              "      <td>2.0</td>\n",
              "      <td>Iris-virginica</td>\n",
              "    </tr>\n",
              "    <tr>\n",
              "      <th>49</th>\n",
              "      <td>5.0</td>\n",
              "      <td>3.3</td>\n",
              "      <td>1.4</td>\n",
              "      <td>0.2</td>\n",
              "      <td>Iris-setosa</td>\n",
              "    </tr>\n",
              "    <tr>\n",
              "      <th>43</th>\n",
              "      <td>5.0</td>\n",
              "      <td>3.5</td>\n",
              "      <td>1.6</td>\n",
              "      <td>0.6</td>\n",
              "      <td>Iris-setosa</td>\n",
              "    </tr>\n",
              "    <tr>\n",
              "      <th>69</th>\n",
              "      <td>5.6</td>\n",
              "      <td>2.5</td>\n",
              "      <td>3.9</td>\n",
              "      <td>1.1</td>\n",
              "      <td>Iris-versicolor</td>\n",
              "    </tr>\n",
              "    <tr>\n",
              "      <th>13</th>\n",
              "      <td>4.3</td>\n",
              "      <td>3.0</td>\n",
              "      <td>1.1</td>\n",
              "      <td>0.1</td>\n",
              "      <td>Iris-setosa</td>\n",
              "    </tr>\n",
              "  </tbody>\n",
              "</table>\n",
              "</div>\n",
              "    <div class=\"colab-df-buttons\">\n",
              "\n",
              "  <div class=\"colab-df-container\">\n",
              "    <button class=\"colab-df-convert\" onclick=\"convertToInteractive('df-e0726cb2-d925-470a-86c4-b47be6ad77aa')\"\n",
              "            title=\"Convert this dataframe to an interactive table.\"\n",
              "            style=\"display:none;\">\n",
              "\n",
              "  <svg xmlns=\"http://www.w3.org/2000/svg\" height=\"24px\" viewBox=\"0 -960 960 960\">\n",
              "    <path d=\"M120-120v-720h720v720H120Zm60-500h600v-160H180v160Zm220 220h160v-160H400v160Zm0 220h160v-160H400v160ZM180-400h160v-160H180v160Zm440 0h160v-160H620v160ZM180-180h160v-160H180v160Zm440 0h160v-160H620v160Z\"/>\n",
              "  </svg>\n",
              "    </button>\n",
              "\n",
              "  <style>\n",
              "    .colab-df-container {\n",
              "      display:flex;\n",
              "      gap: 12px;\n",
              "    }\n",
              "\n",
              "    .colab-df-convert {\n",
              "      background-color: #E8F0FE;\n",
              "      border: none;\n",
              "      border-radius: 50%;\n",
              "      cursor: pointer;\n",
              "      display: none;\n",
              "      fill: #1967D2;\n",
              "      height: 32px;\n",
              "      padding: 0 0 0 0;\n",
              "      width: 32px;\n",
              "    }\n",
              "\n",
              "    .colab-df-convert:hover {\n",
              "      background-color: #E2EBFA;\n",
              "      box-shadow: 0px 1px 2px rgba(60, 64, 67, 0.3), 0px 1px 3px 1px rgba(60, 64, 67, 0.15);\n",
              "      fill: #174EA6;\n",
              "    }\n",
              "\n",
              "    .colab-df-buttons div {\n",
              "      margin-bottom: 4px;\n",
              "    }\n",
              "\n",
              "    [theme=dark] .colab-df-convert {\n",
              "      background-color: #3B4455;\n",
              "      fill: #D2E3FC;\n",
              "    }\n",
              "\n",
              "    [theme=dark] .colab-df-convert:hover {\n",
              "      background-color: #434B5C;\n",
              "      box-shadow: 0px 1px 3px 1px rgba(0, 0, 0, 0.15);\n",
              "      filter: drop-shadow(0px 1px 2px rgba(0, 0, 0, 0.3));\n",
              "      fill: #FFFFFF;\n",
              "    }\n",
              "  </style>\n",
              "\n",
              "    <script>\n",
              "      const buttonEl =\n",
              "        document.querySelector('#df-e0726cb2-d925-470a-86c4-b47be6ad77aa button.colab-df-convert');\n",
              "      buttonEl.style.display =\n",
              "        google.colab.kernel.accessAllowed ? 'block' : 'none';\n",
              "\n",
              "      async function convertToInteractive(key) {\n",
              "        const element = document.querySelector('#df-e0726cb2-d925-470a-86c4-b47be6ad77aa');\n",
              "        const dataTable =\n",
              "          await google.colab.kernel.invokeFunction('convertToInteractive',\n",
              "                                                    [key], {});\n",
              "        if (!dataTable) return;\n",
              "\n",
              "        const docLinkHtml = 'Like what you see? Visit the ' +\n",
              "          '<a target=\"_blank\" href=https://colab.research.google.com/notebooks/data_table.ipynb>data table notebook</a>'\n",
              "          + ' to learn more about interactive tables.';\n",
              "        element.innerHTML = '';\n",
              "        dataTable['output_type'] = 'display_data';\n",
              "        await google.colab.output.renderOutput(dataTable, element);\n",
              "        const docLink = document.createElement('div');\n",
              "        docLink.innerHTML = docLinkHtml;\n",
              "        element.appendChild(docLink);\n",
              "      }\n",
              "    </script>\n",
              "  </div>\n",
              "\n",
              "\n",
              "<div id=\"df-a5940d51-35de-4c30-9d86-b1e6cdfe4b92\">\n",
              "  <button class=\"colab-df-quickchart\" onclick=\"quickchart('df-a5940d51-35de-4c30-9d86-b1e6cdfe4b92')\"\n",
              "            title=\"Suggest charts\"\n",
              "            style=\"display:none;\">\n",
              "\n",
              "<svg xmlns=\"http://www.w3.org/2000/svg\" height=\"24px\"viewBox=\"0 0 24 24\"\n",
              "     width=\"24px\">\n",
              "    <g>\n",
              "        <path d=\"M19 3H5c-1.1 0-2 .9-2 2v14c0 1.1.9 2 2 2h14c1.1 0 2-.9 2-2V5c0-1.1-.9-2-2-2zM9 17H7v-7h2v7zm4 0h-2V7h2v10zm4 0h-2v-4h2v4z\"/>\n",
              "    </g>\n",
              "</svg>\n",
              "  </button>\n",
              "\n",
              "<style>\n",
              "  .colab-df-quickchart {\n",
              "      --bg-color: #E8F0FE;\n",
              "      --fill-color: #1967D2;\n",
              "      --hover-bg-color: #E2EBFA;\n",
              "      --hover-fill-color: #174EA6;\n",
              "      --disabled-fill-color: #AAA;\n",
              "      --disabled-bg-color: #DDD;\n",
              "  }\n",
              "\n",
              "  [theme=dark] .colab-df-quickchart {\n",
              "      --bg-color: #3B4455;\n",
              "      --fill-color: #D2E3FC;\n",
              "      --hover-bg-color: #434B5C;\n",
              "      --hover-fill-color: #FFFFFF;\n",
              "      --disabled-bg-color: #3B4455;\n",
              "      --disabled-fill-color: #666;\n",
              "  }\n",
              "\n",
              "  .colab-df-quickchart {\n",
              "    background-color: var(--bg-color);\n",
              "    border: none;\n",
              "    border-radius: 50%;\n",
              "    cursor: pointer;\n",
              "    display: none;\n",
              "    fill: var(--fill-color);\n",
              "    height: 32px;\n",
              "    padding: 0;\n",
              "    width: 32px;\n",
              "  }\n",
              "\n",
              "  .colab-df-quickchart:hover {\n",
              "    background-color: var(--hover-bg-color);\n",
              "    box-shadow: 0 1px 2px rgba(60, 64, 67, 0.3), 0 1px 3px 1px rgba(60, 64, 67, 0.15);\n",
              "    fill: var(--button-hover-fill-color);\n",
              "  }\n",
              "\n",
              "  .colab-df-quickchart-complete:disabled,\n",
              "  .colab-df-quickchart-complete:disabled:hover {\n",
              "    background-color: var(--disabled-bg-color);\n",
              "    fill: var(--disabled-fill-color);\n",
              "    box-shadow: none;\n",
              "  }\n",
              "\n",
              "  .colab-df-spinner {\n",
              "    border: 2px solid var(--fill-color);\n",
              "    border-color: transparent;\n",
              "    border-bottom-color: var(--fill-color);\n",
              "    animation:\n",
              "      spin 1s steps(1) infinite;\n",
              "  }\n",
              "\n",
              "  @keyframes spin {\n",
              "    0% {\n",
              "      border-color: transparent;\n",
              "      border-bottom-color: var(--fill-color);\n",
              "      border-left-color: var(--fill-color);\n",
              "    }\n",
              "    20% {\n",
              "      border-color: transparent;\n",
              "      border-left-color: var(--fill-color);\n",
              "      border-top-color: var(--fill-color);\n",
              "    }\n",
              "    30% {\n",
              "      border-color: transparent;\n",
              "      border-left-color: var(--fill-color);\n",
              "      border-top-color: var(--fill-color);\n",
              "      border-right-color: var(--fill-color);\n",
              "    }\n",
              "    40% {\n",
              "      border-color: transparent;\n",
              "      border-right-color: var(--fill-color);\n",
              "      border-top-color: var(--fill-color);\n",
              "    }\n",
              "    60% {\n",
              "      border-color: transparent;\n",
              "      border-right-color: var(--fill-color);\n",
              "    }\n",
              "    80% {\n",
              "      border-color: transparent;\n",
              "      border-right-color: var(--fill-color);\n",
              "      border-bottom-color: var(--fill-color);\n",
              "    }\n",
              "    90% {\n",
              "      border-color: transparent;\n",
              "      border-bottom-color: var(--fill-color);\n",
              "    }\n",
              "  }\n",
              "</style>\n",
              "\n",
              "  <script>\n",
              "    async function quickchart(key) {\n",
              "      const quickchartButtonEl =\n",
              "        document.querySelector('#' + key + ' button');\n",
              "      quickchartButtonEl.disabled = true;  // To prevent multiple clicks.\n",
              "      quickchartButtonEl.classList.add('colab-df-spinner');\n",
              "      try {\n",
              "        const charts = await google.colab.kernel.invokeFunction(\n",
              "            'suggestCharts', [key], {});\n",
              "      } catch (error) {\n",
              "        console.error('Error during call to suggestCharts:', error);\n",
              "      }\n",
              "      quickchartButtonEl.classList.remove('colab-df-spinner');\n",
              "      quickchartButtonEl.classList.add('colab-df-quickchart-complete');\n",
              "    }\n",
              "    (() => {\n",
              "      let quickchartButtonEl =\n",
              "        document.querySelector('#df-a5940d51-35de-4c30-9d86-b1e6cdfe4b92 button');\n",
              "      quickchartButtonEl.style.display =\n",
              "        google.colab.kernel.accessAllowed ? 'block' : 'none';\n",
              "    })();\n",
              "  </script>\n",
              "</div>\n",
              "\n",
              "    </div>\n",
              "  </div>\n"
            ],
            "text/plain": [
              "     sepal_length  sepal_width  petal_length  petal_width            class\n",
              "143           6.8          3.2           5.9          2.3   Iris-virginica\n",
              "14            5.8          4.0           1.2          0.2      Iris-setosa\n",
              "93            5.0          2.3           3.3          1.0  Iris-versicolor\n",
              "124           6.7          3.3           5.7          2.1   Iris-virginica\n",
              "84            5.4          3.0           4.5          1.5  Iris-versicolor\n",
              "40            5.0          3.5           1.3          0.3      Iris-setosa\n",
              "104           6.5          3.0           5.8          2.2   Iris-virginica\n",
              "149           5.9          3.0           5.1          1.8   Iris-virginica\n",
              "3             4.6          3.1           1.5          0.2      Iris-setosa\n",
              "121           5.6          2.8           4.9          2.0   Iris-virginica\n",
              "18            5.7          3.8           1.7          0.3      Iris-setosa\n",
              "19            5.1          3.8           1.5          0.3      Iris-setosa\n",
              "38            4.4          3.0           1.3          0.2      Iris-setosa\n",
              "57            4.9          2.4           3.3          1.0  Iris-versicolor\n",
              "83            6.0          2.7           5.1          1.6  Iris-versicolor\n",
              "122           7.7          2.8           6.7          2.0   Iris-virginica\n",
              "49            5.0          3.3           1.4          0.2      Iris-setosa\n",
              "43            5.0          3.5           1.6          0.6      Iris-setosa\n",
              "69            5.6          2.5           3.9          1.1  Iris-versicolor\n",
              "13            4.3          3.0           1.1          0.1      Iris-setosa"
            ]
          },
          "execution_count": 56,
          "metadata": {},
          "output_type": "execute_result"
        }
      ],
      "source": [
        "import numpy as np\n",
        "import pandas as pd\n",
        "import matplotlib.pyplot as plt\n",
        "%matplotlib inline\n",
        "\n",
        "iris = pd.read_csv(\"data/iris.csv\")\n",
        "iris = iris.sample(frac=1)\n",
        "# Extraction des features\n",
        "X_iris = iris.iloc[:, :-1].values # Premières colonnes\n",
        "\n",
        "Y_iris = iris.iloc[:,-1].values # Dernière colonne\n",
        "\n",
        "X_names = list(iris.columns)[:-1]\n",
        "Y_name = list(iris.columns)[-1]\n",
        "\n",
        "# Split data on two sets : Training Set (80%) - Test Set (20%)\n",
        "\n",
        "## create a mask for filtering dataset, by creating 80% of randomly true labls\n",
        "## e.g, for a dataset with 5 instances (examples, rows),\n",
        "## we could generate a boolean mask array like : [True, True, True, False, True]\n",
        "## where 80% of boolean values are \"True\"\n",
        "iris_msk = np.random.rand(len(X_iris)) < 0.8\n",
        "\n",
        "## Train set :  Rows with \"True\" labels in the mask array\n",
        "X_iris_train = X_iris[iris_msk]\n",
        "Y_iris_train = Y_iris[iris_msk]\n",
        "\n",
        "## Test set :  Rows with \"False\" labels in the mask array\n",
        "## to select these rows in pandas, we need to invert the values of the boolean mask array\n",
        "## for the previous example we will get the following mask array : [False, False, False, True, False]\n",
        "## ~ : it's a logical not operation\n",
        "\n",
        "X_iris_test = X_iris[~iris_msk]\n",
        "Y_iris_test = Y_iris[~iris_msk]\n",
        "\n",
        "# print first 20 rows\n",
        "iris.head(20)\n",
        "#X_names, Y_name"
      ]
    },
    {
      "cell_type": "code",
      "execution_count": 57,
      "metadata": {
        "colab": {
          "base_uri": "https://localhost:8080/"
        },
        "id": "R2o7nVbeuh6N",
        "outputId": "0a9a8f02-9713-4d59-eefa-ad5240f53155"
      },
      "outputs": [
        {
          "name": "stdout",
          "output_type": "stream",
          "text": [
            "['Iris-setosa' 'Iris-versicolor' 'Iris-virginica']\n"
          ]
        }
      ],
      "source": [
        "# Traget classes : we have 3 classes\n",
        "print(np.unique(Y_iris))"
      ]
    },
    {
      "cell_type": "markdown",
      "metadata": {
        "id": "NzElFmDBuh6N"
      },
      "source": [
        "##### Building Our Models :\n",
        "\n",
        "##### 1\\ ID3 after discritization\n",
        "\n",
        "- STEP 01 : Deatures Discritization"
      ]
    },
    {
      "cell_type": "code",
      "execution_count": 60,
      "metadata": {
        "id": "OSfDmiVDuh6N"
      },
      "outputs": [],
      "source": [
        "# import frome sklearn library the KBinsDiscretizer function :\n",
        "# to transforme continuous data into intervals (discritization) .\n",
        "# Check the documentation : https://scikit-learn.org/stable/modules/generated/sklearn.preprocessing.KBinsDiscretizer.html\n",
        "from sklearn.preprocessing import KBinsDiscretizer\n",
        "\n",
        "est = KBinsDiscretizer(n_bins=3, encode='ordinal', strategy='uniform')\n",
        "# Fit the data\n",
        "est.fit(X_iris)\n",
        "# Transform the date\n",
        "X_iris_disc = est.transform(X_iris)"
      ]
    },
    {
      "cell_type": "code",
      "execution_count": 61,
      "metadata": {
        "colab": {
          "base_uri": "https://localhost:8080/"
        },
        "id": "H8di4rlHuh6N",
        "outputId": "349d8b6a-4f6d-44a4-82d9-665107f7f445"
      },
      "outputs": [
        {
          "data": {
            "text/plain": [
              "array([[2., 1., 2., 2.],\n",
              "       [1., 2., 0., 0.],\n",
              "       [0., 0., 1., 1.],\n",
              "       [2., 1., 2., 2.],\n",
              "       [0., 1., 1., 1.],\n",
              "       [0., 1., 0., 0.],\n",
              "       [1., 1., 2., 2.],\n",
              "       [1., 1., 2., 2.],\n",
              "       [0., 1., 0., 0.],\n",
              "       [1., 0., 1., 2.]])"
            ]
          },
          "execution_count": 61,
          "metadata": {},
          "output_type": "execute_result"
        }
      ],
      "source": [
        "# print the first 10 rows\n",
        "X_iris_disc[:10]"
      ]
    },
    {
      "cell_type": "markdown",
      "metadata": {
        "id": "5nSCDEBNuh6O"
      },
      "source": [
        "- STEP 02 : Train the model"
      ]
    },
    {
      "cell_type": "code",
      "execution_count": 62,
      "metadata": {
        "id": "JdtwLYQyuh6O"
      },
      "outputs": [],
      "source": [
        "# Get \"Training\" data out the uniformally discretized data\n",
        "X_iris_disc_train = X_iris_disc[iris_msk]\n",
        "\n",
        "# Train the model Like Cristiano Ronaldo\n",
        "id3_iris = ID3()\n",
        "id3_iris.train(X_iris_disc_train, Y_iris_train, X_names=X_names, Y_name=Y_name, pruning=True)\n",
        "\n",
        "# Evaluation : predict the the unseen test attributs\n",
        "# Get \"Testing\" data out the uniformally discretized data\n",
        "X_iris_disc_test = X_iris_disc[~iris_msk]\n",
        "id3_iris_res = id3_iris.predict(X_iris_disc_test)"
      ]
    },
    {
      "cell_type": "markdown",
      "metadata": {
        "id": "4FPd--s_uh6O"
      },
      "source": [
        "##### 2\\ CART Model"
      ]
    },
    {
      "cell_type": "code",
      "execution_count": 63,
      "metadata": {
        "id": "jifnfEn1uh6P"
      },
      "outputs": [],
      "source": [
        "# Train CART classifier\n",
        "cart_iris = CART()\n",
        "cart_iris.train(X_iris_train, Y_iris_train, X_names=X_names, Y_name=Y_name)\n",
        "cart_iris_res = cart_iris.predict(X_iris_test)"
      ]
    },
    {
      "cell_type": "markdown",
      "metadata": {
        "id": "ysWcGFpluh6P"
      },
      "source": [
        "##### 3\\ Build and Train a Decision Tree (classifier) with scikit-learn library\n",
        "- **Scikit-learn (Sklearn)** is a python library for machine learning. It provides a selection of tools for machine learning and statistical modeling : including classification, regression and clustering ... via a Python interface. This library, which is largely written in Python, is built upon NumPy, SciPy and Matplotlib.\n",
        "- To builf decision trees with this high level library we call the **DecisionTreeClassifier** class.\n",
        "- **DecisionTreeClassifier :** is a class capable of performing multi-class classification on a dataset.\n",
        "- Check Also : https://scikit-learn.org/stable/modules/generated/sklearn.tree.DecisionTreeClassifier.html#sklearn.tree.DecisionTreeClassifier\n",
        "\n",
        "\n",
        "**NB:** *In the Scikit-learn implementation of decision trees, the features are randomly swapped at each division. This makes the tree non-deterministic. To stop this, we use the property random_state=0.*"
      ]
    },
    {
      "cell_type": "code",
      "execution_count": 64,
      "metadata": {
        "id": "C6EKxOqBuh6P"
      },
      "outputs": [],
      "source": [
        "# sklearn\n",
        "from sklearn.tree import DecisionTreeClassifier\n",
        "\n",
        "sklearn_cart_iris = DecisionTreeClassifier(random_state=0)\n",
        "sklearn_cart_iris.fit(X_iris_train, Y_iris_train)\n",
        "sklearn_cart_iris_res = sklearn_cart_iris.predict(X_iris_test)"
      ]
    },
    {
      "cell_type": "markdown",
      "metadata": {
        "id": "L3jPRf97uh6Q"
      },
      "source": [
        "**Benchmarking :**"
      ]
    },
    {
      "cell_type": "code",
      "execution_count": 65,
      "metadata": {
        "colab": {
          "base_uri": "https://localhost:8080/"
        },
        "id": "OjCqihi5uh6Q",
        "outputId": "c5042bbd-2295-4d24-f5d4-10a40851216b"
      },
      "outputs": [
        {
          "name": "stdout",
          "output_type": "stream",
          "text": [
            "ID3\n",
            "                 precision    recall  f1-score   support\n",
            "\n",
            "    Iris-setosa       1.00      1.00      1.00        16\n",
            "Iris-versicolor       1.00      0.88      0.93         8\n",
            " Iris-virginica       0.89      1.00      0.94         8\n",
            "\n",
            "       accuracy                           0.97        32\n",
            "      macro avg       0.96      0.96      0.96        32\n",
            "   weighted avg       0.97      0.97      0.97        32\n",
            "\n",
            "CART\n",
            "                 precision    recall  f1-score   support\n",
            "\n",
            "    Iris-setosa       1.00      1.00      1.00        16\n",
            "Iris-versicolor       0.00      0.00      0.00         8\n",
            " Iris-virginica       0.50      1.00      0.67         8\n",
            "\n",
            "       accuracy                           0.75        32\n",
            "      macro avg       0.50      0.67      0.56        32\n",
            "   weighted avg       0.62      0.75      0.67        32\n",
            "\n",
            "Scikit-learn\n",
            "                 precision    recall  f1-score   support\n",
            "\n",
            "    Iris-setosa       1.00      1.00      1.00        16\n",
            "Iris-versicolor       1.00      0.88      0.93         8\n",
            " Iris-virginica       0.89      1.00      0.94         8\n",
            "\n",
            "       accuracy                           0.97        32\n",
            "      macro avg       0.96      0.96      0.96        32\n",
            "   weighted avg       0.97      0.97      0.97        32\n",
            "\n"
          ]
        },
        {
          "name": "stderr",
          "output_type": "stream",
          "text": [
            "/usr/local/lib/python3.11/dist-packages/sklearn/metrics/_classification.py:1565: UndefinedMetricWarning: Precision is ill-defined and being set to 0.0 in labels with no predicted samples. Use `zero_division` parameter to control this behavior.\n",
            "  _warn_prf(average, modifier, f\"{metric.capitalize()} is\", len(result))\n",
            "/usr/local/lib/python3.11/dist-packages/sklearn/metrics/_classification.py:1565: UndefinedMetricWarning: Precision is ill-defined and being set to 0.0 in labels with no predicted samples. Use `zero_division` parameter to control this behavior.\n",
            "  _warn_prf(average, modifier, f\"{metric.capitalize()} is\", len(result))\n",
            "/usr/local/lib/python3.11/dist-packages/sklearn/metrics/_classification.py:1565: UndefinedMetricWarning: Precision is ill-defined and being set to 0.0 in labels with no predicted samples. Use `zero_division` parameter to control this behavior.\n",
            "  _warn_prf(average, modifier, f\"{metric.capitalize()} is\", len(result))\n"
          ]
        }
      ],
      "source": [
        "# The classification evaluation report\n",
        "from sklearn.metrics import classification_report\n",
        "\n",
        "print(\"ID3\")\n",
        "print(classification_report(Y_iris_test, id3_iris_res))\n",
        "\n",
        "\n",
        "print(\"CART\")\n",
        "print(classification_report(Y_iris_test, cart_iris_res))\n",
        "\n",
        "print(\"Scikit-learn\")\n",
        "print(classification_report(Y_iris_test, sklearn_cart_iris_res))\n",
        "\n",
        "# Ignore the warning"
      ]
    },
    {
      "cell_type": "markdown",
      "metadata": {
        "id": "8r0rzJHXuh6Q"
      },
      "source": [
        "**Analyze these results (Q7):**\n",
        "\n",
        "- Test the performance of three models\n",
        "- The comparison must be based on the metrics : precision, recall and F1 score."
      ]
    },
    {
      "cell_type": "markdown",
      "metadata": {
        "id": "1tT26XsFuh6Q"
      },
      "source": [
        "**Your Answer (A7):**\n",
        "[ Write your answer here ]\n",
        "\n",
        "ID3:\n",
        "- High accuracy (0.97), consistent F1-scores (1.00, 0.93, 0.94) across all Iris classes.\n",
        "- Robust and accurate classification, comparable to Scikit-learn.\n",
        "\n",
        "CART:\n",
        "- Lower accuracy (0.75), failed on 'Iris-versicolor' (F1-score 0.00).\n",
        "- Limited performance, potentially due to overfitting or splitting issues.\n"
      ]
    },
    {
      "cell_type": "markdown",
      "metadata": {
        "id": "9Aa6RsUzuh6Q"
      },
      "source": [
        "## References\n",
        "1. [Quinlan, J. R. (1986). Induction of decision trees. Machine learning, 1(1), 81-106.](https://link.springer.com/content/pdf/10.1007/BF00116251.pdf)\n",
        "\n",
        "2. [Quinlan, J. R. C4.5: Programs for Machine Learning. Morgan Kaufmann Publishers, 1993.](https://books.google.fr/books?hl=fr&lr=&id=b3ujBQAAQBAJ&oi=fnd&pg=PP1&dq=C4.+5:+Programs+for+machine+learning&ots=sR7pRTJuC2&sig=hmtbed3-eUljdUvf6eoM2vfrbHQ&redir_esc=y#v=onepage&q=C4.%205%3A%20Programs%20for%20machine%20learning&f=false)\n",
        "\n",
        "4. [Breiman, L., Freidman, J.H., Olshen, R.A., & Stone, C.J. (1984). CART: Classification and Regression Trees.](http://www.math.ku.dk/~richard/courses/statlearn2009/lecture10.pdf).\n",
        "5. [Shannon, C. E. (1948). A mathematical theory of communication. The Bell system technical journal, 27(3), 379-423.](https://pure.mpg.de/rest/items/item_2383164/component/file_2383163/content)"
      ]
    }
  ],
  "metadata": {
    "colab": {
      "provenance": []
    },
    "kernelspec": {
      "display_name": ".venv",
      "language": "python",
      "name": "python3"
    },
    "language_info": {
      "codemirror_mode": {
        "name": "ipython",
        "version": 3
      },
      "file_extension": ".py",
      "mimetype": "text/x-python",
      "name": "python",
      "nbconvert_exporter": "python",
      "pygments_lexer": "ipython3",
      "version": "3.12.9"
    }
  },
  "nbformat": 4,
  "nbformat_minor": 0
}
